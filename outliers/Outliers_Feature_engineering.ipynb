{
 "cells": [
  {
   "cell_type": "code",
   "execution_count": 1,
   "metadata": {},
   "outputs": [],
   "source": [
    "import numpy as np\n",
    "import pandas as pd\n",
    "import matplotlib.pyplot as plt\n",
    "import seaborn as sns"
   ]
  },
  {
   "cell_type": "code",
   "execution_count": 2,
   "metadata": {},
   "outputs": [
    {
     "data": {
      "text/html": [
       "<div>\n",
       "<style scoped>\n",
       "    .dataframe tbody tr th:only-of-type {\n",
       "        vertical-align: middle;\n",
       "    }\n",
       "\n",
       "    .dataframe tbody tr th {\n",
       "        vertical-align: top;\n",
       "    }\n",
       "\n",
       "    .dataframe thead th {\n",
       "        text-align: right;\n",
       "    }\n",
       "</style>\n",
       "<table border=\"1\" class=\"dataframe\">\n",
       "  <thead>\n",
       "    <tr style=\"text-align: right;\">\n",
       "      <th></th>\n",
       "      <th>PID</th>\n",
       "      <th>MS SubClass</th>\n",
       "      <th>MS Zoning</th>\n",
       "      <th>Lot Frontage</th>\n",
       "      <th>Lot Area</th>\n",
       "      <th>Street</th>\n",
       "      <th>Alley</th>\n",
       "      <th>Lot Shape</th>\n",
       "      <th>Land Contour</th>\n",
       "      <th>Utilities</th>\n",
       "      <th>...</th>\n",
       "      <th>Pool Area</th>\n",
       "      <th>Pool QC</th>\n",
       "      <th>Fence</th>\n",
       "      <th>Misc Feature</th>\n",
       "      <th>Misc Val</th>\n",
       "      <th>Mo Sold</th>\n",
       "      <th>Yr Sold</th>\n",
       "      <th>Sale Type</th>\n",
       "      <th>Sale Condition</th>\n",
       "      <th>SalePrice</th>\n",
       "    </tr>\n",
       "  </thead>\n",
       "  <tbody>\n",
       "    <tr>\n",
       "      <th>0</th>\n",
       "      <td>526301100</td>\n",
       "      <td>20</td>\n",
       "      <td>RL</td>\n",
       "      <td>141.0</td>\n",
       "      <td>31770</td>\n",
       "      <td>Pave</td>\n",
       "      <td>NaN</td>\n",
       "      <td>IR1</td>\n",
       "      <td>Lvl</td>\n",
       "      <td>AllPub</td>\n",
       "      <td>...</td>\n",
       "      <td>0</td>\n",
       "      <td>NaN</td>\n",
       "      <td>NaN</td>\n",
       "      <td>NaN</td>\n",
       "      <td>0</td>\n",
       "      <td>5</td>\n",
       "      <td>2010</td>\n",
       "      <td>WD</td>\n",
       "      <td>Normal</td>\n",
       "      <td>215000</td>\n",
       "    </tr>\n",
       "    <tr>\n",
       "      <th>1</th>\n",
       "      <td>526350040</td>\n",
       "      <td>20</td>\n",
       "      <td>RH</td>\n",
       "      <td>80.0</td>\n",
       "      <td>11622</td>\n",
       "      <td>Pave</td>\n",
       "      <td>NaN</td>\n",
       "      <td>Reg</td>\n",
       "      <td>Lvl</td>\n",
       "      <td>AllPub</td>\n",
       "      <td>...</td>\n",
       "      <td>0</td>\n",
       "      <td>NaN</td>\n",
       "      <td>MnPrv</td>\n",
       "      <td>NaN</td>\n",
       "      <td>0</td>\n",
       "      <td>6</td>\n",
       "      <td>2010</td>\n",
       "      <td>WD</td>\n",
       "      <td>Normal</td>\n",
       "      <td>105000</td>\n",
       "    </tr>\n",
       "    <tr>\n",
       "      <th>2</th>\n",
       "      <td>526351010</td>\n",
       "      <td>20</td>\n",
       "      <td>RL</td>\n",
       "      <td>81.0</td>\n",
       "      <td>14267</td>\n",
       "      <td>Pave</td>\n",
       "      <td>NaN</td>\n",
       "      <td>IR1</td>\n",
       "      <td>Lvl</td>\n",
       "      <td>AllPub</td>\n",
       "      <td>...</td>\n",
       "      <td>0</td>\n",
       "      <td>NaN</td>\n",
       "      <td>NaN</td>\n",
       "      <td>Gar2</td>\n",
       "      <td>12500</td>\n",
       "      <td>6</td>\n",
       "      <td>2010</td>\n",
       "      <td>WD</td>\n",
       "      <td>Normal</td>\n",
       "      <td>172000</td>\n",
       "    </tr>\n",
       "    <tr>\n",
       "      <th>3</th>\n",
       "      <td>526353030</td>\n",
       "      <td>20</td>\n",
       "      <td>RL</td>\n",
       "      <td>93.0</td>\n",
       "      <td>11160</td>\n",
       "      <td>Pave</td>\n",
       "      <td>NaN</td>\n",
       "      <td>Reg</td>\n",
       "      <td>Lvl</td>\n",
       "      <td>AllPub</td>\n",
       "      <td>...</td>\n",
       "      <td>0</td>\n",
       "      <td>NaN</td>\n",
       "      <td>NaN</td>\n",
       "      <td>NaN</td>\n",
       "      <td>0</td>\n",
       "      <td>4</td>\n",
       "      <td>2010</td>\n",
       "      <td>WD</td>\n",
       "      <td>Normal</td>\n",
       "      <td>244000</td>\n",
       "    </tr>\n",
       "    <tr>\n",
       "      <th>4</th>\n",
       "      <td>527105010</td>\n",
       "      <td>60</td>\n",
       "      <td>RL</td>\n",
       "      <td>74.0</td>\n",
       "      <td>13830</td>\n",
       "      <td>Pave</td>\n",
       "      <td>NaN</td>\n",
       "      <td>IR1</td>\n",
       "      <td>Lvl</td>\n",
       "      <td>AllPub</td>\n",
       "      <td>...</td>\n",
       "      <td>0</td>\n",
       "      <td>NaN</td>\n",
       "      <td>MnPrv</td>\n",
       "      <td>NaN</td>\n",
       "      <td>0</td>\n",
       "      <td>3</td>\n",
       "      <td>2010</td>\n",
       "      <td>WD</td>\n",
       "      <td>Normal</td>\n",
       "      <td>189900</td>\n",
       "    </tr>\n",
       "  </tbody>\n",
       "</table>\n",
       "<p>5 rows × 81 columns</p>\n",
       "</div>"
      ],
      "text/plain": [
       "         PID  MS SubClass MS Zoning  Lot Frontage  Lot Area Street Alley  \\\n",
       "0  526301100           20        RL         141.0     31770   Pave   NaN   \n",
       "1  526350040           20        RH          80.0     11622   Pave   NaN   \n",
       "2  526351010           20        RL          81.0     14267   Pave   NaN   \n",
       "3  526353030           20        RL          93.0     11160   Pave   NaN   \n",
       "4  527105010           60        RL          74.0     13830   Pave   NaN   \n",
       "\n",
       "  Lot Shape Land Contour Utilities  ... Pool Area Pool QC  Fence Misc Feature  \\\n",
       "0       IR1          Lvl    AllPub  ...         0     NaN    NaN          NaN   \n",
       "1       Reg          Lvl    AllPub  ...         0     NaN  MnPrv          NaN   \n",
       "2       IR1          Lvl    AllPub  ...         0     NaN    NaN         Gar2   \n",
       "3       Reg          Lvl    AllPub  ...         0     NaN    NaN          NaN   \n",
       "4       IR1          Lvl    AllPub  ...         0     NaN  MnPrv          NaN   \n",
       "\n",
       "  Misc Val Mo Sold Yr Sold  Sale Type  Sale Condition  SalePrice  \n",
       "0        0       5    2010        WD           Normal     215000  \n",
       "1        0       6    2010        WD           Normal     105000  \n",
       "2    12500       6    2010        WD           Normal     172000  \n",
       "3        0       4    2010        WD           Normal     244000  \n",
       "4        0       3    2010        WD           Normal     189900  \n",
       "\n",
       "[5 rows x 81 columns]"
      ]
     },
     "execution_count": 2,
     "metadata": {},
     "output_type": "execute_result"
    }
   ],
   "source": [
    "df=pd.read_csv(r\"C:\\Users\\dhire\\Documents\\Machine_learning_Inuron\\ML_Live_Class\\data\\Ames_Housing_Data.csv\")\n",
    "df.head()"
   ]
  },
  {
   "cell_type": "code",
   "execution_count": 4,
   "metadata": {},
   "outputs": [
    {
     "data": {
      "text/plain": [
       "(2930, 81)"
      ]
     },
     "execution_count": 4,
     "metadata": {},
     "output_type": "execute_result"
    }
   ],
   "source": [
    "df.shape"
   ]
  },
  {
   "cell_type": "code",
   "execution_count": 5,
   "metadata": {},
   "outputs": [],
   "source": [
    "##creating a random distribution of numbers\n",
    "def create_numbers(mu=54,sigma=15,number_samples=100,seed=42):\n",
    "    np.random.seed(seed)\n",
    "    sample_numbers=np.random.normal(loc=mu,scale=sigma,size=number_samples)\n",
    "    sample_numbers=np.round(sample_numbers,decimals=0)\n",
    "    return sample_numbers\n"
   ]
  },
  {
   "cell_type": "code",
   "execution_count": 6,
   "metadata": {},
   "outputs": [
    {
     "name": "stdout",
     "output_type": "stream",
     "text": [
      "[61. 52. 64. 77. 50. 50. 78. 66. 47. 62. 47. 47. 58. 25. 28. 46. 39. 59.\n",
      " 40. 33. 76. 51. 55. 33. 46. 56. 37. 60. 45. 50. 45. 82. 54. 38. 66. 36.\n",
      " 57. 25. 34. 57. 65. 57. 52. 49. 32. 43. 47. 70. 59. 28. 59. 48. 44. 63.\n",
      " 69. 68. 41. 49. 59. 69. 47. 51. 37. 36. 66. 74. 53. 69. 59. 44. 59. 77.\n",
      " 53. 77. 15. 66. 55. 50. 55. 24. 51. 59. 76. 46. 42. 46. 68. 59. 46. 62.\n",
      " 55. 69. 43. 49. 48. 32. 58. 58. 54. 50.]\n"
     ]
    }
   ],
   "source": [
    "sample=create_numbers()\n",
    "print(sample)"
   ]
  },
  {
   "cell_type": "code",
   "execution_count": 7,
   "metadata": {},
   "outputs": [
    {
     "data": {
      "text/plain": [
       "<seaborn.axisgrid.FacetGrid at 0x2286de00d68>"
      ]
     },
     "execution_count": 7,
     "metadata": {},
     "output_type": "execute_result"
    },
    {
     "data": {
      "image/png": "[encoded data removed]",
      "text/plain": [
       "<Figure size 360x360 with 1 Axes>"
      ]
     },
     "metadata": {
      "needs_background": "light"
     },
     "output_type": "display_data"
    }
   ],
   "source": [
    "sns.displot(sample,bins=20)"
   ]
  },
  {
   "cell_type": "code",
   "execution_count": 8,
   "metadata": {},
   "outputs": [
    {
     "name": "stderr",
     "output_type": "stream",
     "text": [
      "C:\\Users\\dhire\\anaconda3\\envs\\dhiraj_ml_march\\lib\\site-packages\\seaborn\\_decorators.py:43: FutureWarning: Pass the following variable as a keyword arg: x. From version 0.12, the only valid positional argument will be `data`, and passing other arguments without an explicit keyword will result in an error or misinterpretation.\n",
      "  FutureWarning\n"
     ]
    },
    {
     "data": {
      "text/plain": [
       "<AxesSubplot:>"
      ]
     },
     "execution_count": 8,
     "metadata": {},
     "output_type": "execute_result"
    },
    {
     "data": {
      "image/png": "[encoded data removed]",
      "text/plain": [
       "<Figure size 432x288 with 1 Axes>"
      ]
     },
     "metadata": {
      "needs_background": "light"
     },
     "output_type": "display_data"
    }
   ],
   "source": [
    "sns.boxplot(sample)"
   ]
  },
  {
   "cell_type": "code",
   "execution_count": 9,
   "metadata": {},
   "outputs": [],
   "source": [
    "ser=pd.Series(sample)"
   ]
  },
  {
   "cell_type": "code",
   "execution_count": 14,
   "metadata": {},
   "outputs": [
    {
     "data": {
      "text/plain": [
       "0     61.0\n",
       "1     52.0\n",
       "2     64.0\n",
       "3     77.0\n",
       "4     50.0\n",
       "      ... \n",
       "95    32.0\n",
       "96    58.0\n",
       "97    58.0\n",
       "98    54.0\n",
       "99    50.0\n",
       "Length: 100, dtype: float64"
      ]
     },
     "execution_count": 14,
     "metadata": {},
     "output_type": "execute_result"
    }
   ],
   "source": [
    "ser"
   ]
  },
  {
   "cell_type": "code",
   "execution_count": 12,
   "metadata": {},
   "outputs": [
    {
     "data": {
      "text/plain": [
       "count    100.000000\n",
       "mean      52.410000\n",
       "std       13.610079\n",
       "min       15.000000\n",
       "25%       45.000000\n",
       "50%       52.000000\n",
       "75%       60.250000\n",
       "max       82.000000\n",
       "dtype: float64"
      ]
     },
     "execution_count": 12,
     "metadata": {},
     "output_type": "execute_result"
    }
   ],
   "source": [
    "ser.describe()"
   ]
  },
  {
   "cell_type": "code",
   "execution_count": 13,
   "metadata": {},
   "outputs": [
    {
     "name": "stdout",
     "output_type": "stream",
     "text": [
      "22.125\n",
      "83.125\n"
     ]
    }
   ],
   "source": [
    "IQR=60.25-45.00\n",
    "lower_limit=45.00-1.5*IQR\n",
    "print(lower_limit)\n",
    "upper_limit=60.25+1.5*IQR\n",
    "print(upper_limit)\n"
   ]
  },
  {
   "cell_type": "code",
   "execution_count": 15,
   "metadata": {},
   "outputs": [
    {
     "data": {
      "text/plain": [
       "0     61.0\n",
       "1     52.0\n",
       "2     64.0\n",
       "3     77.0\n",
       "4     50.0\n",
       "      ... \n",
       "95    32.0\n",
       "96    58.0\n",
       "97    58.0\n",
       "98    54.0\n",
       "99    50.0\n",
       "Length: 99, dtype: float64"
      ]
     },
     "execution_count": 15,
     "metadata": {},
     "output_type": "execute_result"
    }
   ],
   "source": [
    "ser[ser>lower_limit]"
   ]
  },
  {
   "cell_type": "code",
   "execution_count": 18,
   "metadata": {},
   "outputs": [],
   "source": [
    "###other way\n",
    "q75,q25=np.percentile(sample,[75,25])"
   ]
  },
  {
   "cell_type": "code",
   "execution_count": 19,
   "metadata": {},
   "outputs": [
    {
     "data": {
      "text/plain": [
       "60.25"
      ]
     },
     "execution_count": 19,
     "metadata": {},
     "output_type": "execute_result"
    }
   ],
   "source": [
    "q75"
   ]
  },
  {
   "cell_type": "code",
   "execution_count": 20,
   "metadata": {},
   "outputs": [
    {
     "data": {
      "text/plain": [
       "45.0"
      ]
     },
     "execution_count": 20,
     "metadata": {},
     "output_type": "execute_result"
    }
   ],
   "source": [
    "q25"
   ]
  },
  {
   "cell_type": "code",
   "execution_count": 21,
   "metadata": {},
   "outputs": [],
   "source": [
    "IQR=q75-q25"
   ]
  },
  {
   "cell_type": "code",
   "execution_count": 22,
   "metadata": {},
   "outputs": [
    {
     "data": {
      "text/plain": [
       "15.25"
      ]
     },
     "execution_count": 22,
     "metadata": {},
     "output_type": "execute_result"
    }
   ],
   "source": [
    "IQR"
   ]
  },
  {
   "cell_type": "code",
   "execution_count": 24,
   "metadata": {},
   "outputs": [
    {
     "name": "stdout",
     "output_type": "stream",
     "text": [
      "22.125\n",
      "83.125\n"
     ]
    }
   ],
   "source": [
    "lower_limit=q25-1.5*IQR\n",
    "upper_limit=q75+1.5*IQR\n",
    "print(lower_limit)\n",
    "print(upper_limit)"
   ]
  },
  {
   "cell_type": "code",
   "execution_count": 25,
   "metadata": {},
   "outputs": [
    {
     "data": {
      "text/html": [
       "<div>\n",
       "<style scoped>\n",
       "    .dataframe tbody tr th:only-of-type {\n",
       "        vertical-align: middle;\n",
       "    }\n",
       "\n",
       "    .dataframe tbody tr th {\n",
       "        vertical-align: top;\n",
       "    }\n",
       "\n",
       "    .dataframe thead th {\n",
       "        text-align: right;\n",
       "    }\n",
       "</style>\n",
       "<table border=\"1\" class=\"dataframe\">\n",
       "  <thead>\n",
       "    <tr style=\"text-align: right;\">\n",
       "      <th></th>\n",
       "      <th>PID</th>\n",
       "      <th>MS SubClass</th>\n",
       "      <th>MS Zoning</th>\n",
       "      <th>Lot Frontage</th>\n",
       "      <th>Lot Area</th>\n",
       "      <th>Street</th>\n",
       "      <th>Alley</th>\n",
       "      <th>Lot Shape</th>\n",
       "      <th>Land Contour</th>\n",
       "      <th>Utilities</th>\n",
       "      <th>...</th>\n",
       "      <th>Pool Area</th>\n",
       "      <th>Pool QC</th>\n",
       "      <th>Fence</th>\n",
       "      <th>Misc Feature</th>\n",
       "      <th>Misc Val</th>\n",
       "      <th>Mo Sold</th>\n",
       "      <th>Yr Sold</th>\n",
       "      <th>Sale Type</th>\n",
       "      <th>Sale Condition</th>\n",
       "      <th>SalePrice</th>\n",
       "    </tr>\n",
       "  </thead>\n",
       "  <tbody>\n",
       "    <tr>\n",
       "      <th>0</th>\n",
       "      <td>526301100</td>\n",
       "      <td>20</td>\n",
       "      <td>RL</td>\n",
       "      <td>141.0</td>\n",
       "      <td>31770</td>\n",
       "      <td>Pave</td>\n",
       "      <td>NaN</td>\n",
       "      <td>IR1</td>\n",
       "      <td>Lvl</td>\n",
       "      <td>AllPub</td>\n",
       "      <td>...</td>\n",
       "      <td>0</td>\n",
       "      <td>NaN</td>\n",
       "      <td>NaN</td>\n",
       "      <td>NaN</td>\n",
       "      <td>0</td>\n",
       "      <td>5</td>\n",
       "      <td>2010</td>\n",
       "      <td>WD</td>\n",
       "      <td>Normal</td>\n",
       "      <td>215000</td>\n",
       "    </tr>\n",
       "    <tr>\n",
       "      <th>1</th>\n",
       "      <td>526350040</td>\n",
       "      <td>20</td>\n",
       "      <td>RH</td>\n",
       "      <td>80.0</td>\n",
       "      <td>11622</td>\n",
       "      <td>Pave</td>\n",
       "      <td>NaN</td>\n",
       "      <td>Reg</td>\n",
       "      <td>Lvl</td>\n",
       "      <td>AllPub</td>\n",
       "      <td>...</td>\n",
       "      <td>0</td>\n",
       "      <td>NaN</td>\n",
       "      <td>MnPrv</td>\n",
       "      <td>NaN</td>\n",
       "      <td>0</td>\n",
       "      <td>6</td>\n",
       "      <td>2010</td>\n",
       "      <td>WD</td>\n",
       "      <td>Normal</td>\n",
       "      <td>105000</td>\n",
       "    </tr>\n",
       "    <tr>\n",
       "      <th>2</th>\n",
       "      <td>526351010</td>\n",
       "      <td>20</td>\n",
       "      <td>RL</td>\n",
       "      <td>81.0</td>\n",
       "      <td>14267</td>\n",
       "      <td>Pave</td>\n",
       "      <td>NaN</td>\n",
       "      <td>IR1</td>\n",
       "      <td>Lvl</td>\n",
       "      <td>AllPub</td>\n",
       "      <td>...</td>\n",
       "      <td>0</td>\n",
       "      <td>NaN</td>\n",
       "      <td>NaN</td>\n",
       "      <td>Gar2</td>\n",
       "      <td>12500</td>\n",
       "      <td>6</td>\n",
       "      <td>2010</td>\n",
       "      <td>WD</td>\n",
       "      <td>Normal</td>\n",
       "      <td>172000</td>\n",
       "    </tr>\n",
       "    <tr>\n",
       "      <th>3</th>\n",
       "      <td>526353030</td>\n",
       "      <td>20</td>\n",
       "      <td>RL</td>\n",
       "      <td>93.0</td>\n",
       "      <td>11160</td>\n",
       "      <td>Pave</td>\n",
       "      <td>NaN</td>\n",
       "      <td>Reg</td>\n",
       "      <td>Lvl</td>\n",
       "      <td>AllPub</td>\n",
       "      <td>...</td>\n",
       "      <td>0</td>\n",
       "      <td>NaN</td>\n",
       "      <td>NaN</td>\n",
       "      <td>NaN</td>\n",
       "      <td>0</td>\n",
       "      <td>4</td>\n",
       "      <td>2010</td>\n",
       "      <td>WD</td>\n",
       "      <td>Normal</td>\n",
       "      <td>244000</td>\n",
       "    </tr>\n",
       "    <tr>\n",
       "      <th>4</th>\n",
       "      <td>527105010</td>\n",
       "      <td>60</td>\n",
       "      <td>RL</td>\n",
       "      <td>74.0</td>\n",
       "      <td>13830</td>\n",
       "      <td>Pave</td>\n",
       "      <td>NaN</td>\n",
       "      <td>IR1</td>\n",
       "      <td>Lvl</td>\n",
       "      <td>AllPub</td>\n",
       "      <td>...</td>\n",
       "      <td>0</td>\n",
       "      <td>NaN</td>\n",
       "      <td>MnPrv</td>\n",
       "      <td>NaN</td>\n",
       "      <td>0</td>\n",
       "      <td>3</td>\n",
       "      <td>2010</td>\n",
       "      <td>WD</td>\n",
       "      <td>Normal</td>\n",
       "      <td>189900</td>\n",
       "    </tr>\n",
       "  </tbody>\n",
       "</table>\n",
       "<p>5 rows × 81 columns</p>\n",
       "</div>"
      ],
      "text/plain": [
       "         PID  MS SubClass MS Zoning  Lot Frontage  Lot Area Street Alley  \\\n",
       "0  526301100           20        RL         141.0     31770   Pave   NaN   \n",
       "1  526350040           20        RH          80.0     11622   Pave   NaN   \n",
       "2  526351010           20        RL          81.0     14267   Pave   NaN   \n",
       "3  526353030           20        RL          93.0     11160   Pave   NaN   \n",
       "4  527105010           60        RL          74.0     13830   Pave   NaN   \n",
       "\n",
       "  Lot Shape Land Contour Utilities  ... Pool Area Pool QC  Fence Misc Feature  \\\n",
       "0       IR1          Lvl    AllPub  ...         0     NaN    NaN          NaN   \n",
       "1       Reg          Lvl    AllPub  ...         0     NaN  MnPrv          NaN   \n",
       "2       IR1          Lvl    AllPub  ...         0     NaN    NaN         Gar2   \n",
       "3       Reg          Lvl    AllPub  ...         0     NaN    NaN          NaN   \n",
       "4       IR1          Lvl    AllPub  ...         0     NaN  MnPrv          NaN   \n",
       "\n",
       "  Misc Val Mo Sold Yr Sold  Sale Type  Sale Condition  SalePrice  \n",
       "0        0       5    2010        WD           Normal     215000  \n",
       "1        0       6    2010        WD           Normal     105000  \n",
       "2    12500       6    2010        WD           Normal     172000  \n",
       "3        0       4    2010        WD           Normal     244000  \n",
       "4        0       3    2010        WD           Normal     189900  \n",
       "\n",
       "[5 rows x 81 columns]"
      ]
     },
     "execution_count": 25,
     "metadata": {},
     "output_type": "execute_result"
    }
   ],
   "source": [
    "df.head()"
   ]
  },
  {
   "cell_type": "code",
   "execution_count": 26,
   "metadata": {},
   "outputs": [
    {
     "data": {
      "text/html": [
       "<div>\n",
       "<style scoped>\n",
       "    .dataframe tbody tr th:only-of-type {\n",
       "        vertical-align: middle;\n",
       "    }\n",
       "\n",
       "    .dataframe tbody tr th {\n",
       "        vertical-align: top;\n",
       "    }\n",
       "\n",
       "    .dataframe thead th {\n",
       "        text-align: right;\n",
       "    }\n",
       "</style>\n",
       "<table border=\"1\" class=\"dataframe\">\n",
       "  <thead>\n",
       "    <tr style=\"text-align: right;\">\n",
       "      <th></th>\n",
       "      <th>PID</th>\n",
       "      <th>MS SubClass</th>\n",
       "      <th>Lot Frontage</th>\n",
       "      <th>Lot Area</th>\n",
       "      <th>Overall Qual</th>\n",
       "      <th>Overall Cond</th>\n",
       "      <th>Year Built</th>\n",
       "      <th>Year Remod/Add</th>\n",
       "      <th>Mas Vnr Area</th>\n",
       "      <th>BsmtFin SF 1</th>\n",
       "      <th>...</th>\n",
       "      <th>Wood Deck SF</th>\n",
       "      <th>Open Porch SF</th>\n",
       "      <th>Enclosed Porch</th>\n",
       "      <th>3Ssn Porch</th>\n",
       "      <th>Screen Porch</th>\n",
       "      <th>Pool Area</th>\n",
       "      <th>Misc Val</th>\n",
       "      <th>Mo Sold</th>\n",
       "      <th>Yr Sold</th>\n",
       "      <th>SalePrice</th>\n",
       "    </tr>\n",
       "  </thead>\n",
       "  <tbody>\n",
       "    <tr>\n",
       "      <th>PID</th>\n",
       "      <td>1.000000</td>\n",
       "      <td>-0.001281</td>\n",
       "      <td>-0.096918</td>\n",
       "      <td>0.034868</td>\n",
       "      <td>-0.263147</td>\n",
       "      <td>0.104451</td>\n",
       "      <td>-0.343388</td>\n",
       "      <td>-0.157111</td>\n",
       "      <td>-0.229283</td>\n",
       "      <td>-0.098375</td>\n",
       "      <td>...</td>\n",
       "      <td>-0.051135</td>\n",
       "      <td>-0.071311</td>\n",
       "      <td>0.162519</td>\n",
       "      <td>-0.024894</td>\n",
       "      <td>-0.025735</td>\n",
       "      <td>-0.002845</td>\n",
       "      <td>-0.008260</td>\n",
       "      <td>-0.050455</td>\n",
       "      <td>0.009579</td>\n",
       "      <td>-0.246521</td>\n",
       "    </tr>\n",
       "    <tr>\n",
       "      <th>MS SubClass</th>\n",
       "      <td>-0.001281</td>\n",
       "      <td>1.000000</td>\n",
       "      <td>-0.420135</td>\n",
       "      <td>-0.204613</td>\n",
       "      <td>0.039419</td>\n",
       "      <td>-0.067349</td>\n",
       "      <td>0.036579</td>\n",
       "      <td>0.043397</td>\n",
       "      <td>0.002730</td>\n",
       "      <td>-0.060075</td>\n",
       "      <td>...</td>\n",
       "      <td>-0.017310</td>\n",
       "      <td>-0.014823</td>\n",
       "      <td>-0.022866</td>\n",
       "      <td>-0.037956</td>\n",
       "      <td>-0.050614</td>\n",
       "      <td>-0.003434</td>\n",
       "      <td>-0.029254</td>\n",
       "      <td>0.000350</td>\n",
       "      <td>-0.017905</td>\n",
       "      <td>-0.085092</td>\n",
       "    </tr>\n",
       "    <tr>\n",
       "      <th>Lot Frontage</th>\n",
       "      <td>-0.096918</td>\n",
       "      <td>-0.420135</td>\n",
       "      <td>1.000000</td>\n",
       "      <td>0.491313</td>\n",
       "      <td>0.212042</td>\n",
       "      <td>-0.074448</td>\n",
       "      <td>0.121562</td>\n",
       "      <td>0.091712</td>\n",
       "      <td>0.222407</td>\n",
       "      <td>0.215583</td>\n",
       "      <td>...</td>\n",
       "      <td>0.120084</td>\n",
       "      <td>0.163040</td>\n",
       "      <td>0.012758</td>\n",
       "      <td>0.028564</td>\n",
       "      <td>0.076666</td>\n",
       "      <td>0.173947</td>\n",
       "      <td>0.044476</td>\n",
       "      <td>0.011085</td>\n",
       "      <td>-0.007547</td>\n",
       "      <td>0.357318</td>\n",
       "    </tr>\n",
       "    <tr>\n",
       "      <th>Lot Area</th>\n",
       "      <td>0.034868</td>\n",
       "      <td>-0.204613</td>\n",
       "      <td>0.491313</td>\n",
       "      <td>1.000000</td>\n",
       "      <td>0.097188</td>\n",
       "      <td>-0.034759</td>\n",
       "      <td>0.023258</td>\n",
       "      <td>0.021682</td>\n",
       "      <td>0.126830</td>\n",
       "      <td>0.191555</td>\n",
       "      <td>...</td>\n",
       "      <td>0.157212</td>\n",
       "      <td>0.103760</td>\n",
       "      <td>0.021868</td>\n",
       "      <td>0.016243</td>\n",
       "      <td>0.055044</td>\n",
       "      <td>0.093775</td>\n",
       "      <td>0.069188</td>\n",
       "      <td>0.003859</td>\n",
       "      <td>-0.023085</td>\n",
       "      <td>0.266549</td>\n",
       "    </tr>\n",
       "    <tr>\n",
       "      <th>Overall Qual</th>\n",
       "      <td>-0.263147</td>\n",
       "      <td>0.039419</td>\n",
       "      <td>0.212042</td>\n",
       "      <td>0.097188</td>\n",
       "      <td>1.000000</td>\n",
       "      <td>-0.094812</td>\n",
       "      <td>0.597027</td>\n",
       "      <td>0.569609</td>\n",
       "      <td>0.429418</td>\n",
       "      <td>0.284118</td>\n",
       "      <td>...</td>\n",
       "      <td>0.255663</td>\n",
       "      <td>0.298412</td>\n",
       "      <td>-0.140332</td>\n",
       "      <td>0.018240</td>\n",
       "      <td>0.041615</td>\n",
       "      <td>0.030399</td>\n",
       "      <td>0.005179</td>\n",
       "      <td>0.031103</td>\n",
       "      <td>-0.020719</td>\n",
       "      <td>0.799262</td>\n",
       "    </tr>\n",
       "    <tr>\n",
       "      <th>Overall Cond</th>\n",
       "      <td>0.104451</td>\n",
       "      <td>-0.067349</td>\n",
       "      <td>-0.074448</td>\n",
       "      <td>-0.034759</td>\n",
       "      <td>-0.094812</td>\n",
       "      <td>1.000000</td>\n",
       "      <td>-0.368773</td>\n",
       "      <td>0.047680</td>\n",
       "      <td>-0.135340</td>\n",
       "      <td>-0.050935</td>\n",
       "      <td>...</td>\n",
       "      <td>0.020344</td>\n",
       "      <td>-0.068934</td>\n",
       "      <td>0.071459</td>\n",
       "      <td>0.043852</td>\n",
       "      <td>0.044055</td>\n",
       "      <td>-0.016787</td>\n",
       "      <td>0.034056</td>\n",
       "      <td>-0.007295</td>\n",
       "      <td>0.031207</td>\n",
       "      <td>-0.101697</td>\n",
       "    </tr>\n",
       "    <tr>\n",
       "      <th>Year Built</th>\n",
       "      <td>-0.343388</td>\n",
       "      <td>0.036579</td>\n",
       "      <td>0.121562</td>\n",
       "      <td>0.023258</td>\n",
       "      <td>0.597027</td>\n",
       "      <td>-0.368773</td>\n",
       "      <td>1.000000</td>\n",
       "      <td>0.612095</td>\n",
       "      <td>0.313292</td>\n",
       "      <td>0.279870</td>\n",
       "      <td>...</td>\n",
       "      <td>0.228964</td>\n",
       "      <td>0.198365</td>\n",
       "      <td>-0.374364</td>\n",
       "      <td>0.015803</td>\n",
       "      <td>-0.041436</td>\n",
       "      <td>0.002213</td>\n",
       "      <td>-0.011011</td>\n",
       "      <td>0.014577</td>\n",
       "      <td>-0.013197</td>\n",
       "      <td>0.558426</td>\n",
       "    </tr>\n",
       "    <tr>\n",
       "      <th>Year Remod/Add</th>\n",
       "      <td>-0.157111</td>\n",
       "      <td>0.043397</td>\n",
       "      <td>0.091712</td>\n",
       "      <td>0.021682</td>\n",
       "      <td>0.569609</td>\n",
       "      <td>0.047680</td>\n",
       "      <td>0.612095</td>\n",
       "      <td>1.000000</td>\n",
       "      <td>0.196928</td>\n",
       "      <td>0.151790</td>\n",
       "      <td>...</td>\n",
       "      <td>0.217857</td>\n",
       "      <td>0.241748</td>\n",
       "      <td>-0.220383</td>\n",
       "      <td>0.037412</td>\n",
       "      <td>-0.046888</td>\n",
       "      <td>-0.011410</td>\n",
       "      <td>-0.003132</td>\n",
       "      <td>0.018048</td>\n",
       "      <td>0.032652</td>\n",
       "      <td>0.532974</td>\n",
       "    </tr>\n",
       "    <tr>\n",
       "      <th>Mas Vnr Area</th>\n",
       "      <td>-0.229283</td>\n",
       "      <td>0.002730</td>\n",
       "      <td>0.222407</td>\n",
       "      <td>0.126830</td>\n",
       "      <td>0.429418</td>\n",
       "      <td>-0.135340</td>\n",
       "      <td>0.313292</td>\n",
       "      <td>0.196928</td>\n",
       "      <td>1.000000</td>\n",
       "      <td>0.301872</td>\n",
       "      <td>...</td>\n",
       "      <td>0.165467</td>\n",
       "      <td>0.143748</td>\n",
       "      <td>-0.110787</td>\n",
       "      <td>0.013778</td>\n",
       "      <td>0.065643</td>\n",
       "      <td>0.004617</td>\n",
       "      <td>0.044934</td>\n",
       "      <td>-0.000276</td>\n",
       "      <td>-0.017715</td>\n",
       "      <td>0.508285</td>\n",
       "    </tr>\n",
       "    <tr>\n",
       "      <th>BsmtFin SF 1</th>\n",
       "      <td>-0.098375</td>\n",
       "      <td>-0.060075</td>\n",
       "      <td>0.215583</td>\n",
       "      <td>0.191555</td>\n",
       "      <td>0.284118</td>\n",
       "      <td>-0.050935</td>\n",
       "      <td>0.279870</td>\n",
       "      <td>0.151790</td>\n",
       "      <td>0.301872</td>\n",
       "      <td>1.000000</td>\n",
       "      <td>...</td>\n",
       "      <td>0.224010</td>\n",
       "      <td>0.124947</td>\n",
       "      <td>-0.100455</td>\n",
       "      <td>0.050541</td>\n",
       "      <td>0.095874</td>\n",
       "      <td>0.084140</td>\n",
       "      <td>0.092886</td>\n",
       "      <td>-0.001155</td>\n",
       "      <td>0.022397</td>\n",
       "      <td>0.432914</td>\n",
       "    </tr>\n",
       "    <tr>\n",
       "      <th>BsmtFin SF 2</th>\n",
       "      <td>-0.001145</td>\n",
       "      <td>-0.070946</td>\n",
       "      <td>0.045999</td>\n",
       "      <td>0.083150</td>\n",
       "      <td>-0.041287</td>\n",
       "      <td>0.041134</td>\n",
       "      <td>-0.027415</td>\n",
       "      <td>-0.062129</td>\n",
       "      <td>-0.016019</td>\n",
       "      <td>-0.054129</td>\n",
       "      <td>...</td>\n",
       "      <td>0.098528</td>\n",
       "      <td>-0.005587</td>\n",
       "      <td>0.032380</td>\n",
       "      <td>-0.023325</td>\n",
       "      <td>0.062951</td>\n",
       "      <td>0.044398</td>\n",
       "      <td>-0.005204</td>\n",
       "      <td>-0.009484</td>\n",
       "      <td>0.007105</td>\n",
       "      <td>0.005891</td>\n",
       "    </tr>\n",
       "    <tr>\n",
       "      <th>Bsmt Unf SF</th>\n",
       "      <td>-0.087707</td>\n",
       "      <td>-0.130421</td>\n",
       "      <td>0.116743</td>\n",
       "      <td>0.023658</td>\n",
       "      <td>0.270058</td>\n",
       "      <td>-0.136819</td>\n",
       "      <td>0.128998</td>\n",
       "      <td>0.164805</td>\n",
       "      <td>0.091668</td>\n",
       "      <td>-0.477875</td>\n",
       "      <td>...</td>\n",
       "      <td>-0.039621</td>\n",
       "      <td>0.118880</td>\n",
       "      <td>0.006229</td>\n",
       "      <td>-0.005446</td>\n",
       "      <td>-0.048083</td>\n",
       "      <td>-0.031999</td>\n",
       "      <td>-0.010166</td>\n",
       "      <td>0.021569</td>\n",
       "      <td>-0.036384</td>\n",
       "      <td>0.182855</td>\n",
       "    </tr>\n",
       "    <tr>\n",
       "      <th>Total Bsmt SF</th>\n",
       "      <td>-0.189642</td>\n",
       "      <td>-0.219445</td>\n",
       "      <td>0.353773</td>\n",
       "      <td>0.253589</td>\n",
       "      <td>0.547294</td>\n",
       "      <td>-0.173344</td>\n",
       "      <td>0.407526</td>\n",
       "      <td>0.297481</td>\n",
       "      <td>0.397040</td>\n",
       "      <td>0.536547</td>\n",
       "      <td>...</td>\n",
       "      <td>0.229931</td>\n",
       "      <td>0.245627</td>\n",
       "      <td>-0.085225</td>\n",
       "      <td>0.037871</td>\n",
       "      <td>0.075341</td>\n",
       "      <td>0.072128</td>\n",
       "      <td>0.083904</td>\n",
       "      <td>0.016678</td>\n",
       "      <td>-0.010405</td>\n",
       "      <td>0.632280</td>\n",
       "    </tr>\n",
       "    <tr>\n",
       "      <th>1st Flr SF</th>\n",
       "      <td>-0.141902</td>\n",
       "      <td>-0.247828</td>\n",
       "      <td>0.457391</td>\n",
       "      <td>0.332235</td>\n",
       "      <td>0.477837</td>\n",
       "      <td>-0.157052</td>\n",
       "      <td>0.310463</td>\n",
       "      <td>0.242108</td>\n",
       "      <td>0.395736</td>\n",
       "      <td>0.457472</td>\n",
       "      <td>...</td>\n",
       "      <td>0.227131</td>\n",
       "      <td>0.238041</td>\n",
       "      <td>-0.065713</td>\n",
       "      <td>0.044061</td>\n",
       "      <td>0.098316</td>\n",
       "      <td>0.121821</td>\n",
       "      <td>0.093003</td>\n",
       "      <td>0.040496</td>\n",
       "      <td>-0.013667</td>\n",
       "      <td>0.621676</td>\n",
       "    </tr>\n",
       "    <tr>\n",
       "      <th>2nd Flr SF</th>\n",
       "      <td>-0.003289</td>\n",
       "      <td>0.304237</td>\n",
       "      <td>0.029187</td>\n",
       "      <td>0.032996</td>\n",
       "      <td>0.241402</td>\n",
       "      <td>0.006218</td>\n",
       "      <td>0.016828</td>\n",
       "      <td>0.158939</td>\n",
       "      <td>0.121805</td>\n",
       "      <td>-0.164014</td>\n",
       "      <td>...</td>\n",
       "      <td>0.089097</td>\n",
       "      <td>0.184538</td>\n",
       "      <td>0.055429</td>\n",
       "      <td>-0.032172</td>\n",
       "      <td>0.011741</td>\n",
       "      <td>0.044602</td>\n",
       "      <td>-0.005078</td>\n",
       "      <td>0.013247</td>\n",
       "      <td>-0.018530</td>\n",
       "      <td>0.269373</td>\n",
       "    </tr>\n",
       "    <tr>\n",
       "      <th>Low Qual Fin SF</th>\n",
       "      <td>0.056940</td>\n",
       "      <td>0.025765</td>\n",
       "      <td>0.005249</td>\n",
       "      <td>0.000812</td>\n",
       "      <td>-0.048680</td>\n",
       "      <td>0.009175</td>\n",
       "      <td>-0.144282</td>\n",
       "      <td>-0.060365</td>\n",
       "      <td>-0.057701</td>\n",
       "      <td>-0.066173</td>\n",
       "      <td>...</td>\n",
       "      <td>-0.015646</td>\n",
       "      <td>-0.000761</td>\n",
       "      <td>0.087326</td>\n",
       "      <td>-0.004505</td>\n",
       "      <td>0.006943</td>\n",
       "      <td>0.035200</td>\n",
       "      <td>-0.005939</td>\n",
       "      <td>0.011397</td>\n",
       "      <td>-0.002074</td>\n",
       "      <td>-0.037660</td>\n",
       "    </tr>\n",
       "    <tr>\n",
       "      <th>Gr Liv Area</th>\n",
       "      <td>-0.107579</td>\n",
       "      <td>0.068061</td>\n",
       "      <td>0.383822</td>\n",
       "      <td>0.285599</td>\n",
       "      <td>0.570556</td>\n",
       "      <td>-0.115643</td>\n",
       "      <td>0.241726</td>\n",
       "      <td>0.316855</td>\n",
       "      <td>0.403611</td>\n",
       "      <td>0.209633</td>\n",
       "      <td>...</td>\n",
       "      <td>0.250153</td>\n",
       "      <td>0.340857</td>\n",
       "      <td>0.004030</td>\n",
       "      <td>0.006481</td>\n",
       "      <td>0.086804</td>\n",
       "      <td>0.135463</td>\n",
       "      <td>0.067252</td>\n",
       "      <td>0.043665</td>\n",
       "      <td>-0.026489</td>\n",
       "      <td>0.706780</td>\n",
       "    </tr>\n",
       "    <tr>\n",
       "      <th>Bsmt Full Bath</th>\n",
       "      <td>-0.037759</td>\n",
       "      <td>0.013701</td>\n",
       "      <td>0.108915</td>\n",
       "      <td>0.125877</td>\n",
       "      <td>0.167858</td>\n",
       "      <td>-0.042766</td>\n",
       "      <td>0.211849</td>\n",
       "      <td>0.134387</td>\n",
       "      <td>0.140113</td>\n",
       "      <td>0.640020</td>\n",
       "      <td>...</td>\n",
       "      <td>0.186945</td>\n",
       "      <td>0.082268</td>\n",
       "      <td>-0.069235</td>\n",
       "      <td>0.027034</td>\n",
       "      <td>0.052208</td>\n",
       "      <td>0.043705</td>\n",
       "      <td>-0.004868</td>\n",
       "      <td>-0.003471</td>\n",
       "      <td>0.044905</td>\n",
       "      <td>0.276050</td>\n",
       "    </tr>\n",
       "    <tr>\n",
       "      <th>Bsmt Half Bath</th>\n",
       "      <td>0.004328</td>\n",
       "      <td>-0.003329</td>\n",
       "      <td>-0.024724</td>\n",
       "      <td>0.026903</td>\n",
       "      <td>-0.041647</td>\n",
       "      <td>0.084455</td>\n",
       "      <td>-0.030626</td>\n",
       "      <td>-0.046292</td>\n",
       "      <td>0.015421</td>\n",
       "      <td>0.077548</td>\n",
       "      <td>...</td>\n",
       "      <td>0.051430</td>\n",
       "      <td>-0.035069</td>\n",
       "      <td>-0.009334</td>\n",
       "      <td>0.026954</td>\n",
       "      <td>0.042326</td>\n",
       "      <td>0.066902</td>\n",
       "      <td>0.036982</td>\n",
       "      <td>0.022699</td>\n",
       "      <td>-0.019529</td>\n",
       "      <td>-0.035835</td>\n",
       "    </tr>\n",
       "    <tr>\n",
       "      <th>Full Bath</th>\n",
       "      <td>-0.171431</td>\n",
       "      <td>0.134631</td>\n",
       "      <td>0.184521</td>\n",
       "      <td>0.127433</td>\n",
       "      <td>0.522263</td>\n",
       "      <td>-0.214316</td>\n",
       "      <td>0.469406</td>\n",
       "      <td>0.457266</td>\n",
       "      <td>0.260153</td>\n",
       "      <td>0.077772</td>\n",
       "      <td>...</td>\n",
       "      <td>0.179574</td>\n",
       "      <td>0.258675</td>\n",
       "      <td>-0.117795</td>\n",
       "      <td>0.015435</td>\n",
       "      <td>-0.015130</td>\n",
       "      <td>0.028205</td>\n",
       "      <td>-0.009771</td>\n",
       "      <td>0.046032</td>\n",
       "      <td>-0.004754</td>\n",
       "      <td>0.545604</td>\n",
       "    </tr>\n",
       "    <tr>\n",
       "      <th>Half Bath</th>\n",
       "      <td>-0.166636</td>\n",
       "      <td>0.175879</td>\n",
       "      <td>0.041880</td>\n",
       "      <td>0.035497</td>\n",
       "      <td>0.268853</td>\n",
       "      <td>-0.088127</td>\n",
       "      <td>0.269268</td>\n",
       "      <td>0.211771</td>\n",
       "      <td>0.192965</td>\n",
       "      <td>-0.008457</td>\n",
       "      <td>...</td>\n",
       "      <td>0.115212</td>\n",
       "      <td>0.180704</td>\n",
       "      <td>-0.081312</td>\n",
       "      <td>-0.023231</td>\n",
       "      <td>0.035990</td>\n",
       "      <td>0.001515</td>\n",
       "      <td>0.026648</td>\n",
       "      <td>-0.001311</td>\n",
       "      <td>0.001561</td>\n",
       "      <td>0.285056</td>\n",
       "    </tr>\n",
       "    <tr>\n",
       "      <th>Bedroom AbvGr</th>\n",
       "      <td>0.006345</td>\n",
       "      <td>-0.019208</td>\n",
       "      <td>0.240442</td>\n",
       "      <td>0.136569</td>\n",
       "      <td>0.063291</td>\n",
       "      <td>-0.006137</td>\n",
       "      <td>-0.055093</td>\n",
       "      <td>-0.021536</td>\n",
       "      <td>0.080546</td>\n",
       "      <td>-0.118959</td>\n",
       "      <td>...</td>\n",
       "      <td>0.029711</td>\n",
       "      <td>0.083650</td>\n",
       "      <td>0.052115</td>\n",
       "      <td>-0.047151</td>\n",
       "      <td>0.009250</td>\n",
       "      <td>0.036707</td>\n",
       "      <td>0.000887</td>\n",
       "      <td>0.053677</td>\n",
       "      <td>-0.018008</td>\n",
       "      <td>0.143913</td>\n",
       "    </tr>\n",
       "    <tr>\n",
       "      <th>Kitchen AbvGr</th>\n",
       "      <td>0.076470</td>\n",
       "      <td>0.257698</td>\n",
       "      <td>0.005407</td>\n",
       "      <td>-0.020301</td>\n",
       "      <td>-0.159744</td>\n",
       "      <td>-0.086386</td>\n",
       "      <td>-0.137852</td>\n",
       "      <td>-0.142404</td>\n",
       "      <td>-0.050998</td>\n",
       "      <td>-0.086738</td>\n",
       "      <td>...</td>\n",
       "      <td>-0.087410</td>\n",
       "      <td>-0.068283</td>\n",
       "      <td>0.027911</td>\n",
       "      <td>-0.021379</td>\n",
       "      <td>-0.056337</td>\n",
       "      <td>-0.013066</td>\n",
       "      <td>0.025145</td>\n",
       "      <td>0.035201</td>\n",
       "      <td>0.035421</td>\n",
       "      <td>-0.119814</td>\n",
       "    </tr>\n",
       "    <tr>\n",
       "      <th>TotRms AbvGrd</th>\n",
       "      <td>-0.068981</td>\n",
       "      <td>0.031898</td>\n",
       "      <td>0.353137</td>\n",
       "      <td>0.216597</td>\n",
       "      <td>0.380693</td>\n",
       "      <td>-0.089816</td>\n",
       "      <td>0.111919</td>\n",
       "      <td>0.197528</td>\n",
       "      <td>0.279563</td>\n",
       "      <td>0.047631</td>\n",
       "      <td>...</td>\n",
       "      <td>0.154735</td>\n",
       "      <td>0.235684</td>\n",
       "      <td>0.017221</td>\n",
       "      <td>-0.025097</td>\n",
       "      <td>0.033731</td>\n",
       "      <td>0.072103</td>\n",
       "      <td>0.061134</td>\n",
       "      <td>0.043784</td>\n",
       "      <td>-0.030498</td>\n",
       "      <td>0.495474</td>\n",
       "    </tr>\n",
       "    <tr>\n",
       "      <th>Fireplaces</th>\n",
       "      <td>-0.108056</td>\n",
       "      <td>-0.049955</td>\n",
       "      <td>0.257255</td>\n",
       "      <td>0.256989</td>\n",
       "      <td>0.393007</td>\n",
       "      <td>-0.031702</td>\n",
       "      <td>0.170672</td>\n",
       "      <td>0.133322</td>\n",
       "      <td>0.272068</td>\n",
       "      <td>0.295882</td>\n",
       "      <td>...</td>\n",
       "      <td>0.228064</td>\n",
       "      <td>0.159637</td>\n",
       "      <td>-0.000250</td>\n",
       "      <td>0.018414</td>\n",
       "      <td>0.168004</td>\n",
       "      <td>0.098449</td>\n",
       "      <td>0.008192</td>\n",
       "      <td>0.032152</td>\n",
       "      <td>-0.007612</td>\n",
       "      <td>0.474558</td>\n",
       "    </tr>\n",
       "    <tr>\n",
       "      <th>Garage Yr Blt</th>\n",
       "      <td>-0.256829</td>\n",
       "      <td>0.088754</td>\n",
       "      <td>0.076306</td>\n",
       "      <td>-0.008952</td>\n",
       "      <td>0.570569</td>\n",
       "      <td>-0.326017</td>\n",
       "      <td>0.834849</td>\n",
       "      <td>0.652310</td>\n",
       "      <td>0.254784</td>\n",
       "      <td>0.194238</td>\n",
       "      <td>...</td>\n",
       "      <td>0.221991</td>\n",
       "      <td>0.231240</td>\n",
       "      <td>-0.300879</td>\n",
       "      <td>0.020617</td>\n",
       "      <td>-0.062515</td>\n",
       "      <td>-0.014513</td>\n",
       "      <td>-0.009265</td>\n",
       "      <td>0.024498</td>\n",
       "      <td>-0.005159</td>\n",
       "      <td>0.526965</td>\n",
       "    </tr>\n",
       "    <tr>\n",
       "      <th>Garage Cars</th>\n",
       "      <td>-0.237484</td>\n",
       "      <td>-0.045883</td>\n",
       "      <td>0.308706</td>\n",
       "      <td>0.179512</td>\n",
       "      <td>0.599545</td>\n",
       "      <td>-0.181557</td>\n",
       "      <td>0.537443</td>\n",
       "      <td>0.425403</td>\n",
       "      <td>0.360159</td>\n",
       "      <td>0.255483</td>\n",
       "      <td>...</td>\n",
       "      <td>0.241226</td>\n",
       "      <td>0.204182</td>\n",
       "      <td>-0.132840</td>\n",
       "      <td>0.023345</td>\n",
       "      <td>0.043012</td>\n",
       "      <td>0.030393</td>\n",
       "      <td>-0.016948</td>\n",
       "      <td>0.049847</td>\n",
       "      <td>-0.022488</td>\n",
       "      <td>0.647877</td>\n",
       "    </tr>\n",
       "    <tr>\n",
       "      <th>Garage Area</th>\n",
       "      <td>-0.210606</td>\n",
       "      <td>-0.103239</td>\n",
       "      <td>0.358505</td>\n",
       "      <td>0.212822</td>\n",
       "      <td>0.563503</td>\n",
       "      <td>-0.153754</td>\n",
       "      <td>0.480131</td>\n",
       "      <td>0.376438</td>\n",
       "      <td>0.373458</td>\n",
       "      <td>0.309876</td>\n",
       "      <td>...</td>\n",
       "      <td>0.238371</td>\n",
       "      <td>0.232912</td>\n",
       "      <td>-0.106272</td>\n",
       "      <td>0.029458</td>\n",
       "      <td>0.062436</td>\n",
       "      <td>0.053051</td>\n",
       "      <td>0.008466</td>\n",
       "      <td>0.039544</td>\n",
       "      <td>-0.013018</td>\n",
       "      <td>0.640401</td>\n",
       "    </tr>\n",
       "    <tr>\n",
       "      <th>Wood Deck SF</th>\n",
       "      <td>-0.051135</td>\n",
       "      <td>-0.017310</td>\n",
       "      <td>0.120084</td>\n",
       "      <td>0.157212</td>\n",
       "      <td>0.255663</td>\n",
       "      <td>0.020344</td>\n",
       "      <td>0.228964</td>\n",
       "      <td>0.217857</td>\n",
       "      <td>0.165467</td>\n",
       "      <td>0.224010</td>\n",
       "      <td>...</td>\n",
       "      <td>1.000000</td>\n",
       "      <td>0.039243</td>\n",
       "      <td>-0.119136</td>\n",
       "      <td>-0.003967</td>\n",
       "      <td>-0.052191</td>\n",
       "      <td>0.094156</td>\n",
       "      <td>0.056820</td>\n",
       "      <td>0.016974</td>\n",
       "      <td>0.000882</td>\n",
       "      <td>0.327143</td>\n",
       "    </tr>\n",
       "    <tr>\n",
       "      <th>Open Porch SF</th>\n",
       "      <td>-0.071311</td>\n",
       "      <td>-0.014823</td>\n",
       "      <td>0.163040</td>\n",
       "      <td>0.103760</td>\n",
       "      <td>0.298412</td>\n",
       "      <td>-0.068934</td>\n",
       "      <td>0.198365</td>\n",
       "      <td>0.241748</td>\n",
       "      <td>0.143748</td>\n",
       "      <td>0.124947</td>\n",
       "      <td>...</td>\n",
       "      <td>0.039243</td>\n",
       "      <td>1.000000</td>\n",
       "      <td>-0.059875</td>\n",
       "      <td>-0.009458</td>\n",
       "      <td>0.047548</td>\n",
       "      <td>0.064135</td>\n",
       "      <td>0.077254</td>\n",
       "      <td>0.033651</td>\n",
       "      <td>-0.037467</td>\n",
       "      <td>0.312951</td>\n",
       "    </tr>\n",
       "    <tr>\n",
       "      <th>Enclosed Porch</th>\n",
       "      <td>0.162519</td>\n",
       "      <td>-0.022866</td>\n",
       "      <td>0.012758</td>\n",
       "      <td>0.021868</td>\n",
       "      <td>-0.140332</td>\n",
       "      <td>0.071459</td>\n",
       "      <td>-0.374364</td>\n",
       "      <td>-0.220383</td>\n",
       "      <td>-0.110787</td>\n",
       "      <td>-0.100455</td>\n",
       "      <td>...</td>\n",
       "      <td>-0.119136</td>\n",
       "      <td>-0.059875</td>\n",
       "      <td>1.000000</td>\n",
       "      <td>-0.032674</td>\n",
       "      <td>-0.063965</td>\n",
       "      <td>0.092596</td>\n",
       "      <td>0.008773</td>\n",
       "      <td>-0.021324</td>\n",
       "      <td>-0.000505</td>\n",
       "      <td>-0.128787</td>\n",
       "    </tr>\n",
       "    <tr>\n",
       "      <th>3Ssn Porch</th>\n",
       "      <td>-0.024894</td>\n",
       "      <td>-0.037956</td>\n",
       "      <td>0.028564</td>\n",
       "      <td>0.016243</td>\n",
       "      <td>0.018240</td>\n",
       "      <td>0.043852</td>\n",
       "      <td>0.015803</td>\n",
       "      <td>0.037412</td>\n",
       "      <td>0.013778</td>\n",
       "      <td>0.050541</td>\n",
       "      <td>...</td>\n",
       "      <td>-0.003967</td>\n",
       "      <td>-0.009458</td>\n",
       "      <td>-0.032674</td>\n",
       "      <td>1.000000</td>\n",
       "      <td>-0.029430</td>\n",
       "      <td>-0.006501</td>\n",
       "      <td>-0.000753</td>\n",
       "      <td>0.027229</td>\n",
       "      <td>0.022668</td>\n",
       "      <td>0.032225</td>\n",
       "    </tr>\n",
       "    <tr>\n",
       "      <th>Screen Porch</th>\n",
       "      <td>-0.025735</td>\n",
       "      <td>-0.050614</td>\n",
       "      <td>0.076666</td>\n",
       "      <td>0.055044</td>\n",
       "      <td>0.041615</td>\n",
       "      <td>0.044055</td>\n",
       "      <td>-0.041436</td>\n",
       "      <td>-0.046888</td>\n",
       "      <td>0.065643</td>\n",
       "      <td>0.095874</td>\n",
       "      <td>...</td>\n",
       "      <td>-0.052191</td>\n",
       "      <td>0.047548</td>\n",
       "      <td>-0.063965</td>\n",
       "      <td>-0.029430</td>\n",
       "      <td>1.000000</td>\n",
       "      <td>0.026383</td>\n",
       "      <td>0.007162</td>\n",
       "      <td>0.028169</td>\n",
       "      <td>-0.006116</td>\n",
       "      <td>0.112151</td>\n",
       "    </tr>\n",
       "    <tr>\n",
       "      <th>Pool Area</th>\n",
       "      <td>-0.002845</td>\n",
       "      <td>-0.003434</td>\n",
       "      <td>0.173947</td>\n",
       "      <td>0.093775</td>\n",
       "      <td>0.030399</td>\n",
       "      <td>-0.016787</td>\n",
       "      <td>0.002213</td>\n",
       "      <td>-0.011410</td>\n",
       "      <td>0.004617</td>\n",
       "      <td>0.084140</td>\n",
       "      <td>...</td>\n",
       "      <td>0.094156</td>\n",
       "      <td>0.064135</td>\n",
       "      <td>0.092596</td>\n",
       "      <td>-0.006501</td>\n",
       "      <td>0.026383</td>\n",
       "      <td>1.000000</td>\n",
       "      <td>0.011942</td>\n",
       "      <td>-0.042223</td>\n",
       "      <td>-0.052541</td>\n",
       "      <td>0.068403</td>\n",
       "    </tr>\n",
       "    <tr>\n",
       "      <th>Misc Val</th>\n",
       "      <td>-0.008260</td>\n",
       "      <td>-0.029254</td>\n",
       "      <td>0.044476</td>\n",
       "      <td>0.069188</td>\n",
       "      <td>0.005179</td>\n",
       "      <td>0.034056</td>\n",
       "      <td>-0.011011</td>\n",
       "      <td>-0.003132</td>\n",
       "      <td>0.044934</td>\n",
       "      <td>0.092886</td>\n",
       "      <td>...</td>\n",
       "      <td>0.056820</td>\n",
       "      <td>0.077254</td>\n",
       "      <td>0.008773</td>\n",
       "      <td>-0.000753</td>\n",
       "      <td>0.007162</td>\n",
       "      <td>0.011942</td>\n",
       "      <td>1.000000</td>\n",
       "      <td>0.007333</td>\n",
       "      <td>0.008574</td>\n",
       "      <td>-0.015691</td>\n",
       "    </tr>\n",
       "    <tr>\n",
       "      <th>Mo Sold</th>\n",
       "      <td>-0.050455</td>\n",
       "      <td>0.000350</td>\n",
       "      <td>0.011085</td>\n",
       "      <td>0.003859</td>\n",
       "      <td>0.031103</td>\n",
       "      <td>-0.007295</td>\n",
       "      <td>0.014577</td>\n",
       "      <td>0.018048</td>\n",
       "      <td>-0.000276</td>\n",
       "      <td>-0.001155</td>\n",
       "      <td>...</td>\n",
       "      <td>0.016974</td>\n",
       "      <td>0.033651</td>\n",
       "      <td>-0.021324</td>\n",
       "      <td>0.027229</td>\n",
       "      <td>0.028169</td>\n",
       "      <td>-0.042223</td>\n",
       "      <td>0.007333</td>\n",
       "      <td>1.000000</td>\n",
       "      <td>-0.155554</td>\n",
       "      <td>0.035259</td>\n",
       "    </tr>\n",
       "    <tr>\n",
       "      <th>Yr Sold</th>\n",
       "      <td>0.009579</td>\n",
       "      <td>-0.017905</td>\n",
       "      <td>-0.007547</td>\n",
       "      <td>-0.023085</td>\n",
       "      <td>-0.020719</td>\n",
       "      <td>0.031207</td>\n",
       "      <td>-0.013197</td>\n",
       "      <td>0.032652</td>\n",
       "      <td>-0.017715</td>\n",
       "      <td>0.022397</td>\n",
       "      <td>...</td>\n",
       "      <td>0.000882</td>\n",
       "      <td>-0.037467</td>\n",
       "      <td>-0.000505</td>\n",
       "      <td>0.022668</td>\n",
       "      <td>-0.006116</td>\n",
       "      <td>-0.052541</td>\n",
       "      <td>0.008574</td>\n",
       "      <td>-0.155554</td>\n",
       "      <td>1.000000</td>\n",
       "      <td>-0.030569</td>\n",
       "    </tr>\n",
       "    <tr>\n",
       "      <th>SalePrice</th>\n",
       "      <td>-0.246521</td>\n",
       "      <td>-0.085092</td>\n",
       "      <td>0.357318</td>\n",
       "      <td>0.266549</td>\n",
       "      <td>0.799262</td>\n",
       "      <td>-0.101697</td>\n",
       "      <td>0.558426</td>\n",
       "      <td>0.532974</td>\n",
       "      <td>0.508285</td>\n",
       "      <td>0.432914</td>\n",
       "      <td>...</td>\n",
       "      <td>0.327143</td>\n",
       "      <td>0.312951</td>\n",
       "      <td>-0.128787</td>\n",
       "      <td>0.032225</td>\n",
       "      <td>0.112151</td>\n",
       "      <td>0.068403</td>\n",
       "      <td>-0.015691</td>\n",
       "      <td>0.035259</td>\n",
       "      <td>-0.030569</td>\n",
       "      <td>1.000000</td>\n",
       "    </tr>\n",
       "  </tbody>\n",
       "</table>\n",
       "<p>38 rows × 38 columns</p>\n",
       "</div>"
      ],
      "text/plain": [
       "                      PID  MS SubClass  Lot Frontage  Lot Area  Overall Qual  \\\n",
       "PID              1.000000    -0.001281     -0.096918  0.034868     -0.263147   \n",
       "MS SubClass     -0.001281     1.000000     -0.420135 -0.204613      0.039419   \n",
       "Lot Frontage    -0.096918    -0.420135      1.000000  0.491313      0.212042   \n",
       "Lot Area         0.034868    -0.204613      0.491313  1.000000      0.097188   \n",
       "Overall Qual    -0.263147     0.039419      0.212042  0.097188      1.000000   \n",
       "Overall Cond     0.104451    -0.067349     -0.074448 -0.034759     -0.094812   \n",
       "Year Built      -0.343388     0.036579      0.121562  0.023258      0.597027   \n",
       "Year Remod/Add  -0.157111     0.043397      0.091712  0.021682      0.569609   \n",
       "Mas Vnr Area    -0.229283     0.002730      0.222407  0.126830      0.429418   \n",
       "BsmtFin SF 1    -0.098375    -0.060075      0.215583  0.191555      0.284118   \n",
       "BsmtFin SF 2    -0.001145    -0.070946      0.045999  0.083150     -0.041287   \n",
       "Bsmt Unf SF     -0.087707    -0.130421      0.116743  0.023658      0.270058   \n",
       "Total Bsmt SF   -0.189642    -0.219445      0.353773  0.253589      0.547294   \n",
       "1st Flr SF      -0.141902    -0.247828      0.457391  0.332235      0.477837   \n",
       "2nd Flr SF      -0.003289     0.304237      0.029187  0.032996      0.241402   \n",
       "Low Qual Fin SF  0.056940     0.025765      0.005249  0.000812     -0.048680   \n",
       "Gr Liv Area     -0.107579     0.068061      0.383822  0.285599      0.570556   \n",
       "Bsmt Full Bath  -0.037759     0.013701      0.108915  0.125877      0.167858   \n",
       "Bsmt Half Bath   0.004328    -0.003329     -0.024724  0.026903     -0.041647   \n",
       "Full Bath       -0.171431     0.134631      0.184521  0.127433      0.522263   \n",
       "Half Bath       -0.166636     0.175879      0.041880  0.035497      0.268853   \n",
       "Bedroom AbvGr    0.006345    -0.019208      0.240442  0.136569      0.063291   \n",
       "Kitchen AbvGr    0.076470     0.257698      0.005407 -0.020301     -0.159744   \n",
       "TotRms AbvGrd   -0.068981     0.031898      0.353137  0.216597      0.380693   \n",
       "Fireplaces      -0.108056    -0.049955      0.257255  0.256989      0.393007   \n",
       "Garage Yr Blt   -0.256829     0.088754      0.076306 -0.008952      0.570569   \n",
       "Garage Cars     -0.237484    -0.045883      0.308706  0.179512      0.599545   \n",
       "Garage Area     -0.210606    -0.103239      0.358505  0.212822      0.563503   \n",
       "Wood Deck SF    -0.051135    -0.017310      0.120084  0.157212      0.255663   \n",
       "Open Porch SF   -0.071311    -0.014823      0.163040  0.103760      0.298412   \n",
       "Enclosed Porch   0.162519    -0.022866      0.012758  0.021868     -0.140332   \n",
       "3Ssn Porch      -0.024894    -0.037956      0.028564  0.016243      0.018240   \n",
       "Screen Porch    -0.025735    -0.050614      0.076666  0.055044      0.041615   \n",
       "Pool Area       -0.002845    -0.003434      0.173947  0.093775      0.030399   \n",
       "Misc Val        -0.008260    -0.029254      0.044476  0.069188      0.005179   \n",
       "Mo Sold         -0.050455     0.000350      0.011085  0.003859      0.031103   \n",
       "Yr Sold          0.009579    -0.017905     -0.007547 -0.023085     -0.020719   \n",
       "SalePrice       -0.246521    -0.085092      0.357318  0.266549      0.799262   \n",
       "\n",
       "                 Overall Cond  Year Built  Year Remod/Add  Mas Vnr Area  \\\n",
       "PID                  0.104451   -0.343388       -0.157111     -0.229283   \n",
       "MS SubClass         -0.067349    0.036579        0.043397      0.002730   \n",
       "Lot Frontage        -0.074448    0.121562        0.091712      0.222407   \n",
       "Lot Area            -0.034759    0.023258        0.021682      0.126830   \n",
       "Overall Qual        -0.094812    0.597027        0.569609      0.429418   \n",
       "Overall Cond         1.000000   -0.368773        0.047680     -0.135340   \n",
       "Year Built          -0.368773    1.000000        0.612095      0.313292   \n",
       "Year Remod/Add       0.047680    0.612095        1.000000      0.196928   \n",
       "Mas Vnr Area        -0.135340    0.313292        0.196928      1.000000   \n",
       "BsmtFin SF 1        -0.050935    0.279870        0.151790      0.301872   \n",
       "BsmtFin SF 2         0.041134   -0.027415       -0.062129     -0.016019   \n",
       "Bsmt Unf SF         -0.136819    0.128998        0.164805      0.091668   \n",
       "Total Bsmt SF       -0.173344    0.407526        0.297481      0.397040   \n",
       "1st Flr SF          -0.157052    0.310463        0.242108      0.395736   \n",
       "2nd Flr SF           0.006218    0.016828        0.158939      0.121805   \n",
       "Low Qual Fin SF      0.009175   -0.144282       -0.060365     -0.057701   \n",
       "Gr Liv Area         -0.115643    0.241726        0.316855      0.403611   \n",
       "Bsmt Full Bath      -0.042766    0.211849        0.134387      0.140113   \n",
       "Bsmt Half Bath       0.084455   -0.030626       -0.046292      0.015421   \n",
       "Full Bath           -0.214316    0.469406        0.457266      0.260153   \n",
       "Half Bath           -0.088127    0.269268        0.211771      0.192965   \n",
       "Bedroom AbvGr       -0.006137   -0.055093       -0.021536      0.080546   \n",
       "Kitchen AbvGr       -0.086386   -0.137852       -0.142404     -0.050998   \n",
       "TotRms AbvGrd       -0.089816    0.111919        0.197528      0.279563   \n",
       "Fireplaces          -0.031702    0.170672        0.133322      0.272068   \n",
       "Garage Yr Blt       -0.326017    0.834849        0.652310      0.254784   \n",
       "Garage Cars         -0.181557    0.537443        0.425403      0.360159   \n",
       "Garage Area         -0.153754    0.480131        0.376438      0.373458   \n",
       "Wood Deck SF         0.020344    0.228964        0.217857      0.165467   \n",
       "Open Porch SF       -0.068934    0.198365        0.241748      0.143748   \n",
       "Enclosed Porch       0.071459   -0.374364       -0.220383     -0.110787   \n",
       "3Ssn Porch           0.043852    0.015803        0.037412      0.013778   \n",
       "Screen Porch         0.044055   -0.041436       -0.046888      0.065643   \n",
       "Pool Area           -0.016787    0.002213       -0.011410      0.004617   \n",
       "Misc Val             0.034056   -0.011011       -0.003132      0.044934   \n",
       "Mo Sold             -0.007295    0.014577        0.018048     -0.000276   \n",
       "Yr Sold              0.031207   -0.013197        0.032652     -0.017715   \n",
       "SalePrice           -0.101697    0.558426        0.532974      0.508285   \n",
       "\n",
       "                 BsmtFin SF 1  ...  Wood Deck SF  Open Porch SF  \\\n",
       "PID                 -0.098375  ...     -0.051135      -0.071311   \n",
       "MS SubClass         -0.060075  ...     -0.017310      -0.014823   \n",
       "Lot Frontage         0.215583  ...      0.120084       0.163040   \n",
       "Lot Area             0.191555  ...      0.157212       0.103760   \n",
       "Overall Qual         0.284118  ...      0.255663       0.298412   \n",
       "Overall Cond        -0.050935  ...      0.020344      -0.068934   \n",
       "Year Built           0.279870  ...      0.228964       0.198365   \n",
       "Year Remod/Add       0.151790  ...      0.217857       0.241748   \n",
       "Mas Vnr Area         0.301872  ...      0.165467       0.143748   \n",
       "BsmtFin SF 1         1.000000  ...      0.224010       0.124947   \n",
       "BsmtFin SF 2        -0.054129  ...      0.098528      -0.005587   \n",
       "Bsmt Unf SF         -0.477875  ...     -0.039621       0.118880   \n",
       "Total Bsmt SF        0.536547  ...      0.229931       0.245627   \n",
       "1st Flr SF           0.457472  ...      0.227131       0.238041   \n",
       "2nd Flr SF          -0.164014  ...      0.089097       0.184538   \n",
       "Low Qual Fin SF     -0.066173  ...     -0.015646      -0.000761   \n",
       "Gr Liv Area          0.209633  ...      0.250153       0.340857   \n",
       "Bsmt Full Bath       0.640020  ...      0.186945       0.082268   \n",
       "Bsmt Half Bath       0.077548  ...      0.051430      -0.035069   \n",
       "Full Bath            0.077772  ...      0.179574       0.258675   \n",
       "Half Bath           -0.008457  ...      0.115212       0.180704   \n",
       "Bedroom AbvGr       -0.118959  ...      0.029711       0.083650   \n",
       "Kitchen AbvGr       -0.086738  ...     -0.087410      -0.068283   \n",
       "TotRms AbvGrd        0.047631  ...      0.154735       0.235684   \n",
       "Fireplaces           0.295882  ...      0.228064       0.159637   \n",
       "Garage Yr Blt        0.194238  ...      0.221991       0.231240   \n",
       "Garage Cars          0.255483  ...      0.241226       0.204182   \n",
       "Garage Area          0.309876  ...      0.238371       0.232912   \n",
       "Wood Deck SF         0.224010  ...      1.000000       0.039243   \n",
       "Open Porch SF        0.124947  ...      0.039243       1.000000   \n",
       "Enclosed Porch      -0.100455  ...     -0.119136      -0.059875   \n",
       "3Ssn Porch           0.050541  ...     -0.003967      -0.009458   \n",
       "Screen Porch         0.095874  ...     -0.052191       0.047548   \n",
       "Pool Area            0.084140  ...      0.094156       0.064135   \n",
       "Misc Val             0.092886  ...      0.056820       0.077254   \n",
       "Mo Sold             -0.001155  ...      0.016974       0.033651   \n",
       "Yr Sold              0.022397  ...      0.000882      -0.037467   \n",
       "SalePrice            0.432914  ...      0.327143       0.312951   \n",
       "\n",
       "                 Enclosed Porch  3Ssn Porch  Screen Porch  Pool Area  \\\n",
       "PID                    0.162519   -0.024894     -0.025735  -0.002845   \n",
       "MS SubClass           -0.022866   -0.037956     -0.050614  -0.003434   \n",
       "Lot Frontage           0.012758    0.028564      0.076666   0.173947   \n",
       "Lot Area               0.021868    0.016243      0.055044   0.093775   \n",
       "Overall Qual          -0.140332    0.018240      0.041615   0.030399   \n",
       "Overall Cond           0.071459    0.043852      0.044055  -0.016787   \n",
       "Year Built            -0.374364    0.015803     -0.041436   0.002213   \n",
       "Year Remod/Add        -0.220383    0.037412     -0.046888  -0.011410   \n",
       "Mas Vnr Area          -0.110787    0.013778      0.065643   0.004617   \n",
       "BsmtFin SF 1          -0.100455    0.050541      0.095874   0.084140   \n",
       "BsmtFin SF 2           0.032380   -0.023325      0.062951   0.044398   \n",
       "Bsmt Unf SF            0.006229   -0.005446     -0.048083  -0.031999   \n",
       "Total Bsmt SF         -0.085225    0.037871      0.075341   0.072128   \n",
       "1st Flr SF            -0.065713    0.044061      0.098316   0.121821   \n",
       "2nd Flr SF             0.055429   -0.032172      0.011741   0.044602   \n",
       "Low Qual Fin SF        0.087326   -0.004505      0.006943   0.035200   \n",
       "Gr Liv Area            0.004030    0.006481      0.086804   0.135463   \n",
       "Bsmt Full Bath        -0.069235    0.027034      0.052208   0.043705   \n",
       "Bsmt Half Bath        -0.009334    0.026954      0.042326   0.066902   \n",
       "Full Bath             -0.117795    0.015435     -0.015130   0.028205   \n",
       "Half Bath             -0.081312   -0.023231      0.035990   0.001515   \n",
       "Bedroom AbvGr          0.052115   -0.047151      0.009250   0.036707   \n",
       "Kitchen AbvGr          0.027911   -0.021379     -0.056337  -0.013066   \n",
       "TotRms AbvGrd          0.017221   -0.025097      0.033731   0.072103   \n",
       "Fireplaces            -0.000250    0.018414      0.168004   0.098449   \n",
       "Garage Yr Blt         -0.300879    0.020617     -0.062515  -0.014513   \n",
       "Garage Cars           -0.132840    0.023345      0.043012   0.030393   \n",
       "Garage Area           -0.106272    0.029458      0.062436   0.053051   \n",
       "Wood Deck SF          -0.119136   -0.003967     -0.052191   0.094156   \n",
       "Open Porch SF         -0.059875   -0.009458      0.047548   0.064135   \n",
       "Enclosed Porch         1.000000   -0.032674     -0.063965   0.092596   \n",
       "3Ssn Porch            -0.032674    1.000000     -0.029430  -0.006501   \n",
       "Screen Porch          -0.063965   -0.029430      1.000000   0.026383   \n",
       "Pool Area              0.092596   -0.006501      0.026383   1.000000   \n",
       "Misc Val               0.008773   -0.000753      0.007162   0.011942   \n",
       "Mo Sold               -0.021324    0.027229      0.028169  -0.042223   \n",
       "Yr Sold               -0.000505    0.022668     -0.006116  -0.052541   \n",
       "SalePrice             -0.128787    0.032225      0.112151   0.068403   \n",
       "\n",
       "                 Misc Val   Mo Sold   Yr Sold  SalePrice  \n",
       "PID             -0.008260 -0.050455  0.009579  -0.246521  \n",
       "MS SubClass     -0.029254  0.000350 -0.017905  -0.085092  \n",
       "Lot Frontage     0.044476  0.011085 -0.007547   0.357318  \n",
       "Lot Area         0.069188  0.003859 -0.023085   0.266549  \n",
       "Overall Qual     0.005179  0.031103 -0.020719   0.799262  \n",
       "Overall Cond     0.034056 -0.007295  0.031207  -0.101697  \n",
       "Year Built      -0.011011  0.014577 -0.013197   0.558426  \n",
       "Year Remod/Add  -0.003132  0.018048  0.032652   0.532974  \n",
       "Mas Vnr Area     0.044934 -0.000276 -0.017715   0.508285  \n",
       "BsmtFin SF 1     0.092886 -0.001155  0.022397   0.432914  \n",
       "BsmtFin SF 2    -0.005204 -0.009484  0.007105   0.005891  \n",
       "Bsmt Unf SF     -0.010166  0.021569 -0.036384   0.182855  \n",
       "Total Bsmt SF    0.083904  0.016678 -0.010405   0.632280  \n",
       "1st Flr SF       0.093003  0.040496 -0.013667   0.621676  \n",
       "2nd Flr SF      -0.005078  0.013247 -0.018530   0.269373  \n",
       "Low Qual Fin SF -0.005939  0.011397 -0.002074  -0.037660  \n",
       "Gr Liv Area      0.067252  0.043665 -0.026489   0.706780  \n",
       "Bsmt Full Bath  -0.004868 -0.003471  0.044905   0.276050  \n",
       "Bsmt Half Bath   0.036982  0.022699 -0.019529  -0.035835  \n",
       "Full Bath       -0.009771  0.046032 -0.004754   0.545604  \n",
       "Half Bath        0.026648 -0.001311  0.001561   0.285056  \n",
       "Bedroom AbvGr    0.000887  0.053677 -0.018008   0.143913  \n",
       "Kitchen AbvGr    0.025145  0.035201  0.035421  -0.119814  \n",
       "TotRms AbvGrd    0.061134  0.043784 -0.030498   0.495474  \n",
       "Fireplaces       0.008192  0.032152 -0.007612   0.474558  \n",
       "Garage Yr Blt   -0.009265  0.024498 -0.005159   0.526965  \n",
       "Garage Cars     -0.016948  0.049847 -0.022488   0.647877  \n",
       "Garage Area      0.008466  0.039544 -0.013018   0.640401  \n",
       "Wood Deck SF     0.056820  0.016974  0.000882   0.327143  \n",
       "Open Porch SF    0.077254  0.033651 -0.037467   0.312951  \n",
       "Enclosed Porch   0.008773 -0.021324 -0.000505  -0.128787  \n",
       "3Ssn Porch      -0.000753  0.027229  0.022668   0.032225  \n",
       "Screen Porch     0.007162  0.028169 -0.006116   0.112151  \n",
       "Pool Area        0.011942 -0.042223 -0.052541   0.068403  \n",
       "Misc Val         1.000000  0.007333  0.008574  -0.015691  \n",
       "Mo Sold          0.007333  1.000000 -0.155554   0.035259  \n",
       "Yr Sold          0.008574 -0.155554  1.000000  -0.030569  \n",
       "SalePrice       -0.015691  0.035259 -0.030569   1.000000  \n",
       "\n",
       "[38 rows x 38 columns]"
      ]
     },
     "execution_count": 26,
     "metadata": {},
     "output_type": "execute_result"
    }
   ],
   "source": [
    "df.corr()"
   ]
  },
  {
   "cell_type": "code",
   "execution_count": 27,
   "metadata": {},
   "outputs": [
    {
     "data": {
      "text/plain": [
       "Index(['PID', 'MS SubClass', 'MS Zoning', 'Lot Frontage', 'Lot Area', 'Street',\n",
       "       'Alley', 'Lot Shape', 'Land Contour', 'Utilities', 'Lot Config',\n",
       "       'Land Slope', 'Neighborhood', 'Condition 1', 'Condition 2', 'Bldg Type',\n",
       "       'House Style', 'Overall Qual', 'Overall Cond', 'Year Built',\n",
       "       'Year Remod/Add', 'Roof Style', 'Roof Matl', 'Exterior 1st',\n",
       "       'Exterior 2nd', 'Mas Vnr Type', 'Mas Vnr Area', 'Exter Qual',\n",
       "       'Exter Cond', 'Foundation', 'Bsmt Qual', 'Bsmt Cond', 'Bsmt Exposure',\n",
       "       'BsmtFin Type 1', 'BsmtFin SF 1', 'BsmtFin Type 2', 'BsmtFin SF 2',\n",
       "       'Bsmt Unf SF', 'Total Bsmt SF', 'Heating', 'Heating QC', 'Central Air',\n",
       "       'Electrical', '1st Flr SF', '2nd Flr SF', 'Low Qual Fin SF',\n",
       "       'Gr Liv Area', 'Bsmt Full Bath', 'Bsmt Half Bath', 'Full Bath',\n",
       "       'Half Bath', 'Bedroom AbvGr', 'Kitchen AbvGr', 'Kitchen Qual',\n",
       "       'TotRms AbvGrd', 'Functional', 'Fireplaces', 'Fireplace Qu',\n",
       "       'Garage Type', 'Garage Yr Blt', 'Garage Finish', 'Garage Cars',\n",
       "       'Garage Area', 'Garage Qual', 'Garage Cond', 'Paved Drive',\n",
       "       'Wood Deck SF', 'Open Porch SF', 'Enclosed Porch', '3Ssn Porch',\n",
       "       'Screen Porch', 'Pool Area', 'Pool QC', 'Fence', 'Misc Feature',\n",
       "       'Misc Val', 'Mo Sold', 'Yr Sold', 'Sale Type', 'Sale Condition',\n",
       "       'SalePrice'],\n",
       "      dtype='object')"
      ]
     },
     "execution_count": 27,
     "metadata": {},
     "output_type": "execute_result"
    }
   ],
   "source": [
    "df.columns"
   ]
  },
  {
   "cell_type": "code",
   "execution_count": 30,
   "metadata": {},
   "outputs": [
    {
     "data": {
      "text/plain": [
       "PID               -0.246521\n",
       "Enclosed Porch    -0.128787\n",
       "Kitchen AbvGr     -0.119814\n",
       "Overall Cond      -0.101697\n",
       "MS SubClass       -0.085092\n",
       "Low Qual Fin SF   -0.037660\n",
       "Bsmt Half Bath    -0.035835\n",
       "Yr Sold           -0.030569\n",
       "Misc Val          -0.015691\n",
       "BsmtFin SF 2       0.005891\n",
       "3Ssn Porch         0.032225\n",
       "Mo Sold            0.035259\n",
       "Pool Area          0.068403\n",
       "Screen Porch       0.112151\n",
       "Bedroom AbvGr      0.143913\n",
       "Bsmt Unf SF        0.182855\n",
       "Lot Area           0.266549\n",
       "2nd Flr SF         0.269373\n",
       "Bsmt Full Bath     0.276050\n",
       "Half Bath          0.285056\n",
       "Open Porch SF      0.312951\n",
       "Wood Deck SF       0.327143\n",
       "Lot Frontage       0.357318\n",
       "BsmtFin SF 1       0.432914\n",
       "Fireplaces         0.474558\n",
       "TotRms AbvGrd      0.495474\n",
       "Mas Vnr Area       0.508285\n",
       "Garage Yr Blt      0.526965\n",
       "Year Remod/Add     0.532974\n",
       "Full Bath          0.545604\n",
       "Year Built         0.558426\n",
       "1st Flr SF         0.621676\n",
       "Total Bsmt SF      0.632280\n",
       "Garage Area        0.640401\n",
       "Garage Cars        0.647877\n",
       "Gr Liv Area        0.706780\n",
       "Overall Qual       0.799262\n",
       "SalePrice          1.000000\n",
       "Name: SalePrice, dtype: float64"
      ]
     },
     "execution_count": 30,
     "metadata": {},
     "output_type": "execute_result"
    }
   ],
   "source": [
    "##we are seeing like traget value is highly correlated with what features\n",
    "df.corr()['SalePrice'].sort_values()"
   ]
  },
  {
   "cell_type": "code",
   "execution_count": 32,
   "metadata": {},
   "outputs": [
    {
     "data": {
      "text/plain": [
       "<AxesSubplot:xlabel='Overall Qual', ylabel='SalePrice'>"
      ]
     },
     "execution_count": 32,
     "metadata": {},
     "output_type": "execute_result"
    },
    {
     "data": {
      "image/png": "[encoded data removed]",
      "text/plain": [
       "<Figure size 432x288 with 1 Axes>"
      ]
     },
     "metadata": {
      "needs_background": "light"
     },
     "output_type": "display_data"
    }
   ],
   "source": [
    "sns.scatterplot(x=df['Overall Qual'],y=df['SalePrice'])"
   ]
  },
  {
   "cell_type": "code",
   "execution_count": 33,
   "metadata": {},
   "outputs": [
    {
     "data": {
      "text/plain": [
       "<AxesSubplot:xlabel='Overall Qual', ylabel='SalePrice'>"
      ]
     },
     "execution_count": 33,
     "metadata": {},
     "output_type": "execute_result"
    },
    {
     "data": {
      "image/png": "[encoded data removed]",
      "text/plain": [
       "<Figure size 432x288 with 1 Axes>"
      ]
     },
     "metadata": {
      "needs_background": "light"
     },
     "output_type": "display_data"
    }
   ],
   "source": [
    "sns.scatterplot(x='Overall Qual',y='SalePrice',data=df)"
   ]
  },
  {
   "cell_type": "code",
   "execution_count": 35,
   "metadata": {},
   "outputs": [
    {
     "data": {
      "text/plain": [
       "<AxesSubplot:xlabel='Gr Liv Area', ylabel='SalePrice'>"
      ]
     },
     "execution_count": 35,
     "metadata": {},
     "output_type": "execute_result"
    },
    {
     "data": {
      "image/png": "[encoded data removed]",
      "text/plain": [
       "<Figure size 432x288 with 1 Axes>"
      ]
     },
     "metadata": {
      "needs_background": "light"
     },
     "output_type": "display_data"
    }
   ],
   "source": [
    "sns.scatterplot(x='Gr Liv Area',y='SalePrice',data=df)"
   ]
  },
  {
   "cell_type": "code",
   "execution_count": 37,
   "metadata": {},
   "outputs": [
    {
     "data": {
      "text/html": [
       "<div>\n",
       "<style scoped>\n",
       "    .dataframe tbody tr th:only-of-type {\n",
       "        vertical-align: middle;\n",
       "    }\n",
       "\n",
       "    .dataframe tbody tr th {\n",
       "        vertical-align: top;\n",
       "    }\n",
       "\n",
       "    .dataframe thead th {\n",
       "        text-align: right;\n",
       "    }\n",
       "</style>\n",
       "<table border=\"1\" class=\"dataframe\">\n",
       "  <thead>\n",
       "    <tr style=\"text-align: right;\">\n",
       "      <th></th>\n",
       "      <th>PID</th>\n",
       "      <th>MS SubClass</th>\n",
       "      <th>MS Zoning</th>\n",
       "      <th>Lot Frontage</th>\n",
       "      <th>Lot Area</th>\n",
       "      <th>Street</th>\n",
       "      <th>Alley</th>\n",
       "      <th>Lot Shape</th>\n",
       "      <th>Land Contour</th>\n",
       "      <th>Utilities</th>\n",
       "      <th>...</th>\n",
       "      <th>Pool Area</th>\n",
       "      <th>Pool QC</th>\n",
       "      <th>Fence</th>\n",
       "      <th>Misc Feature</th>\n",
       "      <th>Misc Val</th>\n",
       "      <th>Mo Sold</th>\n",
       "      <th>Yr Sold</th>\n",
       "      <th>Sale Type</th>\n",
       "      <th>Sale Condition</th>\n",
       "      <th>SalePrice</th>\n",
       "    </tr>\n",
       "  </thead>\n",
       "  <tbody>\n",
       "    <tr>\n",
       "      <th>1182</th>\n",
       "      <td>533350090</td>\n",
       "      <td>60</td>\n",
       "      <td>RL</td>\n",
       "      <td>NaN</td>\n",
       "      <td>24572</td>\n",
       "      <td>Pave</td>\n",
       "      <td>NaN</td>\n",
       "      <td>IR1</td>\n",
       "      <td>Lvl</td>\n",
       "      <td>AllPub</td>\n",
       "      <td>...</td>\n",
       "      <td>0</td>\n",
       "      <td>NaN</td>\n",
       "      <td>NaN</td>\n",
       "      <td>NaN</td>\n",
       "      <td>0</td>\n",
       "      <td>6</td>\n",
       "      <td>2008</td>\n",
       "      <td>WD</td>\n",
       "      <td>Family</td>\n",
       "      <td>150000</td>\n",
       "    </tr>\n",
       "    <tr>\n",
       "      <th>1498</th>\n",
       "      <td>908154235</td>\n",
       "      <td>60</td>\n",
       "      <td>RL</td>\n",
       "      <td>313.0</td>\n",
       "      <td>63887</td>\n",
       "      <td>Pave</td>\n",
       "      <td>NaN</td>\n",
       "      <td>IR3</td>\n",
       "      <td>Bnk</td>\n",
       "      <td>AllPub</td>\n",
       "      <td>...</td>\n",
       "      <td>480</td>\n",
       "      <td>Gd</td>\n",
       "      <td>NaN</td>\n",
       "      <td>NaN</td>\n",
       "      <td>0</td>\n",
       "      <td>1</td>\n",
       "      <td>2008</td>\n",
       "      <td>New</td>\n",
       "      <td>Partial</td>\n",
       "      <td>160000</td>\n",
       "    </tr>\n",
       "    <tr>\n",
       "      <th>2180</th>\n",
       "      <td>908154195</td>\n",
       "      <td>20</td>\n",
       "      <td>RL</td>\n",
       "      <td>128.0</td>\n",
       "      <td>39290</td>\n",
       "      <td>Pave</td>\n",
       "      <td>NaN</td>\n",
       "      <td>IR1</td>\n",
       "      <td>Bnk</td>\n",
       "      <td>AllPub</td>\n",
       "      <td>...</td>\n",
       "      <td>0</td>\n",
       "      <td>NaN</td>\n",
       "      <td>NaN</td>\n",
       "      <td>Elev</td>\n",
       "      <td>17000</td>\n",
       "      <td>10</td>\n",
       "      <td>2007</td>\n",
       "      <td>New</td>\n",
       "      <td>Partial</td>\n",
       "      <td>183850</td>\n",
       "    </tr>\n",
       "    <tr>\n",
       "      <th>2181</th>\n",
       "      <td>908154205</td>\n",
       "      <td>60</td>\n",
       "      <td>RL</td>\n",
       "      <td>130.0</td>\n",
       "      <td>40094</td>\n",
       "      <td>Pave</td>\n",
       "      <td>NaN</td>\n",
       "      <td>IR1</td>\n",
       "      <td>Bnk</td>\n",
       "      <td>AllPub</td>\n",
       "      <td>...</td>\n",
       "      <td>0</td>\n",
       "      <td>NaN</td>\n",
       "      <td>NaN</td>\n",
       "      <td>NaN</td>\n",
       "      <td>0</td>\n",
       "      <td>10</td>\n",
       "      <td>2007</td>\n",
       "      <td>New</td>\n",
       "      <td>Partial</td>\n",
       "      <td>184750</td>\n",
       "    </tr>\n",
       "  </tbody>\n",
       "</table>\n",
       "<p>4 rows × 81 columns</p>\n",
       "</div>"
      ],
      "text/plain": [
       "            PID  MS SubClass MS Zoning  Lot Frontage  Lot Area Street Alley  \\\n",
       "1182  533350090           60        RL           NaN     24572   Pave   NaN   \n",
       "1498  908154235           60        RL         313.0     63887   Pave   NaN   \n",
       "2180  908154195           20        RL         128.0     39290   Pave   NaN   \n",
       "2181  908154205           60        RL         130.0     40094   Pave   NaN   \n",
       "\n",
       "     Lot Shape Land Contour Utilities  ... Pool Area Pool QC Fence  \\\n",
       "1182       IR1          Lvl    AllPub  ...         0     NaN   NaN   \n",
       "1498       IR3          Bnk    AllPub  ...       480      Gd   NaN   \n",
       "2180       IR1          Bnk    AllPub  ...         0     NaN   NaN   \n",
       "2181       IR1          Bnk    AllPub  ...         0     NaN   NaN   \n",
       "\n",
       "     Misc Feature Misc Val Mo Sold Yr Sold  Sale Type  Sale Condition  \\\n",
       "1182          NaN        0       6    2008        WD           Family   \n",
       "1498          NaN        0       1    2008        New         Partial   \n",
       "2180         Elev    17000      10    2007        New         Partial   \n",
       "2181          NaN        0      10    2007        New         Partial   \n",
       "\n",
       "      SalePrice  \n",
       "1182     150000  \n",
       "1498     160000  \n",
       "2180     183850  \n",
       "2181     184750  \n",
       "\n",
       "[4 rows x 81 columns]"
      ]
     },
     "execution_count": 37,
     "metadata": {},
     "output_type": "execute_result"
    }
   ],
   "source": [
    "#outlier after seeing teh graph of overall quality\n",
    "df[(df['Overall Qual']>8) & (df['SalePrice']<200000)]"
   ]
  },
  {
   "cell_type": "code",
   "execution_count": 38,
   "metadata": {},
   "outputs": [
    {
     "data": {
      "text/html": [
       "<div>\n",
       "<style scoped>\n",
       "    .dataframe tbody tr th:only-of-type {\n",
       "        vertical-align: middle;\n",
       "    }\n",
       "\n",
       "    .dataframe tbody tr th {\n",
       "        vertical-align: top;\n",
       "    }\n",
       "\n",
       "    .dataframe thead th {\n",
       "        text-align: right;\n",
       "    }\n",
       "</style>\n",
       "<table border=\"1\" class=\"dataframe\">\n",
       "  <thead>\n",
       "    <tr style=\"text-align: right;\">\n",
       "      <th></th>\n",
       "      <th>PID</th>\n",
       "      <th>MS SubClass</th>\n",
       "      <th>MS Zoning</th>\n",
       "      <th>Lot Frontage</th>\n",
       "      <th>Lot Area</th>\n",
       "      <th>Street</th>\n",
       "      <th>Alley</th>\n",
       "      <th>Lot Shape</th>\n",
       "      <th>Land Contour</th>\n",
       "      <th>Utilities</th>\n",
       "      <th>...</th>\n",
       "      <th>Pool Area</th>\n",
       "      <th>Pool QC</th>\n",
       "      <th>Fence</th>\n",
       "      <th>Misc Feature</th>\n",
       "      <th>Misc Val</th>\n",
       "      <th>Mo Sold</th>\n",
       "      <th>Yr Sold</th>\n",
       "      <th>Sale Type</th>\n",
       "      <th>Sale Condition</th>\n",
       "      <th>SalePrice</th>\n",
       "    </tr>\n",
       "  </thead>\n",
       "  <tbody>\n",
       "    <tr>\n",
       "      <th>1498</th>\n",
       "      <td>908154235</td>\n",
       "      <td>60</td>\n",
       "      <td>RL</td>\n",
       "      <td>313.0</td>\n",
       "      <td>63887</td>\n",
       "      <td>Pave</td>\n",
       "      <td>NaN</td>\n",
       "      <td>IR3</td>\n",
       "      <td>Bnk</td>\n",
       "      <td>AllPub</td>\n",
       "      <td>...</td>\n",
       "      <td>480</td>\n",
       "      <td>Gd</td>\n",
       "      <td>NaN</td>\n",
       "      <td>NaN</td>\n",
       "      <td>0</td>\n",
       "      <td>1</td>\n",
       "      <td>2008</td>\n",
       "      <td>New</td>\n",
       "      <td>Partial</td>\n",
       "      <td>160000</td>\n",
       "    </tr>\n",
       "    <tr>\n",
       "      <th>2180</th>\n",
       "      <td>908154195</td>\n",
       "      <td>20</td>\n",
       "      <td>RL</td>\n",
       "      <td>128.0</td>\n",
       "      <td>39290</td>\n",
       "      <td>Pave</td>\n",
       "      <td>NaN</td>\n",
       "      <td>IR1</td>\n",
       "      <td>Bnk</td>\n",
       "      <td>AllPub</td>\n",
       "      <td>...</td>\n",
       "      <td>0</td>\n",
       "      <td>NaN</td>\n",
       "      <td>NaN</td>\n",
       "      <td>Elev</td>\n",
       "      <td>17000</td>\n",
       "      <td>10</td>\n",
       "      <td>2007</td>\n",
       "      <td>New</td>\n",
       "      <td>Partial</td>\n",
       "      <td>183850</td>\n",
       "    </tr>\n",
       "    <tr>\n",
       "      <th>2181</th>\n",
       "      <td>908154205</td>\n",
       "      <td>60</td>\n",
       "      <td>RL</td>\n",
       "      <td>130.0</td>\n",
       "      <td>40094</td>\n",
       "      <td>Pave</td>\n",
       "      <td>NaN</td>\n",
       "      <td>IR1</td>\n",
       "      <td>Bnk</td>\n",
       "      <td>AllPub</td>\n",
       "      <td>...</td>\n",
       "      <td>0</td>\n",
       "      <td>NaN</td>\n",
       "      <td>NaN</td>\n",
       "      <td>NaN</td>\n",
       "      <td>0</td>\n",
       "      <td>10</td>\n",
       "      <td>2007</td>\n",
       "      <td>New</td>\n",
       "      <td>Partial</td>\n",
       "      <td>184750</td>\n",
       "    </tr>\n",
       "  </tbody>\n",
       "</table>\n",
       "<p>3 rows × 81 columns</p>\n",
       "</div>"
      ],
      "text/plain": [
       "            PID  MS SubClass MS Zoning  Lot Frontage  Lot Area Street Alley  \\\n",
       "1498  908154235           60        RL         313.0     63887   Pave   NaN   \n",
       "2180  908154195           20        RL         128.0     39290   Pave   NaN   \n",
       "2181  908154205           60        RL         130.0     40094   Pave   NaN   \n",
       "\n",
       "     Lot Shape Land Contour Utilities  ... Pool Area Pool QC Fence  \\\n",
       "1498       IR3          Bnk    AllPub  ...       480      Gd   NaN   \n",
       "2180       IR1          Bnk    AllPub  ...         0     NaN   NaN   \n",
       "2181       IR1          Bnk    AllPub  ...         0     NaN   NaN   \n",
       "\n",
       "     Misc Feature Misc Val Mo Sold Yr Sold  Sale Type  Sale Condition  \\\n",
       "1498          NaN        0       1    2008        New         Partial   \n",
       "2180         Elev    17000      10    2007        New         Partial   \n",
       "2181          NaN        0      10    2007        New         Partial   \n",
       "\n",
       "      SalePrice  \n",
       "1498     160000  \n",
       "2180     183850  \n",
       "2181     184750  \n",
       "\n",
       "[3 rows x 81 columns]"
      ]
     },
     "execution_count": 38,
     "metadata": {},
     "output_type": "execute_result"
    }
   ],
   "source": [
    "#outlier after seeing teh graph of Gr Liv Area\n",
    "df[(df['Gr Liv Area']>4000) & (df['SalePrice']<400000)]"
   ]
  },
  {
   "cell_type": "code",
   "execution_count": 39,
   "metadata": {},
   "outputs": [],
   "source": [
    "drop_ind=df[(df['Gr Liv Area']>4000) & (df['SalePrice']<400000)].index"
   ]
  },
  {
   "cell_type": "code",
   "execution_count": 40,
   "metadata": {},
   "outputs": [
    {
     "data": {
      "text/plain": [
       "Int64Index([1498, 2180, 2181], dtype='int64')"
      ]
     },
     "execution_count": 40,
     "metadata": {},
     "output_type": "execute_result"
    }
   ],
   "source": [
    "drop_ind"
   ]
  },
  {
   "cell_type": "code",
   "execution_count": 41,
   "metadata": {},
   "outputs": [],
   "source": [
    "df=df.drop(drop_ind,axis=0)"
   ]
  },
  {
   "cell_type": "code",
   "execution_count": 42,
   "metadata": {},
   "outputs": [
    {
     "data": {
      "text/plain": [
       "<AxesSubplot:xlabel='Gr Liv Area', ylabel='SalePrice'>"
      ]
     },
     "execution_count": 42,
     "metadata": {},
     "output_type": "execute_result"
    },
    {
     "data": {
      "image/png": "[encoded data removed]",
      "text/plain": [
       "<Figure size 432x288 with 1 Axes>"
      ]
     },
     "metadata": {
      "needs_background": "light"
     },
     "output_type": "display_data"
    }
   ],
   "source": [
    "#now we can see we do not have those ouliers\n",
    "sns.scatterplot(x='Gr Liv Area',y='SalePrice',data=df)"
   ]
  },
  {
   "cell_type": "code",
   "execution_count": 44,
   "metadata": {},
   "outputs": [],
   "source": [
    "df.to_csv(r\"C:\\Users\\dhire\\Documents\\Machine_learning_Inuron\\ML_Live_Class\\data\\Ames_outliers_removed.csv\")"
   ]
  },
  {
   "cell_type": "code",
   "execution_count": 45,
   "metadata": {},
   "outputs": [],
   "source": [
    "df=pd.read_csv(r\"C:\\Users\\dhire\\Documents\\Machine_learning_Inuron\\ML_Live_Class\\data\\Ames_outliers_removed.csv\")"
   ]
  },
  {
   "cell_type": "code",
   "execution_count": 46,
   "metadata": {},
   "outputs": [
    {
     "data": {
      "text/html": [
       "<div>\n",
       "<style scoped>\n",
       "    .dataframe tbody tr th:only-of-type {\n",
       "        vertical-align: middle;\n",
       "    }\n",
       "\n",
       "    .dataframe tbody tr th {\n",
       "        vertical-align: top;\n",
       "    }\n",
       "\n",
       "    .dataframe thead th {\n",
       "        text-align: right;\n",
       "    }\n",
       "</style>\n",
       "<table border=\"1\" class=\"dataframe\">\n",
       "  <thead>\n",
       "    <tr style=\"text-align: right;\">\n",
       "      <th></th>\n",
       "      <th>Unnamed: 0</th>\n",
       "      <th>PID</th>\n",
       "      <th>MS SubClass</th>\n",
       "      <th>MS Zoning</th>\n",
       "      <th>Lot Frontage</th>\n",
       "      <th>Lot Area</th>\n",
       "      <th>Street</th>\n",
       "      <th>Alley</th>\n",
       "      <th>Lot Shape</th>\n",
       "      <th>Land Contour</th>\n",
       "      <th>...</th>\n",
       "      <th>Pool Area</th>\n",
       "      <th>Pool QC</th>\n",
       "      <th>Fence</th>\n",
       "      <th>Misc Feature</th>\n",
       "      <th>Misc Val</th>\n",
       "      <th>Mo Sold</th>\n",
       "      <th>Yr Sold</th>\n",
       "      <th>Sale Type</th>\n",
       "      <th>Sale Condition</th>\n",
       "      <th>SalePrice</th>\n",
       "    </tr>\n",
       "  </thead>\n",
       "  <tbody>\n",
       "    <tr>\n",
       "      <th>0</th>\n",
       "      <td>0</td>\n",
       "      <td>526301100</td>\n",
       "      <td>20</td>\n",
       "      <td>RL</td>\n",
       "      <td>141.0</td>\n",
       "      <td>31770</td>\n",
       "      <td>Pave</td>\n",
       "      <td>NaN</td>\n",
       "      <td>IR1</td>\n",
       "      <td>Lvl</td>\n",
       "      <td>...</td>\n",
       "      <td>0</td>\n",
       "      <td>NaN</td>\n",
       "      <td>NaN</td>\n",
       "      <td>NaN</td>\n",
       "      <td>0</td>\n",
       "      <td>5</td>\n",
       "      <td>2010</td>\n",
       "      <td>WD</td>\n",
       "      <td>Normal</td>\n",
       "      <td>215000</td>\n",
       "    </tr>\n",
       "    <tr>\n",
       "      <th>1</th>\n",
       "      <td>1</td>\n",
       "      <td>526350040</td>\n",
       "      <td>20</td>\n",
       "      <td>RH</td>\n",
       "      <td>80.0</td>\n",
       "      <td>11622</td>\n",
       "      <td>Pave</td>\n",
       "      <td>NaN</td>\n",
       "      <td>Reg</td>\n",
       "      <td>Lvl</td>\n",
       "      <td>...</td>\n",
       "      <td>0</td>\n",
       "      <td>NaN</td>\n",
       "      <td>MnPrv</td>\n",
       "      <td>NaN</td>\n",
       "      <td>0</td>\n",
       "      <td>6</td>\n",
       "      <td>2010</td>\n",
       "      <td>WD</td>\n",
       "      <td>Normal</td>\n",
       "      <td>105000</td>\n",
       "    </tr>\n",
       "    <tr>\n",
       "      <th>2</th>\n",
       "      <td>2</td>\n",
       "      <td>526351010</td>\n",
       "      <td>20</td>\n",
       "      <td>RL</td>\n",
       "      <td>81.0</td>\n",
       "      <td>14267</td>\n",
       "      <td>Pave</td>\n",
       "      <td>NaN</td>\n",
       "      <td>IR1</td>\n",
       "      <td>Lvl</td>\n",
       "      <td>...</td>\n",
       "      <td>0</td>\n",
       "      <td>NaN</td>\n",
       "      <td>NaN</td>\n",
       "      <td>Gar2</td>\n",
       "      <td>12500</td>\n",
       "      <td>6</td>\n",
       "      <td>2010</td>\n",
       "      <td>WD</td>\n",
       "      <td>Normal</td>\n",
       "      <td>172000</td>\n",
       "    </tr>\n",
       "    <tr>\n",
       "      <th>3</th>\n",
       "      <td>3</td>\n",
       "      <td>526353030</td>\n",
       "      <td>20</td>\n",
       "      <td>RL</td>\n",
       "      <td>93.0</td>\n",
       "      <td>11160</td>\n",
       "      <td>Pave</td>\n",
       "      <td>NaN</td>\n",
       "      <td>Reg</td>\n",
       "      <td>Lvl</td>\n",
       "      <td>...</td>\n",
       "      <td>0</td>\n",
       "      <td>NaN</td>\n",
       "      <td>NaN</td>\n",
       "      <td>NaN</td>\n",
       "      <td>0</td>\n",
       "      <td>4</td>\n",
       "      <td>2010</td>\n",
       "      <td>WD</td>\n",
       "      <td>Normal</td>\n",
       "      <td>244000</td>\n",
       "    </tr>\n",
       "    <tr>\n",
       "      <th>4</th>\n",
       "      <td>4</td>\n",
       "      <td>527105010</td>\n",
       "      <td>60</td>\n",
       "      <td>RL</td>\n",
       "      <td>74.0</td>\n",
       "      <td>13830</td>\n",
       "      <td>Pave</td>\n",
       "      <td>NaN</td>\n",
       "      <td>IR1</td>\n",
       "      <td>Lvl</td>\n",
       "      <td>...</td>\n",
       "      <td>0</td>\n",
       "      <td>NaN</td>\n",
       "      <td>MnPrv</td>\n",
       "      <td>NaN</td>\n",
       "      <td>0</td>\n",
       "      <td>3</td>\n",
       "      <td>2010</td>\n",
       "      <td>WD</td>\n",
       "      <td>Normal</td>\n",
       "      <td>189900</td>\n",
       "    </tr>\n",
       "  </tbody>\n",
       "</table>\n",
       "<p>5 rows × 82 columns</p>\n",
       "</div>"
      ],
      "text/plain": [
       "   Unnamed: 0        PID  MS SubClass MS Zoning  Lot Frontage  Lot Area  \\\n",
       "0           0  526301100           20        RL         141.0     31770   \n",
       "1           1  526350040           20        RH          80.0     11622   \n",
       "2           2  526351010           20        RL          81.0     14267   \n",
       "3           3  526353030           20        RL          93.0     11160   \n",
       "4           4  527105010           60        RL          74.0     13830   \n",
       "\n",
       "  Street Alley Lot Shape Land Contour  ... Pool Area Pool QC  Fence  \\\n",
       "0   Pave   NaN       IR1          Lvl  ...         0     NaN    NaN   \n",
       "1   Pave   NaN       Reg          Lvl  ...         0     NaN  MnPrv   \n",
       "2   Pave   NaN       IR1          Lvl  ...         0     NaN    NaN   \n",
       "3   Pave   NaN       Reg          Lvl  ...         0     NaN    NaN   \n",
       "4   Pave   NaN       IR1          Lvl  ...         0     NaN  MnPrv   \n",
       "\n",
       "  Misc Feature Misc Val Mo Sold Yr Sold Sale Type  Sale Condition  SalePrice  \n",
       "0          NaN        0       5    2010       WD           Normal     215000  \n",
       "1          NaN        0       6    2010       WD           Normal     105000  \n",
       "2         Gar2    12500       6    2010       WD           Normal     172000  \n",
       "3          NaN        0       4    2010       WD           Normal     244000  \n",
       "4          NaN        0       3    2010       WD           Normal     189900  \n",
       "\n",
       "[5 rows x 82 columns]"
      ]
     },
     "execution_count": 46,
     "metadata": {},
     "output_type": "execute_result"
    }
   ],
   "source": [
    "df.head()"
   ]
  },
  {
   "cell_type": "code",
   "execution_count": 47,
   "metadata": {},
   "outputs": [
    {
     "name": "stdout",
     "output_type": "stream",
     "text": [
      "<class 'pandas.core.frame.DataFrame'>\n",
      "RangeIndex: 2927 entries, 0 to 2926\n",
      "Data columns (total 82 columns):\n",
      " #   Column           Non-Null Count  Dtype  \n",
      "---  ------           --------------  -----  \n",
      " 0   Unnamed: 0       2927 non-null   int64  \n",
      " 1   PID              2927 non-null   int64  \n",
      " 2   MS SubClass      2927 non-null   int64  \n",
      " 3   MS Zoning        2927 non-null   object \n",
      " 4   Lot Frontage     2437 non-null   float64\n",
      " 5   Lot Area         2927 non-null   int64  \n",
      " 6   Street           2927 non-null   object \n",
      " 7   Alley            198 non-null    object \n",
      " 8   Lot Shape        2927 non-null   object \n",
      " 9   Land Contour     2927 non-null   object \n",
      " 10  Utilities        2927 non-null   object \n",
      " 11  Lot Config       2927 non-null   object \n",
      " 12  Land Slope       2927 non-null   object \n",
      " 13  Neighborhood     2927 non-null   object \n",
      " 14  Condition 1      2927 non-null   object \n",
      " 15  Condition 2      2927 non-null   object \n",
      " 16  Bldg Type        2927 non-null   object \n",
      " 17  House Style      2927 non-null   object \n",
      " 18  Overall Qual     2927 non-null   int64  \n",
      " 19  Overall Cond     2927 non-null   int64  \n",
      " 20  Year Built       2927 non-null   int64  \n",
      " 21  Year Remod/Add   2927 non-null   int64  \n",
      " 22  Roof Style       2927 non-null   object \n",
      " 23  Roof Matl        2927 non-null   object \n",
      " 24  Exterior 1st     2927 non-null   object \n",
      " 25  Exterior 2nd     2927 non-null   object \n",
      " 26  Mas Vnr Type     2904 non-null   object \n",
      " 27  Mas Vnr Area     2904 non-null   float64\n",
      " 28  Exter Qual       2927 non-null   object \n",
      " 29  Exter Cond       2927 non-null   object \n",
      " 30  Foundation       2927 non-null   object \n",
      " 31  Bsmt Qual        2847 non-null   object \n",
      " 32  Bsmt Cond        2847 non-null   object \n",
      " 33  Bsmt Exposure    2844 non-null   object \n",
      " 34  BsmtFin Type 1   2847 non-null   object \n",
      " 35  BsmtFin SF 1     2926 non-null   float64\n",
      " 36  BsmtFin Type 2   2846 non-null   object \n",
      " 37  BsmtFin SF 2     2926 non-null   float64\n",
      " 38  Bsmt Unf SF      2926 non-null   float64\n",
      " 39  Total Bsmt SF    2926 non-null   float64\n",
      " 40  Heating          2927 non-null   object \n",
      " 41  Heating QC       2927 non-null   object \n",
      " 42  Central Air      2927 non-null   object \n",
      " 43  Electrical       2926 non-null   object \n",
      " 44  1st Flr SF       2927 non-null   int64  \n",
      " 45  2nd Flr SF       2927 non-null   int64  \n",
      " 46  Low Qual Fin SF  2927 non-null   int64  \n",
      " 47  Gr Liv Area      2927 non-null   int64  \n",
      " 48  Bsmt Full Bath   2925 non-null   float64\n",
      " 49  Bsmt Half Bath   2925 non-null   float64\n",
      " 50  Full Bath        2927 non-null   int64  \n",
      " 51  Half Bath        2927 non-null   int64  \n",
      " 52  Bedroom AbvGr    2927 non-null   int64  \n",
      " 53  Kitchen AbvGr    2927 non-null   int64  \n",
      " 54  Kitchen Qual     2927 non-null   object \n",
      " 55  TotRms AbvGrd    2927 non-null   int64  \n",
      " 56  Functional       2927 non-null   object \n",
      " 57  Fireplaces       2927 non-null   int64  \n",
      " 58  Fireplace Qu     1505 non-null   object \n",
      " 59  Garage Type      2770 non-null   object \n",
      " 60  Garage Yr Blt    2768 non-null   float64\n",
      " 61  Garage Finish    2768 non-null   object \n",
      " 62  Garage Cars      2926 non-null   float64\n",
      " 63  Garage Area      2926 non-null   float64\n",
      " 64  Garage Qual      2768 non-null   object \n",
      " 65  Garage Cond      2768 non-null   object \n",
      " 66  Paved Drive      2927 non-null   object \n",
      " 67  Wood Deck SF     2927 non-null   int64  \n",
      " 68  Open Porch SF    2927 non-null   int64  \n",
      " 69  Enclosed Porch   2927 non-null   int64  \n",
      " 70  3Ssn Porch       2927 non-null   int64  \n",
      " 71  Screen Porch     2927 non-null   int64  \n",
      " 72  Pool Area        2927 non-null   int64  \n",
      " 73  Pool QC          12 non-null     object \n",
      " 74  Fence            572 non-null    object \n",
      " 75  Misc Feature     105 non-null    object \n",
      " 76  Misc Val         2927 non-null   int64  \n",
      " 77  Mo Sold          2927 non-null   int64  \n",
      " 78  Yr Sold          2927 non-null   int64  \n",
      " 79  Sale Type        2927 non-null   object \n",
      " 80  Sale Condition   2927 non-null   object \n",
      " 81  SalePrice        2927 non-null   int64  \n",
      "dtypes: float64(11), int64(28), object(43)\n",
      "memory usage: 1.8+ MB\n"
     ]
    }
   ],
   "source": [
    "df.info()"
   ]
  },
  {
   "cell_type": "code",
   "execution_count": 48,
   "metadata": {},
   "outputs": [],
   "source": [
    "df=df.drop(\"PID\",axis=1)"
   ]
  },
  {
   "cell_type": "code",
   "execution_count": 49,
   "metadata": {},
   "outputs": [
    {
     "data": {
      "text/plain": [
       "81"
      ]
     },
     "execution_count": 49,
     "metadata": {},
     "output_type": "execute_result"
    }
   ],
   "source": [
    "len(df.columns)"
   ]
  },
  {
   "cell_type": "code",
   "execution_count": 52,
   "metadata": {},
   "outputs": [
    {
     "data": {
      "text/plain": [
       "2927"
      ]
     },
     "execution_count": 52,
     "metadata": {},
     "output_type": "execute_result"
    }
   ],
   "source": [
    "len(df)"
   ]
  },
  {
   "cell_type": "code",
   "execution_count": 51,
   "metadata": {},
   "outputs": [
    {
     "data": {
      "text/plain": [
       "Unnamed: 0          0\n",
       "MS SubClass         0\n",
       "MS Zoning           0\n",
       "Lot Frontage      490\n",
       "Lot Area            0\n",
       "                 ... \n",
       "Mo Sold             0\n",
       "Yr Sold             0\n",
       "Sale Type           0\n",
       "Sale Condition      0\n",
       "SalePrice           0\n",
       "Length: 81, dtype: int64"
      ]
     },
     "execution_count": 51,
     "metadata": {},
     "output_type": "execute_result"
    }
   ],
   "source": [
    "df.isnull().sum()"
   ]
  },
  {
   "cell_type": "code",
   "execution_count": 53,
   "metadata": {},
   "outputs": [
    {
     "data": {
      "text/plain": [
       "Unnamed: 0         0.00000\n",
       "MS SubClass        0.00000\n",
       "MS Zoning          0.00000\n",
       "Lot Frontage      16.74069\n",
       "Lot Area           0.00000\n",
       "                    ...   \n",
       "Mo Sold            0.00000\n",
       "Yr Sold            0.00000\n",
       "Sale Type          0.00000\n",
       "Sale Condition     0.00000\n",
       "SalePrice          0.00000\n",
       "Length: 81, dtype: float64"
      ]
     },
     "execution_count": 53,
     "metadata": {},
     "output_type": "execute_result"
    }
   ],
   "source": [
    "(df.isnull().sum()/len(df))*100"
   ]
  },
  {
   "cell_type": "code",
   "execution_count": 54,
   "metadata": {},
   "outputs": [],
   "source": [
    "def precent_missing(df):\n",
    "    precentage_nan=(df.isnull().sum()/len(df))*100\n",
    "    precentage_nan=precentage_nan[precentage_nan>0].sort_values()\n",
    "    return precentage_nan"
   ]
  },
  {
   "cell_type": "code",
   "execution_count": 55,
   "metadata": {},
   "outputs": [
    {
     "data": {
      "text/plain": [
       "Electrical         0.034165\n",
       "Garage Area        0.034165\n",
       "Total Bsmt SF      0.034165\n",
       "Bsmt Unf SF        0.034165\n",
       "BsmtFin SF 1       0.034165\n",
       "BsmtFin SF 2       0.034165\n",
       "Garage Cars        0.034165\n",
       "Bsmt Full Bath     0.068329\n",
       "Bsmt Half Bath     0.068329\n",
       "Mas Vnr Area       0.785787\n",
       "Mas Vnr Type       0.785787\n",
       "BsmtFin Type 1     2.733174\n",
       "Bsmt Qual          2.733174\n",
       "Bsmt Cond          2.733174\n",
       "BsmtFin Type 2     2.767339\n",
       "Bsmt Exposure      2.835668\n",
       "Garage Type        5.363854\n",
       "Garage Finish      5.432183\n",
       "Garage Qual        5.432183\n",
       "Garage Cond        5.432183\n",
       "Garage Yr Blt      5.432183\n",
       "Lot Frontage      16.740690\n",
       "Fireplace Qu      48.582166\n",
       "Fence             80.457807\n",
       "Alley             93.235395\n",
       "Misc Feature      96.412709\n",
       "Pool QC           99.590024\n",
       "dtype: float64"
      ]
     },
     "execution_count": 55,
     "metadata": {},
     "output_type": "execute_result"
    }
   ],
   "source": [
    "precentage_nan=precent_missing(df)\n",
    "precentage_nan"
   ]
  },
  {
   "cell_type": "code",
   "execution_count": 60,
   "metadata": {},
   "outputs": [
    {
     "data": {
      "text/plain": [
       "(array([ 0,  1,  2,  3,  4,  5,  6,  7,  8,  9, 10, 11, 12, 13, 14, 15, 16,\n",
       "        17, 18, 19, 20, 21, 22, 23, 24, 25, 26]),\n",
       " [Text(0, 0, 'Electrical'),\n",
       "  Text(1, 0, 'Garage Area'),\n",
       "  Text(2, 0, 'Total Bsmt SF'),\n",
       "  Text(3, 0, 'Bsmt Unf SF'),\n",
       "  Text(4, 0, 'BsmtFin SF 1'),\n",
       "  Text(5, 0, 'BsmtFin SF 2'),\n",
       "  Text(6, 0, 'Garage Cars'),\n",
       "  Text(7, 0, 'Bsmt Full Bath'),\n",
       "  Text(8, 0, 'Bsmt Half Bath'),\n",
       "  Text(9, 0, 'Mas Vnr Area'),\n",
       "  Text(10, 0, 'Mas Vnr Type'),\n",
       "  Text(11, 0, 'BsmtFin Type 1'),\n",
       "  Text(12, 0, 'Bsmt Qual'),\n",
       "  Text(13, 0, 'Bsmt Cond'),\n",
       "  Text(14, 0, 'BsmtFin Type 2'),\n",
       "  Text(15, 0, 'Bsmt Exposure'),\n",
       "  Text(16, 0, 'Garage Type'),\n",
       "  Text(17, 0, 'Garage Finish'),\n",
       "  Text(18, 0, 'Garage Qual'),\n",
       "  Text(19, 0, 'Garage Cond'),\n",
       "  Text(20, 0, 'Garage Yr Blt'),\n",
       "  Text(21, 0, 'Lot Frontage'),\n",
       "  Text(22, 0, 'Fireplace Qu'),\n",
       "  Text(23, 0, 'Fence'),\n",
       "  Text(24, 0, 'Alley'),\n",
       "  Text(25, 0, 'Misc Feature'),\n",
       "  Text(26, 0, 'Pool QC')])"
      ]
     },
     "execution_count": 60,
     "metadata": {},
     "output_type": "execute_result"
    },
    {
     "data": {
      "image/png": "[encoded data removed]",
      "text/plain": [
       "<Figure size 720x360 with 1 Axes>"
      ]
     },
     "metadata": {
      "needs_background": "light"
     },
     "output_type": "display_data"
    }
   ],
   "source": [
    "plt.figure(figsize=(10,5))\n",
    "sns.barplot(x=precentage_nan.index,y=precentage_nan)\n",
    "plt.xticks(rotation=90)"
   ]
  },
  {
   "cell_type": "code",
   "execution_count": 61,
   "metadata": {},
   "outputs": [
    {
     "data": {
      "text/plain": [
       "(0.0, 1.0)"
      ]
     },
     "execution_count": 61,
     "metadata": {},
     "output_type": "execute_result"
    },
    {
     "data": {
      "image/png": "[encoded data removed]",
      "text/plain": [
       "<Figure size 720x360 with 1 Axes>"
      ]
     },
     "metadata": {
      "needs_background": "light"
     },
     "output_type": "display_data"
    }
   ],
   "source": [
    "plt.figure(figsize=(10,5))\n",
    "sns.barplot(x=precentage_nan.index,y=precentage_nan)\n",
    "plt.xticks(rotation=90)\n",
    "plt.ylim(0,1) ##for visulaising 0 to 1 presentage"
   ]
  },
  {
   "cell_type": "code",
   "execution_count": 62,
   "metadata": {},
   "outputs": [
    {
     "data": {
      "text/plain": [
       "BsmtFin Type 1     2.733174\n",
       "Bsmt Qual          2.733174\n",
       "Bsmt Cond          2.733174\n",
       "BsmtFin Type 2     2.767339\n",
       "Bsmt Exposure      2.835668\n",
       "Garage Type        5.363854\n",
       "Garage Finish      5.432183\n",
       "Garage Qual        5.432183\n",
       "Garage Cond        5.432183\n",
       "Garage Yr Blt      5.432183\n",
       "Lot Frontage      16.740690\n",
       "Fireplace Qu      48.582166\n",
       "Fence             80.457807\n",
       "Alley             93.235395\n",
       "Misc Feature      96.412709\n",
       "Pool QC           99.590024\n",
       "dtype: float64"
      ]
     },
     "execution_count": 62,
     "metadata": {},
     "output_type": "execute_result"
    }
   ],
   "source": [
    "precentage_nan[precentage_nan>1] #dropped 1% of the daata"
   ]
  },
  {
   "cell_type": "code",
   "execution_count": 64,
   "metadata": {},
   "outputs": [
    {
     "data": {
      "text/html": [
       "<div>\n",
       "<style scoped>\n",
       "    .dataframe tbody tr th:only-of-type {\n",
       "        vertical-align: middle;\n",
       "    }\n",
       "\n",
       "    .dataframe tbody tr th {\n",
       "        vertical-align: top;\n",
       "    }\n",
       "\n",
       "    .dataframe thead th {\n",
       "        text-align: right;\n",
       "    }\n",
       "</style>\n",
       "<table border=\"1\" class=\"dataframe\">\n",
       "  <thead>\n",
       "    <tr style=\"text-align: right;\">\n",
       "      <th></th>\n",
       "      <th>Unnamed: 0</th>\n",
       "      <th>MS SubClass</th>\n",
       "      <th>MS Zoning</th>\n",
       "      <th>Lot Frontage</th>\n",
       "      <th>Lot Area</th>\n",
       "      <th>Street</th>\n",
       "      <th>Alley</th>\n",
       "      <th>Lot Shape</th>\n",
       "      <th>Land Contour</th>\n",
       "      <th>Utilities</th>\n",
       "      <th>...</th>\n",
       "      <th>Pool Area</th>\n",
       "      <th>Pool QC</th>\n",
       "      <th>Fence</th>\n",
       "      <th>Misc Feature</th>\n",
       "      <th>Misc Val</th>\n",
       "      <th>Mo Sold</th>\n",
       "      <th>Yr Sold</th>\n",
       "      <th>Sale Type</th>\n",
       "      <th>Sale Condition</th>\n",
       "      <th>SalePrice</th>\n",
       "    </tr>\n",
       "  </thead>\n",
       "  <tbody>\n",
       "    <tr>\n",
       "      <th>1576</th>\n",
       "      <td>1577</td>\n",
       "      <td>80</td>\n",
       "      <td>RL</td>\n",
       "      <td>73.0</td>\n",
       "      <td>9735</td>\n",
       "      <td>Pave</td>\n",
       "      <td>NaN</td>\n",
       "      <td>Reg</td>\n",
       "      <td>Lvl</td>\n",
       "      <td>AllPub</td>\n",
       "      <td>...</td>\n",
       "      <td>0</td>\n",
       "      <td>NaN</td>\n",
       "      <td>NaN</td>\n",
       "      <td>NaN</td>\n",
       "      <td>0</td>\n",
       "      <td>5</td>\n",
       "      <td>2008</td>\n",
       "      <td>WD</td>\n",
       "      <td>Normal</td>\n",
       "      <td>167500</td>\n",
       "    </tr>\n",
       "  </tbody>\n",
       "</table>\n",
       "<p>1 rows × 81 columns</p>\n",
       "</div>"
      ],
      "text/plain": [
       "      Unnamed: 0  MS SubClass MS Zoning  Lot Frontage  Lot Area Street Alley  \\\n",
       "1576        1577           80        RL          73.0      9735   Pave   NaN   \n",
       "\n",
       "     Lot Shape Land Contour Utilities  ... Pool Area Pool QC Fence  \\\n",
       "1576       Reg          Lvl    AllPub  ...         0     NaN   NaN   \n",
       "\n",
       "     Misc Feature Misc Val Mo Sold Yr Sold  Sale Type  Sale Condition  \\\n",
       "1576          NaN        0       5    2008        WD           Normal   \n",
       "\n",
       "      SalePrice  \n",
       "1576     167500  \n",
       "\n",
       "[1 rows x 81 columns]"
      ]
     },
     "execution_count": 64,
     "metadata": {},
     "output_type": "execute_result"
    }
   ],
   "source": [
    "##see those rows\n",
    "df[df['Electrical'].isnull()]"
   ]
  },
  {
   "cell_type": "code",
   "execution_count": 65,
   "metadata": {},
   "outputs": [
    {
     "data": {
      "text/html": [
       "<div>\n",
       "<style scoped>\n",
       "    .dataframe tbody tr th:only-of-type {\n",
       "        vertical-align: middle;\n",
       "    }\n",
       "\n",
       "    .dataframe tbody tr th {\n",
       "        vertical-align: top;\n",
       "    }\n",
       "\n",
       "    .dataframe thead th {\n",
       "        text-align: right;\n",
       "    }\n",
       "</style>\n",
       "<table border=\"1\" class=\"dataframe\">\n",
       "  <thead>\n",
       "    <tr style=\"text-align: right;\">\n",
       "      <th></th>\n",
       "      <th>Unnamed: 0</th>\n",
       "      <th>MS SubClass</th>\n",
       "      <th>MS Zoning</th>\n",
       "      <th>Lot Frontage</th>\n",
       "      <th>Lot Area</th>\n",
       "      <th>Street</th>\n",
       "      <th>Alley</th>\n",
       "      <th>Lot Shape</th>\n",
       "      <th>Land Contour</th>\n",
       "      <th>Utilities</th>\n",
       "      <th>...</th>\n",
       "      <th>Pool Area</th>\n",
       "      <th>Pool QC</th>\n",
       "      <th>Fence</th>\n",
       "      <th>Misc Feature</th>\n",
       "      <th>Misc Val</th>\n",
       "      <th>Mo Sold</th>\n",
       "      <th>Yr Sold</th>\n",
       "      <th>Sale Type</th>\n",
       "      <th>Sale Condition</th>\n",
       "      <th>SalePrice</th>\n",
       "    </tr>\n",
       "  </thead>\n",
       "  <tbody>\n",
       "    <tr>\n",
       "      <th>2233</th>\n",
       "      <td>2236</td>\n",
       "      <td>70</td>\n",
       "      <td>RM</td>\n",
       "      <td>50.0</td>\n",
       "      <td>9060</td>\n",
       "      <td>Pave</td>\n",
       "      <td>NaN</td>\n",
       "      <td>Reg</td>\n",
       "      <td>Lvl</td>\n",
       "      <td>AllPub</td>\n",
       "      <td>...</td>\n",
       "      <td>0</td>\n",
       "      <td>NaN</td>\n",
       "      <td>MnPrv</td>\n",
       "      <td>NaN</td>\n",
       "      <td>0</td>\n",
       "      <td>3</td>\n",
       "      <td>2007</td>\n",
       "      <td>WD</td>\n",
       "      <td>Alloca</td>\n",
       "      <td>150909</td>\n",
       "    </tr>\n",
       "  </tbody>\n",
       "</table>\n",
       "<p>1 rows × 81 columns</p>\n",
       "</div>"
      ],
      "text/plain": [
       "      Unnamed: 0  MS SubClass MS Zoning  Lot Frontage  Lot Area Street Alley  \\\n",
       "2233        2236           70        RM          50.0      9060   Pave   NaN   \n",
       "\n",
       "     Lot Shape Land Contour Utilities  ... Pool Area Pool QC  Fence  \\\n",
       "2233       Reg          Lvl    AllPub  ...         0     NaN  MnPrv   \n",
       "\n",
       "     Misc Feature Misc Val Mo Sold Yr Sold  Sale Type  Sale Condition  \\\n",
       "2233          NaN        0       3    2007        WD           Alloca   \n",
       "\n",
       "      SalePrice  \n",
       "2233     150909  \n",
       "\n",
       "[1 rows x 81 columns]"
      ]
     },
     "execution_count": 65,
     "metadata": {},
     "output_type": "execute_result"
    }
   ],
   "source": [
    "df[df['Garage Area'].isnull()]"
   ]
  },
  {
   "cell_type": "code",
   "execution_count": 66,
   "metadata": {},
   "outputs": [
    {
     "data": {
      "text/html": [
       "<div>\n",
       "<style scoped>\n",
       "    .dataframe tbody tr th:only-of-type {\n",
       "        vertical-align: middle;\n",
       "    }\n",
       "\n",
       "    .dataframe tbody tr th {\n",
       "        vertical-align: top;\n",
       "    }\n",
       "\n",
       "    .dataframe thead th {\n",
       "        text-align: right;\n",
       "    }\n",
       "</style>\n",
       "<table border=\"1\" class=\"dataframe\">\n",
       "  <thead>\n",
       "    <tr style=\"text-align: right;\">\n",
       "      <th></th>\n",
       "      <th>Unnamed: 0</th>\n",
       "      <th>MS SubClass</th>\n",
       "      <th>MS Zoning</th>\n",
       "      <th>Lot Frontage</th>\n",
       "      <th>Lot Area</th>\n",
       "      <th>Street</th>\n",
       "      <th>Alley</th>\n",
       "      <th>Lot Shape</th>\n",
       "      <th>Land Contour</th>\n",
       "      <th>Utilities</th>\n",
       "      <th>...</th>\n",
       "      <th>Pool Area</th>\n",
       "      <th>Pool QC</th>\n",
       "      <th>Fence</th>\n",
       "      <th>Misc Feature</th>\n",
       "      <th>Misc Val</th>\n",
       "      <th>Mo Sold</th>\n",
       "      <th>Yr Sold</th>\n",
       "      <th>Sale Type</th>\n",
       "      <th>Sale Condition</th>\n",
       "      <th>SalePrice</th>\n",
       "    </tr>\n",
       "  </thead>\n",
       "  <tbody>\n",
       "    <tr>\n",
       "      <th>1341</th>\n",
       "      <td>1341</td>\n",
       "      <td>20</td>\n",
       "      <td>RM</td>\n",
       "      <td>99.0</td>\n",
       "      <td>5940</td>\n",
       "      <td>Pave</td>\n",
       "      <td>NaN</td>\n",
       "      <td>IR1</td>\n",
       "      <td>Lvl</td>\n",
       "      <td>AllPub</td>\n",
       "      <td>...</td>\n",
       "      <td>0</td>\n",
       "      <td>NaN</td>\n",
       "      <td>MnPrv</td>\n",
       "      <td>NaN</td>\n",
       "      <td>0</td>\n",
       "      <td>4</td>\n",
       "      <td>2008</td>\n",
       "      <td>ConLD</td>\n",
       "      <td>Abnorml</td>\n",
       "      <td>79000</td>\n",
       "    </tr>\n",
       "    <tr>\n",
       "      <th>1497</th>\n",
       "      <td>1497</td>\n",
       "      <td>20</td>\n",
       "      <td>RL</td>\n",
       "      <td>123.0</td>\n",
       "      <td>47007</td>\n",
       "      <td>Pave</td>\n",
       "      <td>NaN</td>\n",
       "      <td>IR1</td>\n",
       "      <td>Lvl</td>\n",
       "      <td>AllPub</td>\n",
       "      <td>...</td>\n",
       "      <td>0</td>\n",
       "      <td>NaN</td>\n",
       "      <td>NaN</td>\n",
       "      <td>NaN</td>\n",
       "      <td>0</td>\n",
       "      <td>7</td>\n",
       "      <td>2008</td>\n",
       "      <td>WD</td>\n",
       "      <td>Normal</td>\n",
       "      <td>284700</td>\n",
       "    </tr>\n",
       "  </tbody>\n",
       "</table>\n",
       "<p>2 rows × 81 columns</p>\n",
       "</div>"
      ],
      "text/plain": [
       "      Unnamed: 0  MS SubClass MS Zoning  Lot Frontage  Lot Area Street Alley  \\\n",
       "1341        1341           20        RM          99.0      5940   Pave   NaN   \n",
       "1497        1497           20        RL         123.0     47007   Pave   NaN   \n",
       "\n",
       "     Lot Shape Land Contour Utilities  ... Pool Area Pool QC  Fence  \\\n",
       "1341       IR1          Lvl    AllPub  ...         0     NaN  MnPrv   \n",
       "1497       IR1          Lvl    AllPub  ...         0     NaN    NaN   \n",
       "\n",
       "     Misc Feature Misc Val Mo Sold Yr Sold  Sale Type  Sale Condition  \\\n",
       "1341          NaN        0       4    2008      ConLD         Abnorml   \n",
       "1497          NaN        0       7    2008        WD           Normal   \n",
       "\n",
       "      SalePrice  \n",
       "1341      79000  \n",
       "1497     284700  \n",
       "\n",
       "[2 rows x 81 columns]"
      ]
     },
     "execution_count": 66,
     "metadata": {},
     "output_type": "execute_result"
    }
   ],
   "source": [
    "df[df['Bsmt Full Bath'].isnull()]"
   ]
  },
  {
   "cell_type": "code",
   "execution_count": 67,
   "metadata": {},
   "outputs": [],
   "source": [
    "df=df.dropna(axis=0,subset=['Electrical','BsmtFin SF 2'])"
   ]
  },
  {
   "cell_type": "code",
   "execution_count": 68,
   "metadata": {},
   "outputs": [],
   "source": [
    "def precent_missing(df):\n",
    "    precentage_nan=(df.isnull().sum()/len(df))*100\n",
    "    precentage_nan=precentage_nan[precentage_nan>0].sort_values()\n",
    "    return precentage_nan"
   ]
  },
  {
   "cell_type": "code",
   "execution_count": 69,
   "metadata": {},
   "outputs": [
    {
     "data": {
      "text/plain": [
       "Bsmt Half Bath     0.034188\n",
       "Bsmt Full Bath     0.034188\n",
       "Garage Area        0.034188\n",
       "Garage Cars        0.034188\n",
       "Mas Vnr Type       0.786325\n",
       "Mas Vnr Area       0.786325\n",
       "Bsmt Qual          2.700855\n",
       "Bsmt Cond          2.700855\n",
       "BsmtFin Type 1     2.700855\n",
       "BsmtFin Type 2     2.735043\n",
       "Bsmt Exposure      2.803419\n",
       "Garage Type        5.367521\n",
       "Garage Cond        5.435897\n",
       "Garage Qual        5.435897\n",
       "Garage Yr Blt      5.435897\n",
       "Garage Finish      5.435897\n",
       "Lot Frontage      16.752137\n",
       "Fireplace Qu      48.547009\n",
       "Fence             80.478632\n",
       "Alley             93.230769\n",
       "Misc Feature      96.410256\n",
       "Pool QC           99.589744\n",
       "dtype: float64"
      ]
     },
     "execution_count": 69,
     "metadata": {},
     "output_type": "execute_result"
    }
   ],
   "source": [
    "precentage_nan=precent_missing(df)\n",
    "precentage_nan"
   ]
  },
  {
   "cell_type": "code",
   "execution_count": 70,
   "metadata": {},
   "outputs": [
    {
     "data": {
      "text/plain": [
       "(array([ 0,  1,  2,  3,  4,  5,  6,  7,  8,  9, 10, 11, 12, 13, 14, 15, 16,\n",
       "        17, 18, 19, 20, 21]),\n",
       " [Text(0, 0, 'Bsmt Half Bath'),\n",
       "  Text(1, 0, 'Bsmt Full Bath'),\n",
       "  Text(2, 0, 'Garage Area'),\n",
       "  Text(3, 0, 'Garage Cars'),\n",
       "  Text(4, 0, 'Mas Vnr Type'),\n",
       "  Text(5, 0, 'Mas Vnr Area'),\n",
       "  Text(6, 0, 'Bsmt Qual'),\n",
       "  Text(7, 0, 'Bsmt Cond'),\n",
       "  Text(8, 0, 'BsmtFin Type 1'),\n",
       "  Text(9, 0, 'BsmtFin Type 2'),\n",
       "  Text(10, 0, 'Bsmt Exposure'),\n",
       "  Text(11, 0, 'Garage Type'),\n",
       "  Text(12, 0, 'Garage Cond'),\n",
       "  Text(13, 0, 'Garage Qual'),\n",
       "  Text(14, 0, 'Garage Yr Blt'),\n",
       "  Text(15, 0, 'Garage Finish'),\n",
       "  Text(16, 0, 'Lot Frontage'),\n",
       "  Text(17, 0, 'Fireplace Qu'),\n",
       "  Text(18, 0, 'Fence'),\n",
       "  Text(19, 0, 'Alley'),\n",
       "  Text(20, 0, 'Misc Feature'),\n",
       "  Text(21, 0, 'Pool QC')])"
      ]
     },
     "execution_count": 70,
     "metadata": {},
     "output_type": "execute_result"
    },
    {
     "data": {
      "image/png": "[encoded data removed]",
      "text/plain": [
       "<Figure size 720x360 with 1 Axes>"
      ]
     },
     "metadata": {
      "needs_background": "light"
     },
     "output_type": "display_data"
    }
   ],
   "source": [
    "plt.figure(figsize=(10,5))\n",
    "sns.barplot(x=precentage_nan.index,y=precentage_nan)\n",
    "plt.xticks(rotation=90)"
   ]
  },
  {
   "cell_type": "code",
   "execution_count": 71,
   "metadata": {},
   "outputs": [
    {
     "data": {
      "text/html": [
       "<div>\n",
       "<style scoped>\n",
       "    .dataframe tbody tr th:only-of-type {\n",
       "        vertical-align: middle;\n",
       "    }\n",
       "\n",
       "    .dataframe tbody tr th {\n",
       "        vertical-align: top;\n",
       "    }\n",
       "\n",
       "    .dataframe thead th {\n",
       "        text-align: right;\n",
       "    }\n",
       "</style>\n",
       "<table border=\"1\" class=\"dataframe\">\n",
       "  <thead>\n",
       "    <tr style=\"text-align: right;\">\n",
       "      <th></th>\n",
       "      <th>Unnamed: 0</th>\n",
       "      <th>MS SubClass</th>\n",
       "      <th>MS Zoning</th>\n",
       "      <th>Lot Frontage</th>\n",
       "      <th>Lot Area</th>\n",
       "      <th>Street</th>\n",
       "      <th>Alley</th>\n",
       "      <th>Lot Shape</th>\n",
       "      <th>Land Contour</th>\n",
       "      <th>Utilities</th>\n",
       "      <th>...</th>\n",
       "      <th>Pool Area</th>\n",
       "      <th>Pool QC</th>\n",
       "      <th>Fence</th>\n",
       "      <th>Misc Feature</th>\n",
       "      <th>Misc Val</th>\n",
       "      <th>Mo Sold</th>\n",
       "      <th>Yr Sold</th>\n",
       "      <th>Sale Type</th>\n",
       "      <th>Sale Condition</th>\n",
       "      <th>SalePrice</th>\n",
       "    </tr>\n",
       "  </thead>\n",
       "  <tbody>\n",
       "    <tr>\n",
       "      <th>1497</th>\n",
       "      <td>1497</td>\n",
       "      <td>20</td>\n",
       "      <td>RL</td>\n",
       "      <td>123.0</td>\n",
       "      <td>47007</td>\n",
       "      <td>Pave</td>\n",
       "      <td>NaN</td>\n",
       "      <td>IR1</td>\n",
       "      <td>Lvl</td>\n",
       "      <td>AllPub</td>\n",
       "      <td>...</td>\n",
       "      <td>0</td>\n",
       "      <td>NaN</td>\n",
       "      <td>NaN</td>\n",
       "      <td>NaN</td>\n",
       "      <td>0</td>\n",
       "      <td>7</td>\n",
       "      <td>2008</td>\n",
       "      <td>WD</td>\n",
       "      <td>Normal</td>\n",
       "      <td>284700</td>\n",
       "    </tr>\n",
       "  </tbody>\n",
       "</table>\n",
       "<p>1 rows × 81 columns</p>\n",
       "</div>"
      ],
      "text/plain": [
       "      Unnamed: 0  MS SubClass MS Zoning  Lot Frontage  Lot Area Street Alley  \\\n",
       "1497        1497           20        RL         123.0     47007   Pave   NaN   \n",
       "\n",
       "     Lot Shape Land Contour Utilities  ... Pool Area Pool QC Fence  \\\n",
       "1497       IR1          Lvl    AllPub  ...         0     NaN   NaN   \n",
       "\n",
       "     Misc Feature Misc Val Mo Sold Yr Sold  Sale Type  Sale Condition  \\\n",
       "1497          NaN        0       7    2008        WD           Normal   \n",
       "\n",
       "      SalePrice  \n",
       "1497     284700  \n",
       "\n",
       "[1 rows x 81 columns]"
      ]
     },
     "execution_count": 71,
     "metadata": {},
     "output_type": "execute_result"
    }
   ],
   "source": [
    "df[df['Bsmt Half Bath'].isnull()]"
   ]
  },
  {
   "cell_type": "code",
   "execution_count": 73,
   "metadata": {},
   "outputs": [
    {
     "data": {
      "text/plain": [
       "81"
      ]
     },
     "execution_count": 73,
     "metadata": {},
     "output_type": "execute_result"
    }
   ],
   "source": [
    "len(df.columns)"
   ]
  },
  {
   "cell_type": "code",
   "execution_count": 79,
   "metadata": {},
   "outputs": [
    {
     "data": {
      "text/html": [
       "<div>\n",
       "<style scoped>\n",
       "    .dataframe tbody tr th:only-of-type {\n",
       "        vertical-align: middle;\n",
       "    }\n",
       "\n",
       "    .dataframe tbody tr th {\n",
       "        vertical-align: top;\n",
       "    }\n",
       "\n",
       "    .dataframe thead th {\n",
       "        text-align: right;\n",
       "    }\n",
       "</style>\n",
       "<table border=\"1\" class=\"dataframe\">\n",
       "  <thead>\n",
       "    <tr style=\"text-align: right;\">\n",
       "      <th></th>\n",
       "      <th>Unnamed: 0</th>\n",
       "      <th>MS SubClass</th>\n",
       "      <th>MS Zoning</th>\n",
       "      <th>Lot Frontage</th>\n",
       "      <th>Lot Area</th>\n",
       "      <th>Street</th>\n",
       "      <th>Alley</th>\n",
       "      <th>Lot Shape</th>\n",
       "      <th>Land Contour</th>\n",
       "      <th>Utilities</th>\n",
       "      <th>...</th>\n",
       "      <th>Pool Area</th>\n",
       "      <th>Pool QC</th>\n",
       "      <th>Fence</th>\n",
       "      <th>Misc Feature</th>\n",
       "      <th>Misc Val</th>\n",
       "      <th>Mo Sold</th>\n",
       "      <th>Yr Sold</th>\n",
       "      <th>Sale Type</th>\n",
       "      <th>Sale Condition</th>\n",
       "      <th>SalePrice</th>\n",
       "    </tr>\n",
       "  </thead>\n",
       "  <tbody>\n",
       "  </tbody>\n",
       "</table>\n",
       "<p>0 rows × 81 columns</p>\n",
       "</div>"
      ],
      "text/plain": [
       "Empty DataFrame\n",
       "Columns: [Unnamed: 0, MS SubClass, MS Zoning, Lot Frontage, Lot Area, Street, Alley, Lot Shape, Land Contour, Utilities, Lot Config, Land Slope, Neighborhood, Condition 1, Condition 2, Bldg Type, House Style, Overall Qual, Overall Cond, Year Built, Year Remod/Add, Roof Style, Roof Matl, Exterior 1st, Exterior 2nd, Mas Vnr Type, Mas Vnr Area, Exter Qual, Exter Cond, Foundation, Bsmt Qual, Bsmt Cond, Bsmt Exposure, BsmtFin Type 1, BsmtFin SF 1, BsmtFin Type 2, BsmtFin SF 2, Bsmt Unf SF, Total Bsmt SF, Heating, Heating QC, Central Air, Electrical, 1st Flr SF, 2nd Flr SF, Low Qual Fin SF, Gr Liv Area, Bsmt Full Bath, Bsmt Half Bath, Full Bath, Half Bath, Bedroom AbvGr, Kitchen AbvGr, Kitchen Qual, TotRms AbvGrd, Functional, Fireplaces, Fireplace Qu, Garage Type, Garage Yr Blt, Garage Finish, Garage Cars, Garage Area, Garage Qual, Garage Cond, Paved Drive, Wood Deck SF, Open Porch SF, Enclosed Porch, 3Ssn Porch, Screen Porch, Pool Area, Pool QC, Fence, Misc Feature, Misc Val, Mo Sold, Yr Sold, Sale Type, Sale Condition, SalePrice]\n",
       "Index: []\n",
       "\n",
       "[0 rows x 81 columns]"
      ]
     },
     "execution_count": 79,
     "metadata": {},
     "output_type": "execute_result"
    }
   ],
   "source": [
    "df[df['Bsmt Full Bath'].isnull()]"
   ]
  },
  {
   "cell_type": "code",
   "execution_count": 78,
   "metadata": {},
   "outputs": [],
   "source": [
    "# BSMT Numeric Columns - fillna \"0\"\n",
    "bsmt_num_cols = ['BsmtFin SF 1','BsmtFin SF 2', 'Bsmt Unf SF', 'Total Bsmt SF','Bsmt Full Bath', 'Bsmt Half Bath']\n",
    "df[bsmt_num_cols] = df[bsmt_num_cols].fillna(0) #0 Imputation\n",
    "\n",
    "#BSMT Ctegorical Columns - fill \"None\"\n",
    "bsmt_str_cols = ['Bsmt Qual', 'Bsmt Cond', 'Bsmt Exposure', 'BsmtFin Type 1', 'BsmtFin Type 2']\n",
    "df[bsmt_str_cols] = df[bsmt_str_cols].fillna('None') #None Imputation"
   ]
  },
  {
   "cell_type": "code",
   "execution_count": 80,
   "metadata": {},
   "outputs": [],
   "source": [
    "def precent_missing(df):\n",
    "    precentage_nan=(df.isnull().sum()/len(df))*100\n",
    "    precentage_nan=precentage_nan[precentage_nan>0].sort_values()\n",
    "    return precentage_nan"
   ]
  },
  {
   "cell_type": "code",
   "execution_count": 81,
   "metadata": {},
   "outputs": [
    {
     "data": {
      "text/plain": [
       "Garage Cars       0.034188\n",
       "Garage Area       0.034188\n",
       "Mas Vnr Type      0.786325\n",
       "Mas Vnr Area      0.786325\n",
       "Garage Type       5.367521\n",
       "Garage Yr Blt     5.435897\n",
       "Garage Finish     5.435897\n",
       "Garage Qual       5.435897\n",
       "Garage Cond       5.435897\n",
       "Lot Frontage     16.752137\n",
       "Fireplace Qu     48.547009\n",
       "Fence            80.478632\n",
       "Alley            93.230769\n",
       "Misc Feature     96.410256\n",
       "Pool QC          99.589744\n",
       "dtype: float64"
      ]
     },
     "execution_count": 81,
     "metadata": {},
     "output_type": "execute_result"
    }
   ],
   "source": [
    "precentage_nan=precent_missing(df)\n",
    "precentage_nan"
   ]
  },
  {
   "cell_type": "code",
   "execution_count": 82,
   "metadata": {},
   "outputs": [
    {
     "data": {
      "text/plain": [
       "(array([ 0,  1,  2,  3,  4,  5,  6,  7,  8,  9, 10, 11, 12, 13, 14]),\n",
       " [Text(0, 0, 'Garage Cars'),\n",
       "  Text(1, 0, 'Garage Area'),\n",
       "  Text(2, 0, 'Mas Vnr Type'),\n",
       "  Text(3, 0, 'Mas Vnr Area'),\n",
       "  Text(4, 0, 'Garage Type'),\n",
       "  Text(5, 0, 'Garage Yr Blt'),\n",
       "  Text(6, 0, 'Garage Finish'),\n",
       "  Text(7, 0, 'Garage Qual'),\n",
       "  Text(8, 0, 'Garage Cond'),\n",
       "  Text(9, 0, 'Lot Frontage'),\n",
       "  Text(10, 0, 'Fireplace Qu'),\n",
       "  Text(11, 0, 'Fence'),\n",
       "  Text(12, 0, 'Alley'),\n",
       "  Text(13, 0, 'Misc Feature'),\n",
       "  Text(14, 0, 'Pool QC')])"
      ]
     },
     "execution_count": 82,
     "metadata": {},
     "output_type": "execute_result"
    },
    {
     "data": {
      "image/png": "[encoded data removed]",
      "text/plain": [
       "<Figure size 720x360 with 1 Axes>"
      ]
     },
     "metadata": {
      "needs_background": "light"
     },
     "output_type": "display_data"
    }
   ],
   "source": [
    "plt.figure(figsize=(10,5))\n",
    "sns.barplot(x=precentage_nan.index,y=precentage_nan)\n",
    "plt.xticks(rotation=90)"
   ]
  },
  {
   "cell_type": "code",
   "execution_count": 83,
   "metadata": {},
   "outputs": [],
   "source": [
    "df=df.dropna(axis=0,subset=['Electrical','Garage Cars'])"
   ]
  },
  {
   "cell_type": "code",
   "execution_count": 84,
   "metadata": {},
   "outputs": [],
   "source": [
    "def precent_missing(df):\n",
    "    precentage_nan=(df.isnull().sum()/len(df))*100\n",
    "    precentage_nan=precentage_nan[precentage_nan>0].sort_values()\n",
    "    return precentage_nan"
   ]
  },
  {
   "cell_type": "code",
   "execution_count": 85,
   "metadata": {},
   "outputs": [
    {
     "data": {
      "text/plain": [
       "Mas Vnr Type      0.786594\n",
       "Mas Vnr Area      0.786594\n",
       "Garage Type       5.369357\n",
       "Garage Yr Blt     5.403557\n",
       "Garage Finish     5.403557\n",
       "Garage Qual       5.403557\n",
       "Garage Cond       5.403557\n",
       "Lot Frontage     16.757866\n",
       "Fireplace Qu     48.529412\n",
       "Fence            80.506156\n",
       "Alley            93.228454\n",
       "Misc Feature     96.409029\n",
       "Pool QC          99.589603\n",
       "dtype: float64"
      ]
     },
     "execution_count": 85,
     "metadata": {},
     "output_type": "execute_result"
    }
   ],
   "source": [
    "precentage_nan=precent_missing(df)\n",
    "precentage_nan"
   ]
  },
  {
   "cell_type": "code",
   "execution_count": 86,
   "metadata": {},
   "outputs": [
    {
     "data": {
      "text/plain": [
       "(array([ 0,  1,  2,  3,  4,  5,  6,  7,  8,  9, 10, 11, 12]),\n",
       " [Text(0, 0, 'Mas Vnr Type'),\n",
       "  Text(1, 0, 'Mas Vnr Area'),\n",
       "  Text(2, 0, 'Garage Type'),\n",
       "  Text(3, 0, 'Garage Yr Blt'),\n",
       "  Text(4, 0, 'Garage Finish'),\n",
       "  Text(5, 0, 'Garage Qual'),\n",
       "  Text(6, 0, 'Garage Cond'),\n",
       "  Text(7, 0, 'Lot Frontage'),\n",
       "  Text(8, 0, 'Fireplace Qu'),\n",
       "  Text(9, 0, 'Fence'),\n",
       "  Text(10, 0, 'Alley'),\n",
       "  Text(11, 0, 'Misc Feature'),\n",
       "  Text(12, 0, 'Pool QC')])"
      ]
     },
     "execution_count": 86,
     "metadata": {},
     "output_type": "execute_result"
    },
    {
     "data": {
      "image/png": "[encoded data removed]",
      "text/plain": [
       "<Figure size 720x360 with 1 Axes>"
      ]
     },
     "metadata": {
      "needs_background": "light"
     },
     "output_type": "display_data"
    }
   ],
   "source": [
    "plt.figure(figsize=(10,5))\n",
    "sns.barplot(x=precentage_nan.index,y=precentage_nan)\n",
    "plt.xticks(rotation=90)"
   ]
  },
  {
   "cell_type": "code",
   "execution_count": 87,
   "metadata": {},
   "outputs": [],
   "source": [
    "df[\"Mas Vnr Type\"]=df[\"Mas Vnr Type\"].fillna(\"None\")"
   ]
  },
  {
   "cell_type": "code",
   "execution_count": 88,
   "metadata": {},
   "outputs": [],
   "source": [
    "df[\"Mas Vnr Area\"]=df[\"Mas Vnr Area\"].fillna(\"0\")"
   ]
  },
  {
   "cell_type": "code",
   "execution_count": 89,
   "metadata": {},
   "outputs": [
    {
     "data": {
      "text/plain": [
       "Garage Type       5.369357\n",
       "Garage Yr Blt     5.403557\n",
       "Garage Finish     5.403557\n",
       "Garage Qual       5.403557\n",
       "Garage Cond       5.403557\n",
       "Lot Frontage     16.757866\n",
       "Fireplace Qu     48.529412\n",
       "Fence            80.506156\n",
       "Alley            93.228454\n",
       "Misc Feature     96.409029\n",
       "Pool QC          99.589603\n",
       "dtype: float64"
      ]
     },
     "execution_count": 89,
     "metadata": {},
     "output_type": "execute_result"
    }
   ],
   "source": [
    "precentage_nan=precent_missing(df)\n",
    "precentage_nan"
   ]
  },
  {
   "cell_type": "code",
   "execution_count": 90,
   "metadata": {},
   "outputs": [
    {
     "data": {
      "text/plain": [
       "(array([ 0,  1,  2,  3,  4,  5,  6,  7,  8,  9, 10]),\n",
       " [Text(0, 0, 'Garage Type'),\n",
       "  Text(1, 0, 'Garage Yr Blt'),\n",
       "  Text(2, 0, 'Garage Finish'),\n",
       "  Text(3, 0, 'Garage Qual'),\n",
       "  Text(4, 0, 'Garage Cond'),\n",
       "  Text(5, 0, 'Lot Frontage'),\n",
       "  Text(6, 0, 'Fireplace Qu'),\n",
       "  Text(7, 0, 'Fence'),\n",
       "  Text(8, 0, 'Alley'),\n",
       "  Text(9, 0, 'Misc Feature'),\n",
       "  Text(10, 0, 'Pool QC')])"
      ]
     },
     "execution_count": 90,
     "metadata": {},
     "output_type": "execute_result"
    },
    {
     "data": {
      "image/png": "[encoded data removed]",
      "text/plain": [
       "<Figure size 720x360 with 1 Axes>"
      ]
     },
     "metadata": {
      "needs_background": "light"
     },
     "output_type": "display_data"
    }
   ],
   "source": [
    "plt.figure(figsize=(10,5))\n",
    "sns.barplot(x=precentage_nan.index,y=precentage_nan)\n",
    "plt.xticks(rotation=90)"
   ]
  },
  {
   "cell_type": "code",
   "execution_count": 91,
   "metadata": {},
   "outputs": [],
   "source": [
    "gar_str_cols = ['Garage Type', 'Garage Finish', 'Garage Qual', 'Garage Cond']\n",
    "df[gar_str_cols] = df[gar_str_cols].fillna(\"None\")"
   ]
  },
  {
   "cell_type": "code",
   "execution_count": 92,
   "metadata": {},
   "outputs": [
    {
     "data": {
      "text/plain": [
       "Garage Yr Blt     5.403557\n",
       "Lot Frontage     16.757866\n",
       "Fireplace Qu     48.529412\n",
       "Fence            80.506156\n",
       "Alley            93.228454\n",
       "Misc Feature     96.409029\n",
       "Pool QC          99.589603\n",
       "dtype: float64"
      ]
     },
     "execution_count": 92,
     "metadata": {},
     "output_type": "execute_result"
    }
   ],
   "source": [
    "precentage_nan=precent_missing(df)\n",
    "precentage_nan"
   ]
  },
  {
   "cell_type": "code",
   "execution_count": 93,
   "metadata": {},
   "outputs": [
    {
     "data": {
      "text/plain": [
       "(array([0, 1, 2, 3, 4, 5, 6]),\n",
       " [Text(0, 0, 'Garage Yr Blt'),\n",
       "  Text(1, 0, 'Lot Frontage'),\n",
       "  Text(2, 0, 'Fireplace Qu'),\n",
       "  Text(3, 0, 'Fence'),\n",
       "  Text(4, 0, 'Alley'),\n",
       "  Text(5, 0, 'Misc Feature'),\n",
       "  Text(6, 0, 'Pool QC')])"
      ]
     },
     "execution_count": 93,
     "metadata": {},
     "output_type": "execute_result"
    },
    {
     "data": {
      "image/png": "[encoded data removed]",
      "text/plain": [
       "<Figure size 720x360 with 1 Axes>"
      ]
     },
     "metadata": {
      "needs_background": "light"
     },
     "output_type": "display_data"
    }
   ],
   "source": [
    "plt.figure(figsize=(10,5))\n",
    "sns.barplot(x=precentage_nan.index,y=precentage_nan)\n",
    "plt.xticks(rotation=90)"
   ]
  },
  {
   "cell_type": "code",
   "execution_count": 94,
   "metadata": {},
   "outputs": [],
   "source": [
    "df['Garage Yr Blt']=df['Garage Yr Blt'].fillna(0)\n"
   ]
  },
  {
   "cell_type": "code",
   "execution_count": 95,
   "metadata": {},
   "outputs": [],
   "source": [
    "df=df.drop(['Pool QC','Misc Feature','Alley','Fence'],axis=1)"
   ]
  },
  {
   "cell_type": "code",
   "execution_count": 96,
   "metadata": {},
   "outputs": [
    {
     "data": {
      "text/plain": [
       "Lot Frontage    16.757866\n",
       "Fireplace Qu    48.529412\n",
       "dtype: float64"
      ]
     },
     "execution_count": 96,
     "metadata": {},
     "output_type": "execute_result"
    }
   ],
   "source": [
    "precentage_nan=precent_missing(df)\n",
    "precentage_nan"
   ]
  },
  {
   "cell_type": "code",
   "execution_count": 98,
   "metadata": {},
   "outputs": [
    {
     "data": {
      "text/plain": [
       "(array([0, 1]), [Text(0, 0, 'Lot Frontage'), Text(1, 0, 'Fireplace Qu')])"
      ]
     },
     "execution_count": 98,
     "metadata": {},
     "output_type": "execute_result"
    },
    {
     "data": {
      "image/png": "[encoded data removed]",
      "text/plain": [
       "<Figure size 720x360 with 1 Axes>"
      ]
     },
     "metadata": {
      "needs_background": "light"
     },
     "output_type": "display_data"
    }
   ],
   "source": [
    "plt.figure(figsize=(10,5))\n",
    "sns.barplot(x=precentage_nan.index,y=precentage_nan)\n",
    "plt.xticks(rotation=90)"
   ]
  },
  {
   "cell_type": "code",
   "execution_count": 99,
   "metadata": {},
   "outputs": [
    {
     "data": {
      "text/plain": [
       "Gd    741\n",
       "TA    600\n",
       "Fa     75\n",
       "Po     46\n",
       "Ex     43\n",
       "Name: Fireplace Qu, dtype: int64"
      ]
     },
     "execution_count": 99,
     "metadata": {},
     "output_type": "execute_result"
    }
   ],
   "source": [
    "df['Fireplace Qu'].value_counts()"
   ]
  },
  {
   "cell_type": "code",
   "execution_count": 101,
   "metadata": {},
   "outputs": [],
   "source": [
    "df['Fireplace Qu'] = df['Fireplace Qu'].fillna(\"None\")"
   ]
  },
  {
   "cell_type": "code",
   "execution_count": 102,
   "metadata": {},
   "outputs": [
    {
     "data": {
      "text/plain": [
       "Lot Frontage    16.757866\n",
       "dtype: float64"
      ]
     },
     "execution_count": 102,
     "metadata": {},
     "output_type": "execute_result"
    }
   ],
   "source": [
    "precentage_nan=precent_missing(df)\n",
    "precentage_nan"
   ]
  },
  {
   "cell_type": "code",
   "execution_count": 103,
   "metadata": {},
   "outputs": [
    {
     "data": {
      "text/plain": [
       "(array([0]), [Text(0, 0, 'Lot Frontage')])"
      ]
     },
     "execution_count": 103,
     "metadata": {},
     "output_type": "execute_result"
    },
    {
     "data": {
      "image/png": "[encoded data removed]",
      "text/plain": [
       "<Figure size 720x360 with 1 Axes>"
      ]
     },
     "metadata": {
      "needs_background": "light"
     },
     "output_type": "display_data"
    }
   ],
   "source": [
    "plt.figure(figsize=(10,5))\n",
    "sns.barplot(x=precentage_nan.index,y=precentage_nan)\n",
    "plt.xticks(rotation=90)"
   ]
  },
  {
   "cell_type": "code",
   "execution_count": 104,
   "metadata": {},
   "outputs": [
    {
     "data": {
      "text/plain": [
       "<AxesSubplot:xlabel='Lot Frontage', ylabel='Neighborhood'>"
      ]
     },
     "execution_count": 104,
     "metadata": {},
     "output_type": "execute_result"
    },
    {
     "data": {
      "image/png": "[encoded data removed]",
      "text/plain": [
       "<Figure size 1600x2200 with 1 Axes>"
      ]
     },
     "metadata": {
      "needs_background": "light"
     },
     "output_type": "display_data"
    }
   ],
   "source": [
    "plt.figure(figsize=(8,11), dpi=200)\n",
    "sns.boxplot(x='Lot Frontage', y='Neighborhood', data=df)"
   ]
  },
  {
   "cell_type": "code",
   "execution_count": 105,
   "metadata": {},
   "outputs": [
    {
     "data": {
      "text/plain": [
       "Neighborhood\n",
       "Blmngtn    46.900000\n",
       "Blueste    27.300000\n",
       "BrDale     21.500000\n",
       "BrkSide    55.329787\n",
       "ClearCr    88.150000\n",
       "CollgCr    71.336364\n",
       "Crawfor    69.951807\n",
       "Edwards    64.794286\n",
       "Gilbert    74.207207\n",
       "Greens     41.000000\n",
       "GrnHill          NaN\n",
       "IDOTRR     62.383721\n",
       "Landmrk          NaN\n",
       "MeadowV    25.606061\n",
       "Mitchel    75.144444\n",
       "NAmes      75.210667\n",
       "NPkVill    28.142857\n",
       "NWAmes     81.517647\n",
       "NoRidge    91.629630\n",
       "NridgHt    84.184049\n",
       "OldTown    61.777293\n",
       "SWISU      59.068182\n",
       "Sawyer     74.551020\n",
       "SawyerW    70.669811\n",
       "Somerst    64.549383\n",
       "StoneBr    62.173913\n",
       "Timber     81.303571\n",
       "Veenker    72.000000\n",
       "Name: Lot Frontage, dtype: float64"
      ]
     },
     "execution_count": 105,
     "metadata": {},
     "output_type": "execute_result"
    }
   ],
   "source": [
    "df.groupby('Neighborhood')['Lot Frontage'].mean()"
   ]
  },
  {
   "cell_type": "code",
   "execution_count": 106,
   "metadata": {},
   "outputs": [],
   "source": [
    "df['Lot Frontage'] = df.groupby('Neighborhood')['Lot Frontage'].transform(lambda value: value.fillna(value.mean()))"
   ]
  },
  {
   "cell_type": "code",
   "execution_count": 107,
   "metadata": {},
   "outputs": [
    {
     "data": {
      "text/plain": [
       "Unnamed: 0        0\n",
       "MS SubClass       0\n",
       "MS Zoning         0\n",
       "Lot Frontage      3\n",
       "Lot Area          0\n",
       "                 ..\n",
       "Mo Sold           0\n",
       "Yr Sold           0\n",
       "Sale Type         0\n",
       "Sale Condition    0\n",
       "SalePrice         0\n",
       "Length: 77, dtype: int64"
      ]
     },
     "execution_count": 107,
     "metadata": {},
     "output_type": "execute_result"
    }
   ],
   "source": [
    "df.isnull().sum()"
   ]
  },
  {
   "cell_type": "code",
   "execution_count": 108,
   "metadata": {},
   "outputs": [],
   "source": [
    "df['Lot Frontage'] =df['Lot Frontage'].fillna(0)"
   ]
  },
  {
   "cell_type": "code",
   "execution_count": 109,
   "metadata": {},
   "outputs": [
    {
     "data": {
      "text/plain": [
       "Unnamed: 0        0\n",
       "MS SubClass       0\n",
       "MS Zoning         0\n",
       "Lot Frontage      0\n",
       "Lot Area          0\n",
       "                 ..\n",
       "Mo Sold           0\n",
       "Yr Sold           0\n",
       "Sale Type         0\n",
       "Sale Condition    0\n",
       "SalePrice         0\n",
       "Length: 77, dtype: int64"
      ]
     },
     "execution_count": 109,
     "metadata": {},
     "output_type": "execute_result"
    }
   ],
   "source": [
    "df.isnull().sum()"
   ]
  },
  {
   "cell_type": "code",
   "execution_count": 110,
   "metadata": {},
   "outputs": [
    {
     "data": {
      "text/plain": [
       "Series([], dtype: float64)"
      ]
     },
     "execution_count": 110,
     "metadata": {},
     "output_type": "execute_result"
    }
   ],
   "source": [
    "precentage_nan=precent_missing(df)\n",
    "precentage_nan"
   ]
  },
  {
   "cell_type": "code",
   "execution_count": 111,
   "metadata": {},
   "outputs": [
    {
     "ename": "ValueError",
     "evalue": "min() arg is an empty sequence",
     "output_type": "error",
     "traceback": [
      "\u001b[1;31m---------------------------------------------------------------------------\u001b[0m",
      "\u001b[1;31mValueError\u001b[0m                                Traceback (most recent call last)",
      "\u001b[1;32m~\\AppData\\Local\\Temp\\ipykernel_26960\\2396074502.py\u001b[0m in \u001b[0;36m<module>\u001b[1;34m\u001b[0m\n\u001b[0;32m      1\u001b[0m \u001b[0mplt\u001b[0m\u001b[1;33m.\u001b[0m\u001b[0mfigure\u001b[0m\u001b[1;33m(\u001b[0m\u001b[0mfigsize\u001b[0m\u001b[1;33m=\u001b[0m\u001b[1;33m(\u001b[0m\u001b[1;36m10\u001b[0m\u001b[1;33m,\u001b[0m\u001b[1;36m5\u001b[0m\u001b[1;33m)\u001b[0m\u001b[1;33m)\u001b[0m\u001b[1;33m\u001b[0m\u001b[0m\n\u001b[1;32m----> 2\u001b[1;33m \u001b[0msns\u001b[0m\u001b[1;33m.\u001b[0m\u001b[0mbarplot\u001b[0m\u001b[1;33m(\u001b[0m\u001b[0mx\u001b[0m\u001b[1;33m=\u001b[0m\u001b[0mprecentage_nan\u001b[0m\u001b[1;33m.\u001b[0m\u001b[0mindex\u001b[0m\u001b[1;33m,\u001b[0m\u001b[0my\u001b[0m\u001b[1;33m=\u001b[0m\u001b[0mprecentage_nan\u001b[0m\u001b[1;33m)\u001b[0m\u001b[1;33m\u001b[0m\u001b[0m\n\u001b[0m\u001b[0;32m      3\u001b[0m \u001b[0mplt\u001b[0m\u001b[1;33m.\u001b[0m\u001b[0mxticks\u001b[0m\u001b[1;33m(\u001b[0m\u001b[0mrotation\u001b[0m\u001b[1;33m=\u001b[0m\u001b[1;36m90\u001b[0m\u001b[1;33m)\u001b[0m\u001b[1;33m\u001b[0m\u001b[0m\n",
      "\u001b[1;32m~\\anaconda3\\envs\\dhiraj_ml_march\\lib\\site-packages\\seaborn\\_decorators.py\u001b[0m in \u001b[0;36minner_f\u001b[1;34m(*args, **kwargs)\u001b[0m\n\u001b[0;32m     44\u001b[0m             )\n\u001b[0;32m     45\u001b[0m         \u001b[0mkwargs\u001b[0m\u001b[1;33m.\u001b[0m\u001b[0mupdate\u001b[0m\u001b[1;33m(\u001b[0m\u001b[1;33m{\u001b[0m\u001b[0mk\u001b[0m\u001b[1;33m:\u001b[0m \u001b[0marg\u001b[0m \u001b[1;32mfor\u001b[0m \u001b[0mk\u001b[0m\u001b[1;33m,\u001b[0m \u001b[0marg\u001b[0m \u001b[1;32min\u001b[0m \u001b[0mzip\u001b[0m\u001b[1;33m(\u001b[0m\u001b[0msig\u001b[0m\u001b[1;33m.\u001b[0m\u001b[0mparameters\u001b[0m\u001b[1;33m,\u001b[0m \u001b[0margs\u001b[0m\u001b[1;33m)\u001b[0m\u001b[1;33m}\u001b[0m\u001b[1;33m)\u001b[0m\u001b[1;33m\u001b[0m\u001b[0m\n\u001b[1;32m---> 46\u001b[1;33m         \u001b[1;32mreturn\u001b[0m \u001b[0mf\u001b[0m\u001b[1;33m(\u001b[0m\u001b[1;33m**\u001b[0m\u001b[0mkwargs\u001b[0m\u001b[1;33m)\u001b[0m\u001b[1;33m\u001b[0m\u001b[0m\n\u001b[0m\u001b[0;32m     47\u001b[0m     \u001b[1;32mreturn\u001b[0m \u001b[0minner_f\u001b[0m\u001b[1;33m\u001b[0m\u001b[0m\n\u001b[0;32m     48\u001b[0m \u001b[1;33m\u001b[0m\u001b[0m\n",
      "\u001b[1;32m~\\anaconda3\\envs\\dhiraj_ml_march\\lib\\site-packages\\seaborn\\categorical.py\u001b[0m in \u001b[0;36mbarplot\u001b[1;34m(x, y, hue, data, order, hue_order, estimator, ci, n_boot, units, seed, orient, color, palette, saturation, errcolor, errwidth, capsize, dodge, ax, **kwargs)\u001b[0m\n\u001b[0;32m   3183\u001b[0m                           \u001b[0mestimator\u001b[0m\u001b[1;33m,\u001b[0m \u001b[0mci\u001b[0m\u001b[1;33m,\u001b[0m \u001b[0mn_boot\u001b[0m\u001b[1;33m,\u001b[0m \u001b[0munits\u001b[0m\u001b[1;33m,\u001b[0m \u001b[0mseed\u001b[0m\u001b[1;33m,\u001b[0m\u001b[1;33m\u001b[0m\u001b[0m\n\u001b[0;32m   3184\u001b[0m                           \u001b[0morient\u001b[0m\u001b[1;33m,\u001b[0m \u001b[0mcolor\u001b[0m\u001b[1;33m,\u001b[0m \u001b[0mpalette\u001b[0m\u001b[1;33m,\u001b[0m \u001b[0msaturation\u001b[0m\u001b[1;33m,\u001b[0m\u001b[1;33m\u001b[0m\u001b[0m\n\u001b[1;32m-> 3185\u001b[1;33m                           errcolor, errwidth, capsize, dodge)\n\u001b[0m\u001b[0;32m   3186\u001b[0m \u001b[1;33m\u001b[0m\u001b[0m\n\u001b[0;32m   3187\u001b[0m     \u001b[1;32mif\u001b[0m \u001b[0max\u001b[0m \u001b[1;32mis\u001b[0m \u001b[1;32mNone\u001b[0m\u001b[1;33m:\u001b[0m\u001b[1;33m\u001b[0m\u001b[0m\n",
      "\u001b[1;32m~\\anaconda3\\envs\\dhiraj_ml_march\\lib\\site-packages\\seaborn\\categorical.py\u001b[0m in \u001b[0;36m__init__\u001b[1;34m(self, x, y, hue, data, order, hue_order, estimator, ci, n_boot, units, seed, orient, color, palette, saturation, errcolor, errwidth, capsize, dodge)\u001b[0m\n\u001b[0;32m   1584\u001b[0m         self.establish_variables(x, y, hue, data, orient,\n\u001b[0;32m   1585\u001b[0m                                  order, hue_order, units)\n\u001b[1;32m-> 1586\u001b[1;33m         \u001b[0mself\u001b[0m\u001b[1;33m.\u001b[0m\u001b[0mestablish_colors\u001b[0m\u001b[1;33m(\u001b[0m\u001b[0mcolor\u001b[0m\u001b[1;33m,\u001b[0m \u001b[0mpalette\u001b[0m\u001b[1;33m,\u001b[0m \u001b[0msaturation\u001b[0m\u001b[1;33m)\u001b[0m\u001b[1;33m\u001b[0m\u001b[0m\n\u001b[0m\u001b[0;32m   1587\u001b[0m         \u001b[0mself\u001b[0m\u001b[1;33m.\u001b[0m\u001b[0mestimate_statistic\u001b[0m\u001b[1;33m(\u001b[0m\u001b[0mestimator\u001b[0m\u001b[1;33m,\u001b[0m \u001b[0mci\u001b[0m\u001b[1;33m,\u001b[0m \u001b[0mn_boot\u001b[0m\u001b[1;33m,\u001b[0m \u001b[0mseed\u001b[0m\u001b[1;33m)\u001b[0m\u001b[1;33m\u001b[0m\u001b[0m\n\u001b[0;32m   1588\u001b[0m \u001b[1;33m\u001b[0m\u001b[0m\n",
      "\u001b[1;32m~\\anaconda3\\envs\\dhiraj_ml_march\\lib\\site-packages\\seaborn\\categorical.py\u001b[0m in \u001b[0;36mestablish_colors\u001b[1;34m(self, color, palette, saturation)\u001b[0m\n\u001b[0;32m    317\u001b[0m         \u001b[1;31m# Determine the gray color to use for the lines framing the plot\u001b[0m\u001b[1;33m\u001b[0m\u001b[1;33m\u001b[0m\u001b[0m\n\u001b[0;32m    318\u001b[0m         \u001b[0mlight_vals\u001b[0m \u001b[1;33m=\u001b[0m \u001b[1;33m[\u001b[0m\u001b[0mcolorsys\u001b[0m\u001b[1;33m.\u001b[0m\u001b[0mrgb_to_hls\u001b[0m\u001b[1;33m(\u001b[0m\u001b[1;33m*\u001b[0m\u001b[0mc\u001b[0m\u001b[1;33m)\u001b[0m\u001b[1;33m[\u001b[0m\u001b[1;36m1\u001b[0m\u001b[1;33m]\u001b[0m \u001b[1;32mfor\u001b[0m \u001b[0mc\u001b[0m \u001b[1;32min\u001b[0m \u001b[0mrgb_colors\u001b[0m\u001b[1;33m]\u001b[0m\u001b[1;33m\u001b[0m\u001b[0m\n\u001b[1;32m--> 319\u001b[1;33m         \u001b[0mlum\u001b[0m \u001b[1;33m=\u001b[0m \u001b[0mmin\u001b[0m\u001b[1;33m(\u001b[0m\u001b[0mlight_vals\u001b[0m\u001b[1;33m)\u001b[0m \u001b[1;33m*\u001b[0m \u001b[1;36m.6\u001b[0m\u001b[1;33m\u001b[0m\u001b[0m\n\u001b[0m\u001b[0;32m    320\u001b[0m         \u001b[0mgray\u001b[0m \u001b[1;33m=\u001b[0m \u001b[0mmpl\u001b[0m\u001b[1;33m.\u001b[0m\u001b[0mcolors\u001b[0m\u001b[1;33m.\u001b[0m\u001b[0mrgb2hex\u001b[0m\u001b[1;33m(\u001b[0m\u001b[1;33m(\u001b[0m\u001b[0mlum\u001b[0m\u001b[1;33m,\u001b[0m \u001b[0mlum\u001b[0m\u001b[1;33m,\u001b[0m \u001b[0mlum\u001b[0m\u001b[1;33m)\u001b[0m\u001b[1;33m)\u001b[0m\u001b[1;33m\u001b[0m\u001b[0m\n\u001b[0;32m    321\u001b[0m \u001b[1;33m\u001b[0m\u001b[0m\n",
      "\u001b[1;31mValueError\u001b[0m: min() arg is an empty sequence"
     ]
    },
    {
     "data": {
      "text/plain": [
       "<Figure size 720x360 with 0 Axes>"
      ]
     },
     "metadata": {},
     "output_type": "display_data"
    }
   ],
   "source": [
    "plt.figure(figsize=(10,5))\n",
    "sns.barplot(x=precentage_nan.index,y=precentage_nan)\n",
    "plt.xticks(rotation=90)"
   ]
  },
  {
   "cell_type": "code",
   "execution_count": 112,
   "metadata": {},
   "outputs": [],
   "source": [
    "###error was expected as all the missing values are handeled"
   ]
  },
  {
   "cell_type": "code",
   "execution_count": 114,
   "metadata": {},
   "outputs": [],
   "source": [
    "df.to_csv(r\"C:\\Users\\dhire\\Documents\\Machine_learning_Inuron\\ML_Live_Class\\data\\Ames_handeled_missintg_Values_removed.csv\")"
   ]
  }
 ],
 "metadata": {
  "interpreter": {
   "hash": "b53db82ee1ed1719706b31e133bddb6946b4dc30d9a285b264bdec2bcd52e433"
  },
  "kernelspec": {
   "display_name": "Python 3.7.0 ('dhiraj_ml_march')",
   "language": "python",
   "name": "python3"
  },
  "language_info": {
   "codemirror_mode": {
    "name": "ipython",
    "version": 3
   },
   "file_extension": ".py",
   "mimetype": "text/x-python",
   "name": "python",
   "nbconvert_exporter": "python",
   "pygments_lexer": "ipython3",
   "version": "3.7.0"
  },
  "orig_nbformat": 4
 },
 "nbformat": 4,
 "nbformat_minor": 2
}
