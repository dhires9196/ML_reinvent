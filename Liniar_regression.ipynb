{
 "cells": [
  {
   "cell_type": "code",
   "execution_count": 17,
   "id": "2e738436",
   "metadata": {},
   "outputs": [],
   "source": [
    "import numpy as np\n",
    "import pandas as pd\n",
    "import matplotlib.pyplot as plt\n",
    "import seaborn as sns"
   ]
  },
  {
   "cell_type": "code",
   "execution_count": 18,
   "id": "97a9e2dc",
   "metadata": {},
   "outputs": [
    {
     "data": {
      "text/html": [
       "<div>\n",
       "<style scoped>\n",
       "    .dataframe tbody tr th:only-of-type {\n",
       "        vertical-align: middle;\n",
       "    }\n",
       "\n",
       "    .dataframe tbody tr th {\n",
       "        vertical-align: top;\n",
       "    }\n",
       "\n",
       "    .dataframe thead th {\n",
       "        text-align: right;\n",
       "    }\n",
       "</style>\n",
       "<table border=\"1\" class=\"dataframe\">\n",
       "  <thead>\n",
       "    <tr style=\"text-align: right;\">\n",
       "      <th></th>\n",
       "      <th>TV</th>\n",
       "      <th>radio</th>\n",
       "      <th>newspaper</th>\n",
       "      <th>sales</th>\n",
       "    </tr>\n",
       "  </thead>\n",
       "  <tbody>\n",
       "    <tr>\n",
       "      <th>0</th>\n",
       "      <td>230.1</td>\n",
       "      <td>37.8</td>\n",
       "      <td>69.2</td>\n",
       "      <td>22.1</td>\n",
       "    </tr>\n",
       "    <tr>\n",
       "      <th>1</th>\n",
       "      <td>44.5</td>\n",
       "      <td>39.3</td>\n",
       "      <td>45.1</td>\n",
       "      <td>10.4</td>\n",
       "    </tr>\n",
       "    <tr>\n",
       "      <th>2</th>\n",
       "      <td>17.2</td>\n",
       "      <td>45.9</td>\n",
       "      <td>69.3</td>\n",
       "      <td>9.3</td>\n",
       "    </tr>\n",
       "    <tr>\n",
       "      <th>3</th>\n",
       "      <td>151.5</td>\n",
       "      <td>41.3</td>\n",
       "      <td>58.5</td>\n",
       "      <td>18.5</td>\n",
       "    </tr>\n",
       "    <tr>\n",
       "      <th>4</th>\n",
       "      <td>180.8</td>\n",
       "      <td>10.8</td>\n",
       "      <td>58.4</td>\n",
       "      <td>12.9</td>\n",
       "    </tr>\n",
       "  </tbody>\n",
       "</table>\n",
       "</div>"
      ],
      "text/plain": [
       "      TV  radio  newspaper  sales\n",
       "0  230.1   37.8       69.2   22.1\n",
       "1   44.5   39.3       45.1   10.4\n",
       "2   17.2   45.9       69.3    9.3\n",
       "3  151.5   41.3       58.5   18.5\n",
       "4  180.8   10.8       58.4   12.9"
      ]
     },
     "execution_count": 18,
     "metadata": {},
     "output_type": "execute_result"
    }
   ],
   "source": [
    "df=pd.read_csv(r\"C:\\Users\\dhire\\Documents\\Machine_learning_Inuron\\ML_Live_Class\\data\\Advertising.csv\")\n",
    "df.head()"
   ]
  },
  {
   "cell_type": "code",
   "execution_count": 38,
   "id": "2dc49ff4",
   "metadata": {},
   "outputs": [
    {
     "data": {
      "text/html": [
       "<div>\n",
       "<style scoped>\n",
       "    .dataframe tbody tr th:only-of-type {\n",
       "        vertical-align: middle;\n",
       "    }\n",
       "\n",
       "    .dataframe tbody tr th {\n",
       "        vertical-align: top;\n",
       "    }\n",
       "\n",
       "    .dataframe thead th {\n",
       "        text-align: right;\n",
       "    }\n",
       "</style>\n",
       "<table border=\"1\" class=\"dataframe\">\n",
       "  <thead>\n",
       "    <tr style=\"text-align: right;\">\n",
       "      <th></th>\n",
       "      <th>TV</th>\n",
       "      <th>radio</th>\n",
       "      <th>newspaper</th>\n",
       "    </tr>\n",
       "  </thead>\n",
       "  <tbody>\n",
       "    <tr>\n",
       "      <th>0</th>\n",
       "      <td>230.1</td>\n",
       "      <td>37.8</td>\n",
       "      <td>69.2</td>\n",
       "    </tr>\n",
       "    <tr>\n",
       "      <th>1</th>\n",
       "      <td>44.5</td>\n",
       "      <td>39.3</td>\n",
       "      <td>45.1</td>\n",
       "    </tr>\n",
       "    <tr>\n",
       "      <th>2</th>\n",
       "      <td>17.2</td>\n",
       "      <td>45.9</td>\n",
       "      <td>69.3</td>\n",
       "    </tr>\n",
       "    <tr>\n",
       "      <th>3</th>\n",
       "      <td>151.5</td>\n",
       "      <td>41.3</td>\n",
       "      <td>58.5</td>\n",
       "    </tr>\n",
       "    <tr>\n",
       "      <th>4</th>\n",
       "      <td>180.8</td>\n",
       "      <td>10.8</td>\n",
       "      <td>58.4</td>\n",
       "    </tr>\n",
       "  </tbody>\n",
       "</table>\n",
       "</div>"
      ],
      "text/plain": [
       "      TV  radio  newspaper\n",
       "0  230.1   37.8       69.2\n",
       "1   44.5   39.3       45.1\n",
       "2   17.2   45.9       69.3\n",
       "3  151.5   41.3       58.5\n",
       "4  180.8   10.8       58.4"
      ]
     },
     "execution_count": 38,
     "metadata": {},
     "output_type": "execute_result"
    }
   ],
   "source": [
    "x=df.drop(['sales'],axis=1)\n",
    "x.head()"
   ]
  },
  {
   "cell_type": "code",
   "execution_count": 39,
   "id": "d9c1dfce",
   "metadata": {},
   "outputs": [
    {
     "data": {
      "text/plain": [
       "0      22.1\n",
       "1      10.4\n",
       "2       9.3\n",
       "3      18.5\n",
       "4      12.9\n",
       "       ... \n",
       "195     7.6\n",
       "196     9.7\n",
       "197    12.8\n",
       "198    25.5\n",
       "199    13.4\n",
       "Name: sales, Length: 200, dtype: float64"
      ]
     },
     "execution_count": 39,
     "metadata": {},
     "output_type": "execute_result"
    }
   ],
   "source": [
    "y=df['sales']\n",
    "y"
   ]
  },
  {
   "cell_type": "code",
   "execution_count": 40,
   "id": "a9efedf5",
   "metadata": {},
   "outputs": [],
   "source": [
    "from sklearn.model_selection import train_test_split\n",
    "X_train, X_test, y_train, y_test = train_test_split(x, y, test_size=0.33, random_state=42)"
   ]
  },
  {
   "cell_type": "code",
   "execution_count": 82,
   "id": "a30fa238",
   "metadata": {},
   "outputs": [
    {
     "data": {
      "text/html": [
       "<div>\n",
       "<style scoped>\n",
       "    .dataframe tbody tr th:only-of-type {\n",
       "        vertical-align: middle;\n",
       "    }\n",
       "\n",
       "    .dataframe tbody tr th {\n",
       "        vertical-align: top;\n",
       "    }\n",
       "\n",
       "    .dataframe thead th {\n",
       "        text-align: right;\n",
       "    }\n",
       "</style>\n",
       "<table border=\"1\" class=\"dataframe\">\n",
       "  <thead>\n",
       "    <tr style=\"text-align: right;\">\n",
       "      <th></th>\n",
       "      <th>TV</th>\n",
       "      <th>radio</th>\n",
       "      <th>newspaper</th>\n",
       "    </tr>\n",
       "  </thead>\n",
       "  <tbody>\n",
       "    <tr>\n",
       "      <th>42</th>\n",
       "      <td>293.6</td>\n",
       "      <td>27.7</td>\n",
       "      <td>1.8</td>\n",
       "    </tr>\n",
       "    <tr>\n",
       "      <th>189</th>\n",
       "      <td>18.7</td>\n",
       "      <td>12.1</td>\n",
       "      <td>23.4</td>\n",
       "    </tr>\n",
       "    <tr>\n",
       "      <th>90</th>\n",
       "      <td>134.3</td>\n",
       "      <td>4.9</td>\n",
       "      <td>9.3</td>\n",
       "    </tr>\n",
       "    <tr>\n",
       "      <th>136</th>\n",
       "      <td>25.6</td>\n",
       "      <td>39.0</td>\n",
       "      <td>9.3</td>\n",
       "    </tr>\n",
       "    <tr>\n",
       "      <th>51</th>\n",
       "      <td>100.4</td>\n",
       "      <td>9.6</td>\n",
       "      <td>3.6</td>\n",
       "    </tr>\n",
       "    <tr>\n",
       "      <th>...</th>\n",
       "      <td>...</td>\n",
       "      <td>...</td>\n",
       "      <td>...</td>\n",
       "    </tr>\n",
       "    <tr>\n",
       "      <th>106</th>\n",
       "      <td>25.0</td>\n",
       "      <td>11.0</td>\n",
       "      <td>29.7</td>\n",
       "    </tr>\n",
       "    <tr>\n",
       "      <th>14</th>\n",
       "      <td>204.1</td>\n",
       "      <td>32.9</td>\n",
       "      <td>46.0</td>\n",
       "    </tr>\n",
       "    <tr>\n",
       "      <th>92</th>\n",
       "      <td>217.7</td>\n",
       "      <td>33.5</td>\n",
       "      <td>59.0</td>\n",
       "    </tr>\n",
       "    <tr>\n",
       "      <th>179</th>\n",
       "      <td>165.6</td>\n",
       "      <td>10.0</td>\n",
       "      <td>17.6</td>\n",
       "    </tr>\n",
       "    <tr>\n",
       "      <th>102</th>\n",
       "      <td>280.2</td>\n",
       "      <td>10.1</td>\n",
       "      <td>21.4</td>\n",
       "    </tr>\n",
       "  </tbody>\n",
       "</table>\n",
       "<p>134 rows × 3 columns</p>\n",
       "</div>"
      ],
      "text/plain": [
       "        TV  radio  newspaper\n",
       "42   293.6   27.7        1.8\n",
       "189   18.7   12.1       23.4\n",
       "90   134.3    4.9        9.3\n",
       "136   25.6   39.0        9.3\n",
       "51   100.4    9.6        3.6\n",
       "..     ...    ...        ...\n",
       "106   25.0   11.0       29.7\n",
       "14   204.1   32.9       46.0\n",
       "92   217.7   33.5       59.0\n",
       "179  165.6   10.0       17.6\n",
       "102  280.2   10.1       21.4\n",
       "\n",
       "[134 rows x 3 columns]"
      ]
     },
     "execution_count": 82,
     "metadata": {},
     "output_type": "execute_result"
    }
   ],
   "source": [
    "X_train"
   ]
  },
  {
   "cell_type": "code",
   "execution_count": 41,
   "id": "e7f17855",
   "metadata": {},
   "outputs": [],
   "source": [
    "from sklearn.linear_model import LinearRegression\n",
    "model=LinearRegression()"
   ]
  },
  {
   "cell_type": "code",
   "execution_count": 42,
   "id": "9678bc6b",
   "metadata": {},
   "outputs": [
    {
     "data": {
      "text/plain": [
       "LinearRegression()"
      ]
     },
     "execution_count": 42,
     "metadata": {},
     "output_type": "execute_result"
    }
   ],
   "source": [
    "model.fit(X_train,y_train)"
   ]
  },
  {
   "cell_type": "code",
   "execution_count": 43,
   "id": "4d591026",
   "metadata": {},
   "outputs": [],
   "source": [
    "test_pred=model.predict(X_test)"
   ]
  },
  {
   "cell_type": "code",
   "execution_count": 44,
   "id": "c9bd0243",
   "metadata": {},
   "outputs": [
    {
     "data": {
      "text/plain": [
       "array([16.58673085, 21.18622524, 21.66752973, 10.81086512, 22.25210881,\n",
       "       13.31459455, 21.23875284,  7.38400509, 13.43971113, 15.19445383,\n",
       "        9.01548612,  6.56945204, 14.4156926 ,  8.93560138,  9.56335776,\n",
       "       12.10760805,  8.86091137, 16.25163621, 10.31036304, 18.83571624,\n",
       "       19.81058732, 13.67550716, 12.45182294, 21.58072583,  7.67409148,\n",
       "        5.67090757, 20.95448184, 11.89301758,  9.13043149,  8.49435255,\n",
       "       12.32217788,  9.99097553, 21.71995241, 12.64869606, 18.25348116,\n",
       "       20.17390876, 14.20864218, 21.02816483, 10.91608737,  4.42671034,\n",
       "        9.59359543, 12.53133363, 10.14637196,  8.1294087 , 13.32973122,\n",
       "        5.27563699,  9.30534511, 14.15272317,  8.75979349, 11.67053724,\n",
       "       15.66273733, 11.75350353, 13.21744723, 11.06273296,  6.41769181,\n",
       "        9.84865789,  9.45756213, 24.32601732,  7.68903682, 12.30794356,\n",
       "       17.57952015, 15.27952025, 11.45659815, 11.12311877, 16.60003773,\n",
       "        6.90611478])"
      ]
     },
     "execution_count": 44,
     "metadata": {},
     "output_type": "execute_result"
    }
   ],
   "source": [
    "test_pred"
   ]
  },
  {
   "cell_type": "code",
   "execution_count": 45,
   "id": "2c982b51",
   "metadata": {},
   "outputs": [],
   "source": [
    "from sklearn.metrics import mean_absolute_error,mean_squared_error"
   ]
  },
  {
   "cell_type": "code",
   "execution_count": 46,
   "id": "0b900c2c",
   "metadata": {},
   "outputs": [
    {
     "data": {
      "text/plain": [
       "<AxesSubplot:xlabel='sales', ylabel='Count'>"
      ]
     },
     "execution_count": 46,
     "metadata": {},
     "output_type": "execute_result"
    },
    {
     "data": {
      "image/png": "[encoded data removed]",
      "text/plain": [
       "<Figure size 432x288 with 1 Axes>"
      ]
     },
     "metadata": {
      "needs_background": "light"
     },
     "output_type": "display_data"
    }
   ],
   "source": [
    "sns.histplot(data=df,x='sales',bins=30)"
   ]
  },
  {
   "cell_type": "code",
   "execution_count": 47,
   "id": "be5ade47",
   "metadata": {},
   "outputs": [
    {
     "data": {
      "text/plain": [
       "1.4937750024728964"
      ]
     },
     "execution_count": 47,
     "metadata": {},
     "output_type": "execute_result"
    }
   ],
   "source": [
    "mean_absolute_error(y_test,test_pred)"
   ]
  },
  {
   "cell_type": "code",
   "execution_count": 48,
   "id": "b6c8170a",
   "metadata": {},
   "outputs": [
    {
     "data": {
      "text/plain": [
       "3.7279283306815088"
      ]
     },
     "execution_count": 48,
     "metadata": {},
     "output_type": "execute_result"
    }
   ],
   "source": [
    "mean_squared_error(y_test,test_pred)"
   ]
  },
  {
   "cell_type": "code",
   "execution_count": 49,
   "id": "82a67ce4",
   "metadata": {},
   "outputs": [
    {
     "data": {
      "text/plain": [
       "1.93078438223472"
      ]
     },
     "execution_count": 49,
     "metadata": {},
     "output_type": "execute_result"
    }
   ],
   "source": [
    "np.sqrt(mean_squared_error(y_test,test_pred))"
   ]
  },
  {
   "cell_type": "code",
   "execution_count": 50,
   "id": "43109ed8",
   "metadata": {},
   "outputs": [
    {
     "data": {
      "text/plain": [
       "0.8555568430680087"
      ]
     },
     "execution_count": 50,
     "metadata": {},
     "output_type": "execute_result"
    }
   ],
   "source": [
    "from sklearn.metrics import r2_score\n",
    "r2_score(y_test,test_pred)"
   ]
  },
  {
   "cell_type": "markdown",
   "id": "67c1370a",
   "metadata": {},
   "source": [
    "#### Residual plot"
   ]
  },
  {
   "cell_type": "code",
   "execution_count": 51,
   "id": "385f350f",
   "metadata": {},
   "outputs": [
    {
     "data": {
      "text/plain": [
       "95     0.313269\n",
       "15     1.213775\n",
       "30    -0.267530\n",
       "158   -3.510865\n",
       "128    2.447891\n",
       "         ...   \n",
       "97     0.220480\n",
       "31     0.443402\n",
       "12    -1.923119\n",
       "35    -3.800038\n",
       "119   -0.306115\n",
       "Name: sales, Length: 66, dtype: float64"
      ]
     },
     "execution_count": 51,
     "metadata": {},
     "output_type": "execute_result"
    }
   ],
   "source": [
    "test_residual=y_test-test_pred\n",
    "test_residual"
   ]
  },
  {
   "cell_type": "code",
   "execution_count": 52,
   "id": "3472d106",
   "metadata": {},
   "outputs": [
    {
     "name": "stderr",
     "output_type": "stream",
     "text": [
      "C:\\Users\\dhire\\anaconda3\\envs\\dhiraj_ml_march\\lib\\site-packages\\seaborn\\_decorators.py:43: FutureWarning: Pass the following variables as keyword args: x, y. From version 0.12, the only valid positional argument will be `data`, and passing other arguments without an explicit keyword will result in an error or misinterpretation.\n",
      "  FutureWarning\n"
     ]
    },
    {
     "data": {
      "text/plain": [
       "<matplotlib.lines.Line2D at 0x2a7b68d7be0>"
      ]
     },
     "execution_count": 52,
     "metadata": {},
     "output_type": "execute_result"
    },
    {
     "data": {
      "image/png": "[encoded data removed]",
      "text/plain": [
       "<Figure size 432x288 with 1 Axes>"
      ]
     },
     "metadata": {
      "needs_background": "light"
     },
     "output_type": "display_data"
    }
   ],
   "source": [
    "#residual plot\n",
    "sns.scatterplot(y_test,test_residual)\n",
    "plt.axhline(y=0,color='red',ls='--')"
   ]
  },
  {
   "cell_type": "code",
   "execution_count": 53,
   "id": "07caaa75",
   "metadata": {},
   "outputs": [
    {
     "name": "stderr",
     "output_type": "stream",
     "text": [
      "C:\\Users\\dhire\\anaconda3\\envs\\dhiraj_ml_march\\lib\\site-packages\\seaborn\\distributions.py:2619: FutureWarning: `distplot` is a deprecated function and will be removed in a future version. Please adapt your code to use either `displot` (a figure-level function with similar flexibility) or `histplot` (an axes-level function for histograms).\n",
      "  warnings.warn(msg, FutureWarning)\n"
     ]
    },
    {
     "data": {
      "text/plain": [
       "<AxesSubplot:xlabel='sales', ylabel='Density'>"
      ]
     },
     "execution_count": 53,
     "metadata": {},
     "output_type": "execute_result"
    },
    {
     "data": {
      "image/png": "[encoded data removed]",
      "text/plain": [
       "<Figure size 432x288 with 1 Axes>"
      ]
     },
     "metadata": {
      "needs_background": "light"
     },
     "output_type": "display_data"
    }
   ],
   "source": [
    "sns.distplot(test_residual,bins=20)"
   ]
  },
  {
   "cell_type": "code",
   "execution_count": 54,
   "id": "d0000fce",
   "metadata": {},
   "outputs": [
    {
     "data": {
      "text/plain": [
       "array([0.04466512, 0.19663006, 0.00607439])"
      ]
     },
     "execution_count": 54,
     "metadata": {},
     "output_type": "execute_result"
    }
   ],
   "source": [
    "model.coef_"
   ]
  },
  {
   "cell_type": "code",
   "execution_count": 57,
   "id": "d2106404",
   "metadata": {},
   "outputs": [
    {
     "data": {
      "text/plain": [
       "array([20.8884798 , 12.74718579, 12.97258657, 18.0010106 , 13.31187428,\n",
       "       13.21744723, 11.9185302 , 12.05123123,  3.56118918, 12.32217788,\n",
       "        6.99789061, 17.09109207, 11.12311877,  8.65104494, 18.62277359,\n",
       "       21.18622524, 13.67550716, 23.45233782,  9.99097553, 14.15272317,\n",
       "       18.28395895, 14.50713266,  6.77535878, 16.43731565,  8.1294087 ,\n",
       "       15.30718759, 14.97851547, 16.90499258, 19.33853179,  9.30534511,\n",
       "       21.66752973, 11.45659815,  7.57669804, 18.55555123,  7.35275621,\n",
       "       16.60003773, 23.321961  , 16.0856807 , 10.14637196, 20.54905286,\n",
       "       16.37955956, 17.46632083, 21.32933767, 13.81134141,  9.1955797 ,\n",
       "       15.19445383,  8.92802616, 21.74575782, 16.31585391,  8.27027735,\n",
       "       12.50188969,  9.15196613, 20.86362305, 20.35479804, 20.25112736,\n",
       "       21.71995241,  8.86091137, 12.71759307, 22.15533454, 18.02609118,\n",
       "        5.67090757, 23.15744027, 16.66003171, 13.21645421, 17.20498539,\n",
       "        7.67409148,  9.01548612, 11.89301758, 18.83571624, 21.23875284,\n",
       "       17.90285582, 10.66666982, 10.56112459,  9.84865789, 17.20628237,\n",
       "       12.64869606,  4.42671034, 13.83043173,  8.93560138,  9.59359543,\n",
       "       11.55596833, 14.49909567, 10.31036304, 14.77945183, 20.95448184,\n",
       "       15.40445328, 11.67053724, 16.06958225, 12.16192835, 17.37344234,\n",
       "        9.77657642,  4.53089392, 19.42716429, 21.58072583, 10.37413727,\n",
       "       16.58673085, 12.30794356, 15.27952025, 24.32601732, 17.27508389,\n",
       "       13.83960817, 23.74739026, 17.38919393, 14.64141639, 20.17390876,\n",
       "       18.39941548,  6.21803961,  6.99571331,  3.57734102, 19.48830124,\n",
       "       14.79902521, 21.16649943, 13.64841481, 16.23545613, 15.66273733,\n",
       "       13.31459455, 11.94277061,  6.41769181, 16.10921802,  6.90611478,\n",
       "       14.61957551,  8.17079733, 13.32973122, 15.13507054, 19.81058732,\n",
       "        9.13043149, 11.06273296,  6.39609865, 22.25210881,  8.04147962,\n",
       "       10.62873485, 15.43468741,  8.49435255, 19.43652707, 12.39461475,\n",
       "       14.20864218, 11.62656295, 21.02816483,  9.89591536, 19.65903864,\n",
       "        9.45756213, 18.82963333, 19.36506805,  8.75979349, 10.20127479,\n",
       "        9.45285464, 14.9704137 , 23.52459736, 12.45182294,  9.9527905 ,\n",
       "       18.25348116, 10.11006637, 16.25163621, 18.44442465, 15.35278227,\n",
       "        5.25673135, 15.8122907 ,  9.85213336, 10.81086512, 12.46863494,\n",
       "       14.20829273, 13.92469596, 14.88748878, 17.34175562, 10.91608737,\n",
       "       14.4156926 , 11.08207439, 13.13513799, 17.36929275, 17.57952015,\n",
       "        7.38400509, 14.5029782 ,  7.68903682, 11.75350353, 13.43971113,\n",
       "       24.99496295, 19.91442553, 12.10760805, 15.7131226 , 12.22782543,\n",
       "       10.31428508, 13.74564101,  6.56945204, 24.49499397, 18.46453117,\n",
       "       20.90149516,  9.56335776, 17.04741281, 18.28792922,  6.11467378,\n",
       "       12.63907091,  8.29033922,  4.52444557, 18.48854417, 16.48091673,\n",
       "        5.27563699,  7.97821582, 12.53133363, 24.08568686, 14.86871182])"
      ]
     },
     "execution_count": 57,
     "metadata": {},
     "output_type": "execute_result"
    }
   ],
   "source": [
    "y_hat=model.predict(x)\n",
    "y_hat"
   ]
  },
  {
   "cell_type": "code",
   "execution_count": 58,
   "id": "3ada216c",
   "metadata": {},
   "outputs": [
    {
     "data": {
      "text/plain": [
       "Text(0.5, 1.0, 'newspaper_spend')"
      ]
     },
     "execution_count": 58,
     "metadata": {},
     "output_type": "execute_result"
    },
    {
     "data": {
      "image/png": "[encoded data removed]",
      "text/plain": [
       "<Figure size 1152x432 with 3 Axes>"
      ]
     },
     "metadata": {
      "needs_background": "light"
     },
     "output_type": "display_data"
    }
   ],
   "source": [
    "from IPython.core.pylabtools import figsize\n",
    "fig,axes=plt.subplots(nrows=1,ncols=3,figsize=(16,6))\n",
    "axes[0].plot(df['TV'],df['sales'],'o')\n",
    "axes[0].plot(df['TV'],y_hat,'o',color='red')\n",
    "axes[0].set_ylabel(\"sales\")\n",
    "axes[0].set_title(\"TV_spend\")\n",
    "\n",
    "axes[1].plot(df['radio'],df['sales'],'o')\n",
    "axes[1].plot(df['radio'],y_hat,'o',color='red')\n",
    "axes[1].set_ylabel(\"sales\")\n",
    "axes[1].set_title(\"radio_spend\")\n",
    "\n",
    "axes[2].plot(df['newspaper'],df['sales'],'o')\n",
    "axes[2].plot(df['newspaper'],y_hat,'o',color='red')\n",
    "axes[2].set_ylabel(\"sales\")\n",
    "axes[2].set_title(\"newspaper_spend\")"
   ]
  },
  {
   "cell_type": "code",
   "execution_count": 59,
   "id": "e2d5d9a7",
   "metadata": {},
   "outputs": [],
   "source": [
    "import os"
   ]
  },
  {
   "cell_type": "code",
   "execution_count": 60,
   "id": "65020879",
   "metadata": {},
   "outputs": [
    {
     "data": {
      "text/plain": [
       "'c:\\\\Users\\\\dhire\\\\Documents\\\\Machine_learning_Inuron\\\\ML_Live_Class'"
      ]
     },
     "execution_count": 60,
     "metadata": {},
     "output_type": "execute_result"
    }
   ],
   "source": [
    "os.getcwd()"
   ]
  },
  {
   "cell_type": "code",
   "execution_count": 61,
   "id": "a2cf3f08",
   "metadata": {},
   "outputs": [],
   "source": [
    "from joblib import dump,load  ##save the model in binary file"
   ]
  },
  {
   "cell_type": "code",
   "execution_count": 62,
   "id": "4013f897",
   "metadata": {},
   "outputs": [
    {
     "data": {
      "text/plain": [
       "['models\\\\model.joblib']"
      ]
     },
     "execution_count": 62,
     "metadata": {},
     "output_type": "execute_result"
    }
   ],
   "source": [
    "model_dir='models'\n",
    "os.makedirs(model_dir,exist_ok=True)\n",
    "file_path=os.path.join(model_dir,'model.joblib')\n",
    "dump(model,file_path)"
   ]
  },
  {
   "cell_type": "code",
   "execution_count": 65,
   "id": "fe570b8c",
   "metadata": {},
   "outputs": [],
   "source": [
    "load_model=load(r'C:\\Users\\dhire\\Documents\\Machine_learning_Inuron\\ML_Live_Class\\models\\model.joblib')\n"
   ]
  },
  {
   "cell_type": "code",
   "execution_count": 66,
   "id": "32df7929",
   "metadata": {},
   "outputs": [
    {
     "data": {
      "text/plain": [
       "array([0.04466512, 0.19663006, 0.00607439])"
      ]
     },
     "execution_count": 66,
     "metadata": {},
     "output_type": "execute_result"
    }
   ],
   "source": [
    "load_model.coef_"
   ]
  },
  {
   "cell_type": "markdown",
   "id": "c49af3d8",
   "metadata": {},
   "source": [
    "#### Polynomial regression"
   ]
  },
  {
   "cell_type": "code",
   "execution_count": 67,
   "id": "3e4ef9cc",
   "metadata": {},
   "outputs": [
    {
     "data": {
      "text/html": [
       "<div>\n",
       "<style scoped>\n",
       "    .dataframe tbody tr th:only-of-type {\n",
       "        vertical-align: middle;\n",
       "    }\n",
       "\n",
       "    .dataframe tbody tr th {\n",
       "        vertical-align: top;\n",
       "    }\n",
       "\n",
       "    .dataframe thead th {\n",
       "        text-align: right;\n",
       "    }\n",
       "</style>\n",
       "<table border=\"1\" class=\"dataframe\">\n",
       "  <thead>\n",
       "    <tr style=\"text-align: right;\">\n",
       "      <th></th>\n",
       "      <th>TV</th>\n",
       "      <th>radio</th>\n",
       "      <th>newspaper</th>\n",
       "      <th>sales</th>\n",
       "    </tr>\n",
       "  </thead>\n",
       "  <tbody>\n",
       "    <tr>\n",
       "      <th>0</th>\n",
       "      <td>230.1</td>\n",
       "      <td>37.8</td>\n",
       "      <td>69.2</td>\n",
       "      <td>22.1</td>\n",
       "    </tr>\n",
       "    <tr>\n",
       "      <th>1</th>\n",
       "      <td>44.5</td>\n",
       "      <td>39.3</td>\n",
       "      <td>45.1</td>\n",
       "      <td>10.4</td>\n",
       "    </tr>\n",
       "    <tr>\n",
       "      <th>2</th>\n",
       "      <td>17.2</td>\n",
       "      <td>45.9</td>\n",
       "      <td>69.3</td>\n",
       "      <td>9.3</td>\n",
       "    </tr>\n",
       "    <tr>\n",
       "      <th>3</th>\n",
       "      <td>151.5</td>\n",
       "      <td>41.3</td>\n",
       "      <td>58.5</td>\n",
       "      <td>18.5</td>\n",
       "    </tr>\n",
       "    <tr>\n",
       "      <th>4</th>\n",
       "      <td>180.8</td>\n",
       "      <td>10.8</td>\n",
       "      <td>58.4</td>\n",
       "      <td>12.9</td>\n",
       "    </tr>\n",
       "  </tbody>\n",
       "</table>\n",
       "</div>"
      ],
      "text/plain": [
       "      TV  radio  newspaper  sales\n",
       "0  230.1   37.8       69.2   22.1\n",
       "1   44.5   39.3       45.1   10.4\n",
       "2   17.2   45.9       69.3    9.3\n",
       "3  151.5   41.3       58.5   18.5\n",
       "4  180.8   10.8       58.4   12.9"
      ]
     },
     "execution_count": 67,
     "metadata": {},
     "output_type": "execute_result"
    }
   ],
   "source": [
    "df.head()"
   ]
  },
  {
   "cell_type": "code",
   "execution_count": 68,
   "id": "2ba1d2d9",
   "metadata": {},
   "outputs": [],
   "source": [
    "x1=df.drop(['sales'],axis=1)"
   ]
  },
  {
   "cell_type": "code",
   "execution_count": 69,
   "id": "7e931a0a",
   "metadata": {},
   "outputs": [
    {
     "data": {
      "text/html": [
       "<div>\n",
       "<style scoped>\n",
       "    .dataframe tbody tr th:only-of-type {\n",
       "        vertical-align: middle;\n",
       "    }\n",
       "\n",
       "    .dataframe tbody tr th {\n",
       "        vertical-align: top;\n",
       "    }\n",
       "\n",
       "    .dataframe thead th {\n",
       "        text-align: right;\n",
       "    }\n",
       "</style>\n",
       "<table border=\"1\" class=\"dataframe\">\n",
       "  <thead>\n",
       "    <tr style=\"text-align: right;\">\n",
       "      <th></th>\n",
       "      <th>TV</th>\n",
       "      <th>radio</th>\n",
       "      <th>newspaper</th>\n",
       "    </tr>\n",
       "  </thead>\n",
       "  <tbody>\n",
       "    <tr>\n",
       "      <th>0</th>\n",
       "      <td>230.1</td>\n",
       "      <td>37.8</td>\n",
       "      <td>69.2</td>\n",
       "    </tr>\n",
       "    <tr>\n",
       "      <th>1</th>\n",
       "      <td>44.5</td>\n",
       "      <td>39.3</td>\n",
       "      <td>45.1</td>\n",
       "    </tr>\n",
       "    <tr>\n",
       "      <th>2</th>\n",
       "      <td>17.2</td>\n",
       "      <td>45.9</td>\n",
       "      <td>69.3</td>\n",
       "    </tr>\n",
       "    <tr>\n",
       "      <th>3</th>\n",
       "      <td>151.5</td>\n",
       "      <td>41.3</td>\n",
       "      <td>58.5</td>\n",
       "    </tr>\n",
       "    <tr>\n",
       "      <th>4</th>\n",
       "      <td>180.8</td>\n",
       "      <td>10.8</td>\n",
       "      <td>58.4</td>\n",
       "    </tr>\n",
       "  </tbody>\n",
       "</table>\n",
       "</div>"
      ],
      "text/plain": [
       "      TV  radio  newspaper\n",
       "0  230.1   37.8       69.2\n",
       "1   44.5   39.3       45.1\n",
       "2   17.2   45.9       69.3\n",
       "3  151.5   41.3       58.5\n",
       "4  180.8   10.8       58.4"
      ]
     },
     "execution_count": 69,
     "metadata": {},
     "output_type": "execute_result"
    }
   ],
   "source": [
    "x1.head()"
   ]
  },
  {
   "cell_type": "code",
   "execution_count": 70,
   "id": "76a850c1",
   "metadata": {},
   "outputs": [],
   "source": [
    "from sklearn.preprocessing import PolynomialFeatures"
   ]
  },
  {
   "cell_type": "code",
   "execution_count": 71,
   "id": "5a820613",
   "metadata": {},
   "outputs": [],
   "source": [
    "poly_conv=PolynomialFeatures(degree=2,include_bias=False)"
   ]
  },
  {
   "cell_type": "code",
   "execution_count": 72,
   "id": "633be9ef",
   "metadata": {},
   "outputs": [
    {
     "data": {
      "text/plain": [
       "PolynomialFeatures(include_bias=False)"
      ]
     },
     "execution_count": 72,
     "metadata": {},
     "output_type": "execute_result"
    }
   ],
   "source": [
    "poly_conv.fit(x1)"
   ]
  },
  {
   "cell_type": "code",
   "execution_count": 80,
   "id": "1f3e3210",
   "metadata": {},
   "outputs": [],
   "source": [
    "poly_feat=poly_conv.transform(x1)"
   ]
  },
  {
   "cell_type": "code",
   "execution_count": 81,
   "id": "928ea2d1",
   "metadata": {},
   "outputs": [
    {
     "data": {
      "text/plain": [
       "array([2.301000e+02, 3.780000e+01, 6.920000e+01, 5.294601e+04,\n",
       "       8.697780e+03, 1.592292e+04, 1.428840e+03, 2.615760e+03,\n",
       "       4.788640e+03])"
      ]
     },
     "execution_count": 81,
     "metadata": {},
     "output_type": "execute_result"
    }
   ],
   "source": [
    "poly_feat[0]"
   ]
  },
  {
   "cell_type": "code",
   "execution_count": 77,
   "id": "4379b01a",
   "metadata": {},
   "outputs": [
    {
     "data": {
      "text/plain": [
       "TV           230.1\n",
       "radio         37.8\n",
       "newspaper     69.2\n",
       "Name: 0, dtype: float64"
      ]
     },
     "execution_count": 77,
     "metadata": {},
     "output_type": "execute_result"
    }
   ],
   "source": [
    "x1.iloc[0]"
   ]
  },
  {
   "cell_type": "code",
   "execution_count": 83,
   "id": "5f109975",
   "metadata": {},
   "outputs": [],
   "source": [
    "from sklearn.model_selection import train_test_split\n",
    "X_train, X_test, y_train, y_test = train_test_split(poly_feat, y, test_size=0.33, random_state=42)"
   ]
  },
  {
   "cell_type": "code",
   "execution_count": 84,
   "id": "750a0a39",
   "metadata": {},
   "outputs": [],
   "source": [
    "model1=LinearRegression()"
   ]
  },
  {
   "cell_type": "code",
   "execution_count": 85,
   "id": "b5db399f",
   "metadata": {},
   "outputs": [
    {
     "data": {
      "text/plain": [
       "LinearRegression()"
      ]
     },
     "execution_count": 85,
     "metadata": {},
     "output_type": "execute_result"
    }
   ],
   "source": [
    "model1.fit(X_train,y_train)"
   ]
  },
  {
   "cell_type": "code",
   "execution_count": 88,
   "id": "3bc5d2ea",
   "metadata": {},
   "outputs": [
    {
     "data": {
      "text/plain": [
       "array([17.24603859, 22.77295179, 20.32268879,  7.60414127, 24.4333482 ,\n",
       "       12.62493653, 22.78873917,  8.18760556, 12.08932207, 15.61296139,\n",
       "        7.71282896,  8.15751717, 11.95892242,  6.00119731, 10.52727132,\n",
       "       12.3118622 ,  6.71801799, 16.5933546 , 10.59190877, 19.00946479,\n",
       "       20.16728637, 13.82527608,  9.49605529, 22.09682378,  8.81942319,\n",
       "        7.64948077, 22.38341302, 12.63635147, 10.14275978,  6.03148738,\n",
       "       11.64268562, 10.08945034, 23.48605619,  9.73049928, 15.30149892,\n",
       "       21.05606379, 10.96974257, 20.14669186, 11.75091918,  6.43065028,\n",
       "       10.72904782, 12.81091878,  9.19738949,  8.93004876, 11.81837446,\n",
       "        6.98271542,  9.97913621, 14.71577553, 10.12771035, 11.27550929,\n",
       "       14.03852964, 12.12892569,  8.84093958,  7.49564621,  8.40161153,\n",
       "       10.88535411,  9.9119957 , 25.22603872,  6.80660968, 11.91241114,\n",
       "       14.55918632, 15.60572638, 12.17950838,  9.03510176, 12.34816316,\n",
       "        6.67906937])"
      ]
     },
     "execution_count": 88,
     "metadata": {},
     "output_type": "execute_result"
    }
   ],
   "source": [
    "test_predict=model1.predict(X_test)\n",
    "test_predict"
   ]
  },
  {
   "cell_type": "code",
   "execution_count": 87,
   "id": "2575502f",
   "metadata": {},
   "outputs": [],
   "source": [
    "from sklearn.metrics import mean_squared_error,mean_absolute_error"
   ]
  },
  {
   "cell_type": "code",
   "execution_count": 90,
   "id": "3bad956a",
   "metadata": {},
   "outputs": [
    {
     "data": {
      "text/plain": [
       "0.5475837919149611"
      ]
     },
     "execution_count": 90,
     "metadata": {},
     "output_type": "execute_result"
    }
   ],
   "source": [
    "MAE=mean_absolute_error(y_test,test_predict)\n",
    "MAE"
   ]
  },
  {
   "cell_type": "code",
   "execution_count": 91,
   "id": "1099415d",
   "metadata": {},
   "outputs": [
    {
     "data": {
      "text/plain": [
       "0.46030624938882525"
      ]
     },
     "execution_count": 91,
     "metadata": {},
     "output_type": "execute_result"
    }
   ],
   "source": [
    "MSE=mean_squared_error(y_test,test_predict)\n",
    "MSE"
   ]
  },
  {
   "cell_type": "code",
   "execution_count": 92,
   "id": "1df2b588",
   "metadata": {},
   "outputs": [
    {
     "data": {
      "text/plain": [
       "0.6784587307926881"
      ]
     },
     "execution_count": 92,
     "metadata": {},
     "output_type": "execute_result"
    }
   ],
   "source": [
    "RMSE=np.sqrt(MSE)\n",
    "RMSE"
   ]
  },
  {
   "cell_type": "code",
   "execution_count": 93,
   "id": "340033c9",
   "metadata": {},
   "outputs": [
    {
     "data": {
      "text/plain": [
       "array([ 5.49298090e-02,  1.42197827e-02,  1.16916818e-02, -1.12988475e-04,\n",
       "        1.08937883e-03, -1.01342723e-04,  2.76385341e-04,  1.44165732e-04,\n",
       "        8.99438936e-05])"
      ]
     },
     "execution_count": 93,
     "metadata": {},
     "output_type": "execute_result"
    }
   ],
   "source": [
    "model1.coef_"
   ]
  },
  {
   "cell_type": "markdown",
   "id": "ba359bf4",
   "metadata": {},
   "source": [
    "##### Choose the best degree for polynomial"
   ]
  },
  {
   "cell_type": "code",
   "execution_count": 94,
   "id": "b3668692",
   "metadata": {},
   "outputs": [],
   "source": [
    "train_rmse_error=[]\n",
    "test_rmse_error=[]\n",
    "for d in range(1,10):\n",
    "    poly_conv=PolynomialFeatures(degree=d,include_bias=False)\n",
    "    poly_conv.fit(x1)\n",
    "    poly_feat=poly_conv.transform(x1)\n",
    "    X_train, X_test, y_train, y_test = train_test_split(poly_feat, y, test_size=0.33, random_state=42)\n",
    "    model1=LinearRegression()\n",
    "    model1.fit(X_train,y_train)\n",
    "    train_pred=model1.predict(X_train)\n",
    "    test_pred=model1.predict(X_test)\n",
    "    train_RMSE=np.sqrt(mean_squared_error(y_train,train_pred))\n",
    "    test_RMSE=np.sqrt(mean_squared_error(y_test,test_pred))\n",
    "    train_rmse_error.append(train_RMSE)\n",
    "    test_rmse_error.append(test_RMSE)\n",
    "    "
   ]
  },
  {
   "cell_type": "code",
   "execution_count": 98,
   "id": "9ac8ec73",
   "metadata": {},
   "outputs": [
    {
     "data": {
      "text/plain": [
       "[1.5526939990087725,\n",
       " 0.6057702019226606,\n",
       " 0.47568472931843414,\n",
       " 0.37429879089337376,\n",
       " 0.24108757790309543,\n",
       " 0.19592303403529154,\n",
       " 3.5687550274609263,\n",
       " 0.11687430493156019,\n",
       " 0.11456643544470588]"
      ]
     },
     "execution_count": 98,
     "metadata": {},
     "output_type": "execute_result"
    }
   ],
   "source": [
    "train_rmse_error"
   ]
  },
  {
   "cell_type": "code",
   "execution_count": 96,
   "id": "0f765953",
   "metadata": {},
   "outputs": [
    {
     "data": {
      "text/plain": [
       "[1.9307843822347204,\n",
       " 0.6784587307926881,\n",
       " 0.5148267621811164,\n",
       " 1.2750589694784003,\n",
       " 6.4107135680760186,\n",
       " 24.716489844863645,\n",
       " 550.8086991957539,\n",
       " 8684.131700153464,\n",
       " 176580.9586467634]"
      ]
     },
     "execution_count": 96,
     "metadata": {},
     "output_type": "execute_result"
    }
   ],
   "source": [
    "test_rmse_error ##overfitting is happening 5th degree"
   ]
  },
  {
   "cell_type": "code",
   "execution_count": 97,
   "id": "3bbdd8ed",
   "metadata": {},
   "outputs": [
    {
     "data": {
      "text/plain": [
       "<matplotlib.legend.Legend at 0x2a7b8452ef0>"
      ]
     },
     "execution_count": 97,
     "metadata": {},
     "output_type": "execute_result"
    },
    {
     "data": {
      "image/png": "[encoded data removed]",
      "text/plain": [
       "<Figure size 432x288 with 1 Axes>"
      ]
     },
     "metadata": {
      "needs_background": "light"
     },
     "output_type": "display_data"
    }
   ],
   "source": [
    "import matplotlib.pyplot as plt\n",
    "plt.plot(range(1,10),train_rmse_error,label='Train_RMSE')\n",
    "plt.plot(range(1,10),test_rmse_error,label='Test_RMSE')\n",
    "plt.xlabel(\"model complexity/degree of polynomial\")\n",
    "plt.ylabel(\"RMSE\")\n",
    "plt.legend()"
   ]
  },
  {
   "cell_type": "code",
   "execution_count": 102,
   "id": "910d24c9",
   "metadata": {},
   "outputs": [
    {
     "data": {
      "text/plain": [
       "<matplotlib.legend.Legend at 0x2a7b877cda0>"
      ]
     },
     "execution_count": 102,
     "metadata": {},
     "output_type": "execute_result"
    },
    {
     "data": {
      "image/png": "[encoded data removed]",
      "text/plain": [
       "<Figure size 432x288 with 1 Axes>"
      ]
     },
     "metadata": {
      "needs_background": "light"
     },
     "output_type": "display_data"
    }
   ],
   "source": [
    "import matplotlib.pyplot as plt\n",
    "plt.plot(range(1,6),train_rmse_error[0:5],label='Train_RMSE')\n",
    "plt.plot(range(1,6),test_rmse_error[0:5],label='Test_RMSE')\n",
    "plt.xlabel(\"model complexity/degree of polynomial\")\n",
    "plt.ylabel(\"RMSE\")\n",
    "plt.legend()"
   ]
  },
  {
   "cell_type": "code",
   "execution_count": 104,
   "id": "841b9ea9",
   "metadata": {},
   "outputs": [],
   "source": [
    "final_polyconverter=PolynomialFeatures(degree=3,include_bias=False)"
   ]
  },
  {
   "cell_type": "code",
   "execution_count": 105,
   "id": "12ee20f9",
   "metadata": {},
   "outputs": [],
   "source": [
    "full_converted_x=final_polyconverter.fit_transform(x)"
   ]
  },
  {
   "cell_type": "code",
   "execution_count": 107,
   "id": "6322e395",
   "metadata": {},
   "outputs": [],
   "source": [
    "final_model=LinearRegression()"
   ]
  },
  {
   "cell_type": "code",
   "execution_count": 108,
   "id": "0f5ab8b4",
   "metadata": {},
   "outputs": [
    {
     "data": {
      "text/plain": [
       "LinearRegression()"
      ]
     },
     "execution_count": 108,
     "metadata": {},
     "output_type": "execute_result"
    }
   ],
   "source": [
    "X_train, X_test, y_train, y_test = train_test_split(full_converted_x, y, test_size=0.33, random_state=42)\n",
    "final_model.fit(X_train,y_train)"
   ]
  },
  {
   "cell_type": "code",
   "execution_count": 109,
   "id": "cfa3e8b2",
   "metadata": {},
   "outputs": [
    {
     "data": {
      "text/plain": [
       "['models\\\\poly.joblib']"
      ]
     },
     "execution_count": 109,
     "metadata": {},
     "output_type": "execute_result"
    }
   ],
   "source": [
    "model_dir='models'\n",
    "os.makedirs(model_dir,exist_ok=True)\n",
    "file_path=os.path.join(model_dir,'poly.joblib')\n",
    "dump(final_model,file_path)"
   ]
  },
  {
   "cell_type": "code",
   "execution_count": null,
   "id": "91bd20b4",
   "metadata": {},
   "outputs": [],
   "source": []
  }
 ],
 "metadata": {
  "kernelspec": {
   "display_name": "Python 3 (ipykernel)",
   "language": "python",
   "name": "python3"
  },
  "language_info": {
   "codemirror_mode": {
    "name": "ipython",
    "version": 3
   },
   "file_extension": ".py",
   "mimetype": "text/x-python",
   "name": "python",
   "nbconvert_exporter": "python",
   "pygments_lexer": "ipython3",
   "version": "3.7.0"
  }
 },
 "nbformat": 4,
 "nbformat_minor": 5
}
